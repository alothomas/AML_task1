{
 "cells": [
  {
   "cell_type": "markdown",
   "id": "4cdafb40-f26e-49c3-a3cd-2dee4011a9c3",
   "metadata": {},
   "source": [
    "# Imports and paths configuration"
   ]
  },
  {
   "cell_type": "code",
   "execution_count": 1,
   "id": "dacaf71d-c839-459f-b798-baa177210440",
   "metadata": {},
   "outputs": [],
   "source": [
    "%load_ext autoreload\n",
    "%autoreload 2"
   ]
  },
  {
   "cell_type": "code",
   "execution_count": 2,
   "id": "85efd002-d446-427c-a15b-9782fdb08b43",
   "metadata": {},
   "outputs": [
    {
     "name": "stdout",
     "output_type": "stream",
     "text": [
      "c:\\Users\\alois\\Desktop\\Advanced ML\\AML_Task_1\n"
     ]
    }
   ],
   "source": [
    "cd .."
   ]
  },
  {
   "cell_type": "code",
   "execution_count": 3,
   "id": "d2208500-c37a-40bc-a958-568f30e14964",
   "metadata": {},
   "outputs": [],
   "source": [
    "import sys\n",
    "import os\n",
    "import yaml\n",
    "from ax.service.ax_client import AxClient\n",
    "from task1.src.train import main\n",
    "from task1.utils import unflatten_dict"
   ]
  },
  {
   "cell_type": "code",
   "execution_count": 4,
   "id": "c53fc50f-9a6a-4f38-bcb3-7ae4f535e70e",
   "metadata": {},
   "outputs": [],
   "source": [
    "with open('task1/config/config_ada.yaml', 'r') as f:\n",
    "    config = yaml.safe_load(f)"
   ]
  },
  {
   "cell_type": "markdown",
   "id": "33093fd8-1cfe-4286-a0d1-e14a2c04277b",
   "metadata": {},
   "source": [
    "# Parameters choice"
   ]
  },
  {
   "cell_type": "code",
   "execution_count": 5,
   "id": "e0dadd43-6381-44f1-9a93-ba11cb2ae0d9",
   "metadata": {},
   "outputs": [],
   "source": [
    "parameters = [\n",
    "    {\n",
    "        \"name\": \"mice.estimator_params.n_estimators\",\n",
    "        \"type\": \"range\",\n",
    "        \"bounds\": [50, 200],\n",
    "        \"value_type\": 'int'\n",
    "    },\n",
    "    {\n",
    "        \"name\": \"mice.estimator_params.max_depth\",\n",
    "        \"type\": 'range',\n",
    "        'bounds': [2, 10],\n",
    "        'value_type': 'int'\n",
    "    },\n",
    "    {\n",
    "        'name': 'mice.mice_params.max_iter',\n",
    "        'type': 'range',\n",
    "        'bounds': [5, 20],\n",
    "        'value_type': 'int'\n",
    "    },\n",
    "    {\n",
    "        'name': 'mice.num_corr_features',\n",
    "        'type': 'range',\n",
    "        'bounds': [5, 150],\n",
    "        'value_type': 'int'\n",
    "    },\n",
    "    {\n",
    "        \"name\": \"lasso_alpha\", \n",
    "        \"type\": \"range\", \n",
    "        \"bounds\": [0, 10],\n",
    "        \"value_type\": 'int'\n",
    "    },\n",
    "    {\n",
    "        \"name\": \"mice.simple_params.strategy\",\n",
    "        \"type\": \"choice\",\n",
    "        \"values\": [\"mean\", \"median\", \"most_frequent\", \"constant\"],\n",
    "    },\n",
    "    {\n",
    "        \"name\": \"mice.mice_params.imputation_order\",\n",
    "        \"type\": \"choice\",\n",
    "        \"values\": [\"ascending\", \"descending\", \"roman\", \"arabic\", \"random\"],\n",
    "    },\n",
    "    {\n",
    "        \"name\": \"n_estimators\",\n",
    "        \"type\": \"range\",\n",
    "        \"bounds\": [10, 100],\n",
    "        \"value_type\": \"int\"\n",
    "    },\n",
    "    {\n",
    "        \"name\": \"learning_rate\",\n",
    "        \"type\": \"range\",\n",
    "        \"bounds\": [0.01, 1.0],\n",
    "        \"value_type\": \"float\"\n",
    "    }\n",
    "]\n"
   ]
  },
  {
   "cell_type": "markdown",
   "id": "8585ac7e-bf9f-47b0-b791-f5e24f5503d7",
   "metadata": {},
   "source": [
    "# Tuning"
   ]
  },
  {
   "cell_type": "code",
   "execution_count": 6,
   "id": "64b8b015-3203-4940-a3e5-0adfb39a2e53",
   "metadata": {},
   "outputs": [],
   "source": [
    "def evaluate_model(parameters):\n",
    "    # Change any default config here:\n",
    "    config['train']['model_type'] = 'ada'\n",
    "    \n",
    "    config['train']['preprocessing']['feature_selection']['arguments']['alpha'] = parameters['lasso_alpha']/10\n",
    "    config['train']['model_config']['n_estimators'] = parameters['n_estimators']\n",
    "    config['train']['model_config']['learning_rate'] = parameters['learning_rate']\n",
    "\n",
    "    config['train']['preprocessing']['imputation']['method'] = 'mice'\n",
    "    config['train']['preprocessing']['imputation']['arguments'] = {}\n",
    "    config['train']['preprocessing']['imputation']['arguments']['estimator_params'] = {}\n",
    "    config['train']['preprocessing']['imputation']['arguments']['mice_params'] = {}\n",
    "    config['train']['preprocessing']['imputation']['arguments']['simple_params'] = {}\n",
    "    config['train']['preprocessing']['imputation']['arguments']['num_corr_features'] = parameters['mice.num_corr_features']\n",
    "\n",
    "\n",
    "    \n",
    "    # Parse parameters\n",
    "    for param_name in parameters:\n",
    "        param_value = parameters[param_name]\n",
    "        if param_name.startswith('mice.'):\n",
    "            param_name_split = param_name.split('.')\n",
    "            if len(param_name_split) == 3:\n",
    "                config['train']['preprocessing']['imputation']['arguments'][param_name_split[1]][param_name_split[2]] = param_value\n",
    "            elif len(param_name_split) == 4:\n",
    "                config['train']['preprocessing']['imputation']['arguments'][param_name_split[1]][param_name_split[2]][param_name_split[3]] = param_value\n",
    "    \n",
    "    print(config)\n",
    "    return main(config)"
   ]
  },
  {
   "cell_type": "code",
   "execution_count": 7,
   "id": "d126c301-9a6e-414b-a430-d62fd6b18625",
   "metadata": {
    "scrolled": true
   },
   "outputs": [
    {
     "name": "stderr",
     "output_type": "stream",
     "text": [
      "[INFO 11-12 13:05:09] ax.service.ax_client: Starting optimization with verbose logging. To disable logging, set the `verbose_logging` argument to `False`. Note that float values in the logs are rounded to 6 decimal points.\n",
      "[INFO 11-12 13:05:09] ax.service.utils.instantiation: Inferred value type of ParameterType.STRING for parameter mice.simple_params.strategy. If that is not the expected value type, you can explicity specify 'value_type' ('int', 'float', 'bool' or 'str') in parameter dict.\n",
      "c:\\Users\\alois\\anaconda3\\Lib\\site-packages\\ax\\core\\parameter.py:517: UserWarning: `is_ordered` is not specified for `ChoiceParameter` \"mice.simple_params.strategy\". Defaulting to `False` for parameters of `ParameterType` STRING. To override this behavior (or avoid this warning), specify `is_ordered` during `ChoiceParameter` construction.\n",
      "  warn(\n",
      "c:\\Users\\alois\\anaconda3\\Lib\\site-packages\\ax\\core\\parameter.py:517: UserWarning: `sort_values` is not specified for `ChoiceParameter` \"mice.simple_params.strategy\". Defaulting to `False` for parameters of `ParameterType` STRING. To override this behavior (or avoid this warning), specify `sort_values` during `ChoiceParameter` construction.\n",
      "  warn(\n",
      "[INFO 11-12 13:05:09] ax.service.utils.instantiation: Inferred value type of ParameterType.STRING for parameter mice.mice_params.imputation_order. If that is not the expected value type, you can explicity specify 'value_type' ('int', 'float', 'bool' or 'str') in parameter dict.\n",
      "c:\\Users\\alois\\anaconda3\\Lib\\site-packages\\ax\\core\\parameter.py:517: UserWarning: `is_ordered` is not specified for `ChoiceParameter` \"mice.mice_params.imputation_order\". Defaulting to `False` for parameters of `ParameterType` STRING. To override this behavior (or avoid this warning), specify `is_ordered` during `ChoiceParameter` construction.\n",
      "  warn(\n",
      "c:\\Users\\alois\\anaconda3\\Lib\\site-packages\\ax\\core\\parameter.py:517: UserWarning: `sort_values` is not specified for `ChoiceParameter` \"mice.mice_params.imputation_order\". Defaulting to `False` for parameters of `ParameterType` STRING. To override this behavior (or avoid this warning), specify `sort_values` during `ChoiceParameter` construction.\n",
      "  warn(\n",
      "[INFO 11-12 13:05:09] ax.service.utils.instantiation: Created search space: SearchSpace(parameters=[RangeParameter(name='mice.estimator_params.n_estimators', parameter_type=INT, range=[50, 200]), RangeParameter(name='mice.estimator_params.max_depth', parameter_type=INT, range=[2, 10]), RangeParameter(name='mice.mice_params.max_iter', parameter_type=INT, range=[5, 20]), RangeParameter(name='mice.num_corr_features', parameter_type=INT, range=[5, 150]), RangeParameter(name='lasso_alpha', parameter_type=INT, range=[0, 10]), ChoiceParameter(name='mice.simple_params.strategy', parameter_type=STRING, values=['mean', 'median', 'most_frequent', 'constant'], is_ordered=False, sort_values=False), ChoiceParameter(name='mice.mice_params.imputation_order', parameter_type=STRING, values=['ascending', 'descending', 'roman', 'arabic', 'random'], is_ordered=False, sort_values=False), RangeParameter(name='n_estimators', parameter_type=INT, range=[10, 100]), RangeParameter(name='learning_rate', parameter_type=FLOAT, range=[0.01, 1.0])], parameter_constraints=[]).\n",
      "[INFO 11-12 13:05:09] ax.modelbridge.dispatch_utils: Using Bayesian optimization with a categorical kernel for improved performance with a large number of unordered categorical parameters.\n",
      "[INFO 11-12 13:05:09] ax.modelbridge.dispatch_utils: Calculating the number of remaining initialization trials based on num_initialization_trials=None max_initialization_trials=None num_tunable_parameters=9 num_trials=None use_batch_trials=False\n",
      "[INFO 11-12 13:05:09] ax.modelbridge.dispatch_utils: calculated num_initialization_trials=18\n",
      "[INFO 11-12 13:05:09] ax.modelbridge.dispatch_utils: num_completed_initialization_trials=0 num_remaining_initialization_trials=18\n",
      "[INFO 11-12 13:05:09] ax.modelbridge.dispatch_utils: Using Bayesian Optimization generation strategy: GenerationStrategy(name='Sobol+BO_MIXED', steps=[Sobol for 18 trials, BO_MIXED for subsequent trials]). Iterations after 18 will take longer to generate due to model-fitting.\n",
      "[INFO 11-12 13:05:09] ax.core.experiment: Attached custom parameterizations [{'mice.estimator_params.n_estimators': 100, 'mice.estimator_params.max_depth': 5, 'mice.mice_params.max_iter': 10, 'mice.num_corr_features': 50, 'lasso_alpha': 5, 'n_estimators': 50, 'learning_rate': 0.1, 'mice.simple_params.strategy': 'mean', 'mice.mice_params.imputation_order': 'descending'}] as trial 0.\n"
     ]
    },
    {
     "name": "stdout",
     "output_type": "stream",
     "text": [
      "{'train': {'data_paths': {'features': 'data/X_train.csv', 'label': 'data/y_train.csv'}, 'preprocessing': {'scale': True, 'imputation': {'method': 'mice', 'arguments': {'estimator_params': {'n_estimators': 100, 'max_depth': 5}, 'mice_params': {'max_iter': 10, 'imputation_order': 'descending'}, 'simple_params': {'strategy': 'mean'}, 'num_corr_features': 50}}, 'outliers_detection': {'method': 'isolation_forest', 'arguments': {}}, 'feature_selection': {'method': 'lasso', 'arguments': {'alpha': 0.5}}, 'execution_order': ['imputation', 'outliers_detection', 'feature_selection']}, 'model_type': 'ada', 'model_config': {'n_estimators': 50, 'learning_rate': 0.1}, 'cross_validation': 5, 'results_path': 'results/overview.csv'}, 'evaluate': {'run': True, 'data_paths': {'features': 'data/X_test.csv', 'label': 'data/y_test_ada_mice.csv'}}}\n"
     ]
    },
    {
     "name": "stderr",
     "output_type": "stream",
     "text": [
      "c:\\Users\\alois\\anaconda3\\Lib\\site-packages\\sklearn\\impute\\_iterative.py:796: ConvergenceWarning: [IterativeImputer] Early stopping criterion not reached.\n",
      "  warnings.warn(\n"
     ]
    },
    {
     "name": "stdout",
     "output_type": "stream",
     "text": [
      "Number of selected features: 39\n"
     ]
    },
    {
     "name": "stderr",
     "output_type": "stream",
     "text": [
      "c:\\Users\\alois\\anaconda3\\Lib\\site-packages\\sklearn\\impute\\_iterative.py:796: ConvergenceWarning: [IterativeImputer] Early stopping criterion not reached.\n",
      "  warnings.warn(\n"
     ]
    },
    {
     "name": "stdout",
     "output_type": "stream",
     "text": [
      "Number of selected features: 40\n"
     ]
    },
    {
     "name": "stderr",
     "output_type": "stream",
     "text": [
      "c:\\Users\\alois\\anaconda3\\Lib\\site-packages\\sklearn\\impute\\_iterative.py:796: ConvergenceWarning: [IterativeImputer] Early stopping criterion not reached.\n",
      "  warnings.warn(\n"
     ]
    },
    {
     "name": "stdout",
     "output_type": "stream",
     "text": [
      "Number of selected features: 41\n"
     ]
    },
    {
     "name": "stderr",
     "output_type": "stream",
     "text": [
      "c:\\Users\\alois\\anaconda3\\Lib\\site-packages\\sklearn\\impute\\_iterative.py:796: ConvergenceWarning: [IterativeImputer] Early stopping criterion not reached.\n",
      "  warnings.warn(\n"
     ]
    },
    {
     "name": "stdout",
     "output_type": "stream",
     "text": [
      "Number of selected features: 31\n"
     ]
    },
    {
     "name": "stderr",
     "output_type": "stream",
     "text": [
      "c:\\Users\\alois\\anaconda3\\Lib\\site-packages\\sklearn\\impute\\_iterative.py:796: ConvergenceWarning: [IterativeImputer] Early stopping criterion not reached.\n",
      "  warnings.warn(\n"
     ]
    },
    {
     "name": "stdout",
     "output_type": "stream",
     "text": [
      "Number of selected features: 33\n"
     ]
    },
    {
     "name": "stderr",
     "output_type": "stream",
     "text": [
      "c:\\Users\\alois\\anaconda3\\Lib\\site-packages\\sklearn\\impute\\_iterative.py:796: ConvergenceWarning: [IterativeImputer] Early stopping criterion not reached.\n",
      "  warnings.warn(\n"
     ]
    },
    {
     "name": "stdout",
     "output_type": "stream",
     "text": [
      "Number of selected features: 33\n"
     ]
    },
    {
     "name": "stderr",
     "output_type": "stream",
     "text": [
      "[INFO 11-12 13:10:47] ax.service.ax_client: Completed trial 0 with data: {'preprocessing_tune': (0.406673, None)}.\n",
      "[INFO 11-12 13:10:47] ax.service.ax_client: Generated new trial 1 with parameters {'mice.estimator_params.n_estimators': 122, 'mice.estimator_params.max_depth': 3, 'mice.mice_params.max_iter': 9, 'mice.num_corr_features': 66, 'lasso_alpha': 6, 'n_estimators': 22, 'learning_rate': 0.418389, 'mice.simple_params.strategy': 'constant', 'mice.mice_params.imputation_order': 'arabic'}.\n"
     ]
    },
    {
     "name": "stdout",
     "output_type": "stream",
     "text": [
      "{'train': {'data_paths': {'features': 'data/X_train.csv', 'label': 'data/y_train.csv'}, 'preprocessing': {'scale': True, 'imputation': {'method': 'mice', 'arguments': {'estimator_params': {'n_estimators': 122, 'max_depth': 3}, 'mice_params': {'max_iter': 9, 'imputation_order': 'arabic'}, 'simple_params': {'strategy': 'constant'}, 'num_corr_features': 66}}, 'outliers_detection': {'method': 'isolation_forest', 'arguments': {}}, 'feature_selection': {'method': 'lasso', 'arguments': {'alpha': 0.6}}, 'execution_order': ['imputation', 'outliers_detection', 'feature_selection']}, 'model_type': 'ada', 'model_config': {'n_estimators': 22, 'learning_rate': 0.41838921517133715}, 'cross_validation': 5, 'results_path': 'results/overview.csv'}, 'evaluate': {'run': True, 'data_paths': {'features': 'data/X_test.csv', 'label': 'data/y_test_ada_mice.csv'}}}\n"
     ]
    },
    {
     "name": "stderr",
     "output_type": "stream",
     "text": [
      "c:\\Users\\alois\\anaconda3\\Lib\\site-packages\\sklearn\\impute\\_iterative.py:796: ConvergenceWarning: [IterativeImputer] Early stopping criterion not reached.\n",
      "  warnings.warn(\n"
     ]
    },
    {
     "name": "stdout",
     "output_type": "stream",
     "text": [
      "Number of selected features: 25\n"
     ]
    },
    {
     "name": "stderr",
     "output_type": "stream",
     "text": [
      "c:\\Users\\alois\\anaconda3\\Lib\\site-packages\\sklearn\\impute\\_iterative.py:796: ConvergenceWarning: [IterativeImputer] Early stopping criterion not reached.\n",
      "  warnings.warn(\n"
     ]
    },
    {
     "name": "stdout",
     "output_type": "stream",
     "text": [
      "Number of selected features: 32\n"
     ]
    },
    {
     "name": "stderr",
     "output_type": "stream",
     "text": [
      "c:\\Users\\alois\\anaconda3\\Lib\\site-packages\\sklearn\\impute\\_iterative.py:796: ConvergenceWarning: [IterativeImputer] Early stopping criterion not reached.\n",
      "  warnings.warn(\n"
     ]
    },
    {
     "name": "stdout",
     "output_type": "stream",
     "text": [
      "Number of selected features: 27\n"
     ]
    },
    {
     "name": "stderr",
     "output_type": "stream",
     "text": [
      "c:\\Users\\alois\\anaconda3\\Lib\\site-packages\\sklearn\\impute\\_iterative.py:796: ConvergenceWarning: [IterativeImputer] Early stopping criterion not reached.\n",
      "  warnings.warn(\n"
     ]
    },
    {
     "name": "stdout",
     "output_type": "stream",
     "text": [
      "Number of selected features: 27\n"
     ]
    },
    {
     "name": "stderr",
     "output_type": "stream",
     "text": [
      "c:\\Users\\alois\\anaconda3\\Lib\\site-packages\\sklearn\\impute\\_iterative.py:796: ConvergenceWarning: [IterativeImputer] Early stopping criterion not reached.\n",
      "  warnings.warn(\n"
     ]
    },
    {
     "name": "stdout",
     "output_type": "stream",
     "text": [
      "Number of selected features: 25\n"
     ]
    },
    {
     "name": "stderr",
     "output_type": "stream",
     "text": [
      "c:\\Users\\alois\\anaconda3\\Lib\\site-packages\\sklearn\\impute\\_iterative.py:796: ConvergenceWarning: [IterativeImputer] Early stopping criterion not reached.\n",
      "  warnings.warn(\n"
     ]
    },
    {
     "name": "stdout",
     "output_type": "stream",
     "text": [
      "Number of selected features: 28\n"
     ]
    },
    {
     "name": "stderr",
     "output_type": "stream",
     "text": [
      "[INFO 11-12 13:15:01] ax.service.ax_client: Completed trial 1 with data: {'preprocessing_tune': (0.393656, None)}.\n",
      "[INFO 11-12 13:15:01] ax.service.ax_client: Generated new trial 2 with parameters {'mice.estimator_params.n_estimators': 51, 'mice.estimator_params.max_depth': 6, 'mice.mice_params.max_iter': 17, 'mice.num_corr_features': 122, 'lasso_alpha': 8, 'n_estimators': 13, 'learning_rate': 0.279207, 'mice.simple_params.strategy': 'mean', 'mice.mice_params.imputation_order': 'arabic'}.\n"
     ]
    },
    {
     "name": "stdout",
     "output_type": "stream",
     "text": [
      "{'train': {'data_paths': {'features': 'data/X_train.csv', 'label': 'data/y_train.csv'}, 'preprocessing': {'scale': True, 'imputation': {'method': 'mice', 'arguments': {'estimator_params': {'n_estimators': 51, 'max_depth': 6}, 'mice_params': {'max_iter': 17, 'imputation_order': 'arabic'}, 'simple_params': {'strategy': 'mean'}, 'num_corr_features': 122}}, 'outliers_detection': {'method': 'isolation_forest', 'arguments': {}}, 'feature_selection': {'method': 'lasso', 'arguments': {'alpha': 0.8}}, 'execution_order': ['imputation', 'outliers_detection', 'feature_selection']}, 'model_type': 'ada', 'model_config': {'n_estimators': 13, 'learning_rate': 0.2792073409352452}, 'cross_validation': 5, 'results_path': 'results/overview.csv'}, 'evaluate': {'run': True, 'data_paths': {'features': 'data/X_test.csv', 'label': 'data/y_test_ada_mice.csv'}}}\n"
     ]
    },
    {
     "name": "stderr",
     "output_type": "stream",
     "text": [
      "c:\\Users\\alois\\anaconda3\\Lib\\site-packages\\sklearn\\impute\\_iterative.py:796: ConvergenceWarning: [IterativeImputer] Early stopping criterion not reached.\n",
      "  warnings.warn(\n"
     ]
    },
    {
     "name": "stdout",
     "output_type": "stream",
     "text": [
      "Number of selected features: 21\n"
     ]
    },
    {
     "name": "stderr",
     "output_type": "stream",
     "text": [
      "c:\\Users\\alois\\anaconda3\\Lib\\site-packages\\sklearn\\impute\\_iterative.py:796: ConvergenceWarning: [IterativeImputer] Early stopping criterion not reached.\n",
      "  warnings.warn(\n"
     ]
    },
    {
     "name": "stdout",
     "output_type": "stream",
     "text": [
      "Number of selected features: 20\n"
     ]
    },
    {
     "name": "stderr",
     "output_type": "stream",
     "text": [
      "c:\\Users\\alois\\anaconda3\\Lib\\site-packages\\sklearn\\impute\\_iterative.py:796: ConvergenceWarning: [IterativeImputer] Early stopping criterion not reached.\n",
      "  warnings.warn(\n"
     ]
    },
    {
     "name": "stdout",
     "output_type": "stream",
     "text": [
      "Number of selected features: 22\n"
     ]
    },
    {
     "name": "stderr",
     "output_type": "stream",
     "text": [
      "c:\\Users\\alois\\anaconda3\\Lib\\site-packages\\sklearn\\impute\\_iterative.py:796: ConvergenceWarning: [IterativeImputer] Early stopping criterion not reached.\n",
      "  warnings.warn(\n"
     ]
    },
    {
     "name": "stdout",
     "output_type": "stream",
     "text": [
      "Number of selected features: 25\n"
     ]
    },
    {
     "name": "stderr",
     "output_type": "stream",
     "text": [
      "c:\\Users\\alois\\anaconda3\\Lib\\site-packages\\sklearn\\impute\\_iterative.py:796: ConvergenceWarning: [IterativeImputer] Early stopping criterion not reached.\n",
      "  warnings.warn(\n"
     ]
    },
    {
     "name": "stdout",
     "output_type": "stream",
     "text": [
      "Number of selected features: 20\n"
     ]
    },
    {
     "name": "stderr",
     "output_type": "stream",
     "text": [
      "c:\\Users\\alois\\anaconda3\\Lib\\site-packages\\sklearn\\impute\\_iterative.py:796: ConvergenceWarning: [IterativeImputer] Early stopping criterion not reached.\n",
      "  warnings.warn(\n"
     ]
    },
    {
     "name": "stdout",
     "output_type": "stream",
     "text": [
      "Number of selected features: 22\n"
     ]
    },
    {
     "name": "stderr",
     "output_type": "stream",
     "text": [
      "[INFO 11-12 13:31:27] ax.service.ax_client: Completed trial 2 with data: {'preprocessing_tune': (0.390728, None)}.\n",
      "[INFO 11-12 13:31:27] ax.service.ax_client: Generated new trial 3 with parameters {'mice.estimator_params.n_estimators': 173, 'mice.estimator_params.max_depth': 2, 'mice.mice_params.max_iter': 10, 'mice.num_corr_features': 115, 'lasso_alpha': 9, 'n_estimators': 64, 'learning_rate': 0.873291, 'mice.simple_params.strategy': 'most_frequent', 'mice.mice_params.imputation_order': 'descending'}.\n"
     ]
    },
    {
     "name": "stdout",
     "output_type": "stream",
     "text": [
      "{'train': {'data_paths': {'features': 'data/X_train.csv', 'label': 'data/y_train.csv'}, 'preprocessing': {'scale': True, 'imputation': {'method': 'mice', 'arguments': {'estimator_params': {'n_estimators': 173, 'max_depth': 2}, 'mice_params': {'max_iter': 10, 'imputation_order': 'descending'}, 'simple_params': {'strategy': 'most_frequent'}, 'num_corr_features': 115}}, 'outliers_detection': {'method': 'isolation_forest', 'arguments': {}}, 'feature_selection': {'method': 'lasso', 'arguments': {'alpha': 0.9}}, 'execution_order': ['imputation', 'outliers_detection', 'feature_selection']}, 'model_type': 'ada', 'model_config': {'n_estimators': 64, 'learning_rate': 0.8732905666623264}, 'cross_validation': 5, 'results_path': 'results/overview.csv'}, 'evaluate': {'run': True, 'data_paths': {'features': 'data/X_test.csv', 'label': 'data/y_test_ada_mice.csv'}}}\n"
     ]
    },
    {
     "name": "stderr",
     "output_type": "stream",
     "text": [
      "c:\\Users\\alois\\anaconda3\\Lib\\site-packages\\sklearn\\impute\\_iterative.py:796: ConvergenceWarning: [IterativeImputer] Early stopping criterion not reached.\n",
      "  warnings.warn(\n"
     ]
    },
    {
     "name": "stdout",
     "output_type": "stream",
     "text": [
      "Number of selected features: 38\n"
     ]
    },
    {
     "name": "stderr",
     "output_type": "stream",
     "text": [
      "c:\\Users\\alois\\anaconda3\\Lib\\site-packages\\sklearn\\impute\\_iterative.py:796: ConvergenceWarning: [IterativeImputer] Early stopping criterion not reached.\n",
      "  warnings.warn(\n"
     ]
    },
    {
     "name": "stdout",
     "output_type": "stream",
     "text": [
      "Number of selected features: 43\n"
     ]
    },
    {
     "name": "stderr",
     "output_type": "stream",
     "text": [
      "c:\\Users\\alois\\anaconda3\\Lib\\site-packages\\sklearn\\impute\\_iterative.py:796: ConvergenceWarning: [IterativeImputer] Early stopping criterion not reached.\n",
      "  warnings.warn(\n"
     ]
    },
    {
     "name": "stdout",
     "output_type": "stream",
     "text": [
      "Number of selected features: 37\n"
     ]
    },
    {
     "name": "stderr",
     "output_type": "stream",
     "text": [
      "c:\\Users\\alois\\anaconda3\\Lib\\site-packages\\sklearn\\impute\\_iterative.py:796: ConvergenceWarning: [IterativeImputer] Early stopping criterion not reached.\n",
      "  warnings.warn(\n"
     ]
    },
    {
     "name": "stdout",
     "output_type": "stream",
     "text": [
      "Number of selected features: 44\n"
     ]
    },
    {
     "name": "stderr",
     "output_type": "stream",
     "text": [
      "c:\\Users\\alois\\anaconda3\\Lib\\site-packages\\sklearn\\impute\\_iterative.py:796: ConvergenceWarning: [IterativeImputer] Early stopping criterion not reached.\n",
      "  warnings.warn(\n"
     ]
    },
    {
     "name": "stdout",
     "output_type": "stream",
     "text": [
      "Number of selected features: 30\n"
     ]
    },
    {
     "name": "stderr",
     "output_type": "stream",
     "text": [
      "c:\\Users\\alois\\anaconda3\\Lib\\site-packages\\sklearn\\impute\\_iterative.py:796: ConvergenceWarning: [IterativeImputer] Early stopping criterion not reached.\n",
      "  warnings.warn(\n"
     ]
    },
    {
     "name": "stdout",
     "output_type": "stream",
     "text": [
      "Number of selected features: 41\n"
     ]
    },
    {
     "name": "stderr",
     "output_type": "stream",
     "text": [
      "[INFO 11-12 13:38:21] ax.service.ax_client: Completed trial 3 with data: {'preprocessing_tune': (0.420403, None)}.\n",
      "[INFO 11-12 13:38:21] ax.service.ax_client: Generated new trial 4 with parameters {'mice.estimator_params.n_estimators': 83, 'mice.estimator_params.max_depth': 6, 'mice.mice_params.max_iter': 16, 'mice.num_corr_features': 22, 'lasso_alpha': 3, 'n_estimators': 58, 'learning_rate': 0.765872, 'mice.simple_params.strategy': 'median', 'mice.mice_params.imputation_order': 'descending'}.\n"
     ]
    },
    {
     "name": "stdout",
     "output_type": "stream",
     "text": [
      "{'train': {'data_paths': {'features': 'data/X_train.csv', 'label': 'data/y_train.csv'}, 'preprocessing': {'scale': True, 'imputation': {'method': 'mice', 'arguments': {'estimator_params': {'n_estimators': 83, 'max_depth': 6}, 'mice_params': {'max_iter': 16, 'imputation_order': 'descending'}, 'simple_params': {'strategy': 'median'}, 'num_corr_features': 22}}, 'outliers_detection': {'method': 'isolation_forest', 'arguments': {}}, 'feature_selection': {'method': 'lasso', 'arguments': {'alpha': 0.3}}, 'execution_order': ['imputation', 'outliers_detection', 'feature_selection']}, 'model_type': 'ada', 'model_config': {'n_estimators': 58, 'learning_rate': 0.7658719615172594}, 'cross_validation': 5, 'results_path': 'results/overview.csv'}, 'evaluate': {'run': True, 'data_paths': {'features': 'data/X_test.csv', 'label': 'data/y_test_ada_mice.csv'}}}\n"
     ]
    },
    {
     "name": "stderr",
     "output_type": "stream",
     "text": [
      "c:\\Users\\alois\\anaconda3\\Lib\\site-packages\\sklearn\\impute\\_iterative.py:796: ConvergenceWarning: [IterativeImputer] Early stopping criterion not reached.\n",
      "  warnings.warn(\n"
     ]
    },
    {
     "name": "stdout",
     "output_type": "stream",
     "text": [
      "Number of selected features: 96\n"
     ]
    },
    {
     "name": "stderr",
     "output_type": "stream",
     "text": [
      "c:\\Users\\alois\\anaconda3\\Lib\\site-packages\\sklearn\\impute\\_iterative.py:796: ConvergenceWarning: [IterativeImputer] Early stopping criterion not reached.\n",
      "  warnings.warn(\n"
     ]
    },
    {
     "name": "stdout",
     "output_type": "stream",
     "text": [
      "Number of selected features: 103\n"
     ]
    },
    {
     "name": "stderr",
     "output_type": "stream",
     "text": [
      "c:\\Users\\alois\\anaconda3\\Lib\\site-packages\\sklearn\\impute\\_iterative.py:796: ConvergenceWarning: [IterativeImputer] Early stopping criterion not reached.\n",
      "  warnings.warn(\n"
     ]
    },
    {
     "name": "stdout",
     "output_type": "stream",
     "text": [
      "Number of selected features: 101\n"
     ]
    },
    {
     "name": "stderr",
     "output_type": "stream",
     "text": [
      "c:\\Users\\alois\\anaconda3\\Lib\\site-packages\\sklearn\\impute\\_iterative.py:796: ConvergenceWarning: [IterativeImputer] Early stopping criterion not reached.\n",
      "  warnings.warn(\n"
     ]
    },
    {
     "name": "stdout",
     "output_type": "stream",
     "text": [
      "Number of selected features: 90\n"
     ]
    },
    {
     "name": "stderr",
     "output_type": "stream",
     "text": [
      "c:\\Users\\alois\\anaconda3\\Lib\\site-packages\\sklearn\\impute\\_iterative.py:796: ConvergenceWarning: [IterativeImputer] Early stopping criterion not reached.\n",
      "  warnings.warn(\n"
     ]
    },
    {
     "name": "stdout",
     "output_type": "stream",
     "text": [
      "Number of selected features: 106\n"
     ]
    },
    {
     "name": "stderr",
     "output_type": "stream",
     "text": [
      "c:\\Users\\alois\\anaconda3\\Lib\\site-packages\\sklearn\\impute\\_iterative.py:796: ConvergenceWarning: [IterativeImputer] Early stopping criterion not reached.\n",
      "  warnings.warn(\n"
     ]
    },
    {
     "name": "stdout",
     "output_type": "stream",
     "text": [
      "Number of selected features: 88\n"
     ]
    },
    {
     "name": "stderr",
     "output_type": "stream",
     "text": [
      "[INFO 11-12 13:44:33] ax.service.ax_client: Completed trial 4 with data: {'preprocessing_tune': (0.408745, None)}.\n",
      "[INFO 11-12 13:44:33] ax.service.ax_client: Generated new trial 5 with parameters {'mice.estimator_params.n_estimators': 111, 'mice.estimator_params.max_depth': 4, 'mice.mice_params.max_iter': 12, 'mice.num_corr_features': 63, 'lasso_alpha': 6, 'n_estimators': 94, 'learning_rate': 0.960135, 'mice.simple_params.strategy': 'median', 'mice.mice_params.imputation_order': 'random'}.\n"
     ]
    },
    {
     "name": "stdout",
     "output_type": "stream",
     "text": [
      "{'train': {'data_paths': {'features': 'data/X_train.csv', 'label': 'data/y_train.csv'}, 'preprocessing': {'scale': True, 'imputation': {'method': 'mice', 'arguments': {'estimator_params': {'n_estimators': 111, 'max_depth': 4}, 'mice_params': {'max_iter': 12, 'imputation_order': 'random'}, 'simple_params': {'strategy': 'median'}, 'num_corr_features': 63}}, 'outliers_detection': {'method': 'isolation_forest', 'arguments': {}}, 'feature_selection': {'method': 'lasso', 'arguments': {'alpha': 0.6}}, 'execution_order': ['imputation', 'outliers_detection', 'feature_selection']}, 'model_type': 'ada', 'model_config': {'n_estimators': 94, 'learning_rate': 0.9601347304973751}, 'cross_validation': 5, 'results_path': 'results/overview.csv'}, 'evaluate': {'run': True, 'data_paths': {'features': 'data/X_test.csv', 'label': 'data/y_test_ada_mice.csv'}}}\n"
     ]
    },
    {
     "name": "stderr",
     "output_type": "stream",
     "text": [
      "c:\\Users\\alois\\anaconda3\\Lib\\site-packages\\sklearn\\impute\\_iterative.py:796: ConvergenceWarning: [IterativeImputer] Early stopping criterion not reached.\n",
      "  warnings.warn(\n"
     ]
    },
    {
     "name": "stdout",
     "output_type": "stream",
     "text": [
      "Number of selected features: 28\n"
     ]
    },
    {
     "name": "stderr",
     "output_type": "stream",
     "text": [
      "c:\\Users\\alois\\anaconda3\\Lib\\site-packages\\sklearn\\impute\\_iterative.py:796: ConvergenceWarning: [IterativeImputer] Early stopping criterion not reached.\n",
      "  warnings.warn(\n"
     ]
    },
    {
     "name": "stdout",
     "output_type": "stream",
     "text": [
      "Number of selected features: 27\n"
     ]
    },
    {
     "name": "stderr",
     "output_type": "stream",
     "text": [
      "c:\\Users\\alois\\anaconda3\\Lib\\site-packages\\sklearn\\impute\\_iterative.py:796: ConvergenceWarning: [IterativeImputer] Early stopping criterion not reached.\n",
      "  warnings.warn(\n"
     ]
    },
    {
     "name": "stdout",
     "output_type": "stream",
     "text": [
      "Number of selected features: 28\n"
     ]
    },
    {
     "name": "stderr",
     "output_type": "stream",
     "text": [
      "c:\\Users\\alois\\anaconda3\\Lib\\site-packages\\sklearn\\impute\\_iterative.py:796: ConvergenceWarning: [IterativeImputer] Early stopping criterion not reached.\n",
      "  warnings.warn(\n"
     ]
    },
    {
     "name": "stdout",
     "output_type": "stream",
     "text": [
      "Number of selected features: 24\n"
     ]
    },
    {
     "name": "stderr",
     "output_type": "stream",
     "text": [
      "c:\\Users\\alois\\anaconda3\\Lib\\site-packages\\sklearn\\impute\\_iterative.py:796: ConvergenceWarning: [IterativeImputer] Early stopping criterion not reached.\n",
      "  warnings.warn(\n"
     ]
    },
    {
     "name": "stdout",
     "output_type": "stream",
     "text": [
      "Number of selected features: 24\n"
     ]
    },
    {
     "name": "stderr",
     "output_type": "stream",
     "text": [
      "c:\\Users\\alois\\anaconda3\\Lib\\site-packages\\sklearn\\impute\\_iterative.py:796: ConvergenceWarning: [IterativeImputer] Early stopping criterion not reached.\n",
      "  warnings.warn(\n"
     ]
    },
    {
     "name": "stdout",
     "output_type": "stream",
     "text": [
      "Number of selected features: 27\n"
     ]
    },
    {
     "name": "stderr",
     "output_type": "stream",
     "text": [
      "[INFO 11-12 13:51:44] ax.service.ax_client: Completed trial 5 with data: {'preprocessing_tune': (0.416261, None)}.\n",
      "[INFO 11-12 13:51:45] ax.service.ax_client: Generated new trial 6 with parameters {'mice.estimator_params.n_estimators': 126, 'mice.estimator_params.max_depth': 7, 'mice.mice_params.max_iter': 19, 'mice.num_corr_features': 86, 'lasso_alpha': 7, 'n_estimators': 62, 'learning_rate': 0.639519, 'mice.simple_params.strategy': 'mean', 'mice.mice_params.imputation_order': 'descending'}.\n"
     ]
    },
    {
     "name": "stdout",
     "output_type": "stream",
     "text": [
      "{'train': {'data_paths': {'features': 'data/X_train.csv', 'label': 'data/y_train.csv'}, 'preprocessing': {'scale': True, 'imputation': {'method': 'mice', 'arguments': {'estimator_params': {'n_estimators': 126, 'max_depth': 7}, 'mice_params': {'max_iter': 19, 'imputation_order': 'descending'}, 'simple_params': {'strategy': 'mean'}, 'num_corr_features': 86}}, 'outliers_detection': {'method': 'isolation_forest', 'arguments': {}}, 'feature_selection': {'method': 'lasso', 'arguments': {'alpha': 0.7}}, 'execution_order': ['imputation', 'outliers_detection', 'feature_selection']}, 'model_type': 'ada', 'model_config': {'n_estimators': 62, 'learning_rate': 0.6395189069211483}, 'cross_validation': 5, 'results_path': 'results/overview.csv'}, 'evaluate': {'run': True, 'data_paths': {'features': 'data/X_test.csv', 'label': 'data/y_test_ada_mice.csv'}}}\n"
     ]
    },
    {
     "name": "stderr",
     "output_type": "stream",
     "text": [
      "c:\\Users\\alois\\anaconda3\\Lib\\site-packages\\sklearn\\impute\\_iterative.py:796: ConvergenceWarning: [IterativeImputer] Early stopping criterion not reached.\n",
      "  warnings.warn(\n"
     ]
    },
    {
     "name": "stdout",
     "output_type": "stream",
     "text": [
      "Number of selected features: 24\n"
     ]
    },
    {
     "name": "stderr",
     "output_type": "stream",
     "text": [
      "c:\\Users\\alois\\anaconda3\\Lib\\site-packages\\sklearn\\impute\\_iterative.py:796: ConvergenceWarning: [IterativeImputer] Early stopping criterion not reached.\n",
      "  warnings.warn(\n"
     ]
    },
    {
     "name": "stdout",
     "output_type": "stream",
     "text": [
      "Number of selected features: 23\n"
     ]
    },
    {
     "name": "stderr",
     "output_type": "stream",
     "text": [
      "c:\\Users\\alois\\anaconda3\\Lib\\site-packages\\sklearn\\impute\\_iterative.py:796: ConvergenceWarning: [IterativeImputer] Early stopping criterion not reached.\n",
      "  warnings.warn(\n"
     ]
    },
    {
     "name": "stdout",
     "output_type": "stream",
     "text": [
      "Number of selected features: 23\n"
     ]
    },
    {
     "name": "stderr",
     "output_type": "stream",
     "text": [
      "c:\\Users\\alois\\anaconda3\\Lib\\site-packages\\sklearn\\impute\\_iterative.py:796: ConvergenceWarning: [IterativeImputer] Early stopping criterion not reached.\n",
      "  warnings.warn(\n"
     ]
    },
    {
     "name": "stdout",
     "output_type": "stream",
     "text": [
      "Number of selected features: 25\n"
     ]
    },
    {
     "name": "stderr",
     "output_type": "stream",
     "text": [
      "c:\\Users\\alois\\anaconda3\\Lib\\site-packages\\sklearn\\impute\\_iterative.py:796: ConvergenceWarning: [IterativeImputer] Early stopping criterion not reached.\n",
      "  warnings.warn(\n"
     ]
    },
    {
     "name": "stdout",
     "output_type": "stream",
     "text": [
      "Number of selected features: 22\n"
     ]
    },
    {
     "name": "stderr",
     "output_type": "stream",
     "text": [
      "c:\\Users\\alois\\anaconda3\\Lib\\site-packages\\sklearn\\impute\\_iterative.py:796: ConvergenceWarning: [IterativeImputer] Early stopping criterion not reached.\n",
      "  warnings.warn(\n"
     ]
    },
    {
     "name": "stdout",
     "output_type": "stream",
     "text": [
      "Number of selected features: 24\n"
     ]
    },
    {
     "name": "stderr",
     "output_type": "stream",
     "text": [
      "[INFO 11-12 14:29:00] ax.service.ax_client: Completed trial 6 with data: {'preprocessing_tune': (0.421865, None)}.\n",
      "[INFO 11-12 14:29:00] ax.service.ax_client: Generated new trial 7 with parameters {'mice.estimator_params.n_estimators': 51, 'mice.estimator_params.max_depth': 3, 'mice.mice_params.max_iter': 17, 'mice.num_corr_features': 112, 'lasso_alpha': 3, 'n_estimators': 33, 'learning_rate': 0.836376, 'mice.simple_params.strategy': 'mean', 'mice.mice_params.imputation_order': 'random'}.\n"
     ]
    },
    {
     "name": "stdout",
     "output_type": "stream",
     "text": [
      "{'train': {'data_paths': {'features': 'data/X_train.csv', 'label': 'data/y_train.csv'}, 'preprocessing': {'scale': True, 'imputation': {'method': 'mice', 'arguments': {'estimator_params': {'n_estimators': 51, 'max_depth': 3}, 'mice_params': {'max_iter': 17, 'imputation_order': 'random'}, 'simple_params': {'strategy': 'mean'}, 'num_corr_features': 112}}, 'outliers_detection': {'method': 'isolation_forest', 'arguments': {}}, 'feature_selection': {'method': 'lasso', 'arguments': {'alpha': 0.3}}, 'execution_order': ['imputation', 'outliers_detection', 'feature_selection']}, 'model_type': 'ada', 'model_config': {'n_estimators': 33, 'learning_rate': 0.8363762765936553}, 'cross_validation': 5, 'results_path': 'results/overview.csv'}, 'evaluate': {'run': True, 'data_paths': {'features': 'data/X_test.csv', 'label': 'data/y_test_ada_mice.csv'}}}\n"
     ]
    },
    {
     "name": "stderr",
     "output_type": "stream",
     "text": [
      "c:\\Users\\alois\\anaconda3\\Lib\\site-packages\\sklearn\\impute\\_iterative.py:796: ConvergenceWarning: [IterativeImputer] Early stopping criterion not reached.\n",
      "  warnings.warn(\n"
     ]
    },
    {
     "name": "stdout",
     "output_type": "stream",
     "text": [
      "Number of selected features: 98\n"
     ]
    },
    {
     "name": "stderr",
     "output_type": "stream",
     "text": [
      "c:\\Users\\alois\\anaconda3\\Lib\\site-packages\\sklearn\\impute\\_iterative.py:796: ConvergenceWarning: [IterativeImputer] Early stopping criterion not reached.\n",
      "  warnings.warn(\n"
     ]
    },
    {
     "name": "stdout",
     "output_type": "stream",
     "text": [
      "Number of selected features: 102\n"
     ]
    },
    {
     "name": "stderr",
     "output_type": "stream",
     "text": [
      "c:\\Users\\alois\\anaconda3\\Lib\\site-packages\\sklearn\\impute\\_iterative.py:796: ConvergenceWarning: [IterativeImputer] Early stopping criterion not reached.\n",
      "  warnings.warn(\n"
     ]
    },
    {
     "name": "stdout",
     "output_type": "stream",
     "text": [
      "Number of selected features: 102\n"
     ]
    },
    {
     "name": "stderr",
     "output_type": "stream",
     "text": [
      "c:\\Users\\alois\\anaconda3\\Lib\\site-packages\\sklearn\\impute\\_iterative.py:796: ConvergenceWarning: [IterativeImputer] Early stopping criterion not reached.\n",
      "  warnings.warn(\n"
     ]
    },
    {
     "name": "stdout",
     "output_type": "stream",
     "text": [
      "Number of selected features: 92\n"
     ]
    },
    {
     "name": "stderr",
     "output_type": "stream",
     "text": [
      "c:\\Users\\alois\\anaconda3\\Lib\\site-packages\\sklearn\\impute\\_iterative.py:796: ConvergenceWarning: [IterativeImputer] Early stopping criterion not reached.\n",
      "  warnings.warn(\n"
     ]
    },
    {
     "name": "stdout",
     "output_type": "stream",
     "text": [
      "Number of selected features: 106\n"
     ]
    },
    {
     "name": "stderr",
     "output_type": "stream",
     "text": [
      "c:\\Users\\alois\\anaconda3\\Lib\\site-packages\\sklearn\\impute\\_iterative.py:796: ConvergenceWarning: [IterativeImputer] Early stopping criterion not reached.\n",
      "  warnings.warn(\n"
     ]
    },
    {
     "name": "stdout",
     "output_type": "stream",
     "text": [
      "Number of selected features: 84\n"
     ]
    },
    {
     "name": "stderr",
     "output_type": "stream",
     "text": [
      "[INFO 11-12 14:35:11] ax.service.ax_client: Completed trial 7 with data: {'preprocessing_tune': (0.394254, None)}.\n",
      "[INFO 11-12 14:35:11] ax.service.ax_client: Generated new trial 8 with parameters {'mice.estimator_params.n_estimators': 157, 'mice.estimator_params.max_depth': 9, 'mice.mice_params.max_iter': 8, 'mice.num_corr_features': 62, 'lasso_alpha': 3, 'n_estimators': 68, 'learning_rate': 0.101642, 'mice.simple_params.strategy': 'median', 'mice.mice_params.imputation_order': 'descending'}.\n"
     ]
    },
    {
     "name": "stdout",
     "output_type": "stream",
     "text": [
      "{'train': {'data_paths': {'features': 'data/X_train.csv', 'label': 'data/y_train.csv'}, 'preprocessing': {'scale': True, 'imputation': {'method': 'mice', 'arguments': {'estimator_params': {'n_estimators': 157, 'max_depth': 9}, 'mice_params': {'max_iter': 8, 'imputation_order': 'descending'}, 'simple_params': {'strategy': 'median'}, 'num_corr_features': 62}}, 'outliers_detection': {'method': 'isolation_forest', 'arguments': {}}, 'feature_selection': {'method': 'lasso', 'arguments': {'alpha': 0.3}}, 'execution_order': ['imputation', 'outliers_detection', 'feature_selection']}, 'model_type': 'ada', 'model_config': {'n_estimators': 68, 'learning_rate': 0.10164201835170388}, 'cross_validation': 5, 'results_path': 'results/overview.csv'}, 'evaluate': {'run': True, 'data_paths': {'features': 'data/X_test.csv', 'label': 'data/y_test_ada_mice.csv'}}}\n"
     ]
    },
    {
     "name": "stderr",
     "output_type": "stream",
     "text": [
      "c:\\Users\\alois\\anaconda3\\Lib\\site-packages\\sklearn\\impute\\_iterative.py:796: ConvergenceWarning: [IterativeImputer] Early stopping criterion not reached.\n",
      "  warnings.warn(\n"
     ]
    },
    {
     "name": "stdout",
     "output_type": "stream",
     "text": [
      "Number of selected features: 98\n"
     ]
    },
    {
     "name": "stderr",
     "output_type": "stream",
     "text": [
      "c:\\Users\\alois\\anaconda3\\Lib\\site-packages\\sklearn\\impute\\_iterative.py:796: ConvergenceWarning: [IterativeImputer] Early stopping criterion not reached.\n",
      "  warnings.warn(\n"
     ]
    },
    {
     "name": "stdout",
     "output_type": "stream",
     "text": [
      "Number of selected features: 104\n"
     ]
    },
    {
     "name": "stderr",
     "output_type": "stream",
     "text": [
      "c:\\Users\\alois\\anaconda3\\Lib\\site-packages\\sklearn\\impute\\_iterative.py:796: ConvergenceWarning: [IterativeImputer] Early stopping criterion not reached.\n",
      "  warnings.warn(\n"
     ]
    },
    {
     "name": "stdout",
     "output_type": "stream",
     "text": [
      "Number of selected features: 104\n"
     ]
    },
    {
     "name": "stderr",
     "output_type": "stream",
     "text": [
      "c:\\Users\\alois\\anaconda3\\Lib\\site-packages\\sklearn\\impute\\_iterative.py:796: ConvergenceWarning: [IterativeImputer] Early stopping criterion not reached.\n",
      "  warnings.warn(\n"
     ]
    },
    {
     "name": "stdout",
     "output_type": "stream",
     "text": [
      "Number of selected features: 101\n"
     ]
    },
    {
     "name": "stderr",
     "output_type": "stream",
     "text": [
      "c:\\Users\\alois\\anaconda3\\Lib\\site-packages\\sklearn\\impute\\_iterative.py:796: ConvergenceWarning: [IterativeImputer] Early stopping criterion not reached.\n",
      "  warnings.warn(\n"
     ]
    },
    {
     "name": "stdout",
     "output_type": "stream",
     "text": [
      "Number of selected features: 105\n"
     ]
    },
    {
     "name": "stderr",
     "output_type": "stream",
     "text": [
      "c:\\Users\\alois\\anaconda3\\Lib\\site-packages\\sklearn\\impute\\_iterative.py:796: ConvergenceWarning: [IterativeImputer] Early stopping criterion not reached.\n",
      "  warnings.warn(\n"
     ]
    },
    {
     "name": "stdout",
     "output_type": "stream",
     "text": [
      "Number of selected features: 80\n"
     ]
    },
    {
     "name": "stderr",
     "output_type": "stream",
     "text": [
      "[INFO 11-12 14:48:23] ax.service.ax_client: Completed trial 8 with data: {'preprocessing_tune': (0.41821, None)}.\n",
      "[INFO 11-12 14:48:23] ax.service.ax_client: Generated new trial 9 with parameters {'mice.estimator_params.n_estimators': 130, 'mice.estimator_params.max_depth': 7, 'mice.mice_params.max_iter': 16, 'mice.num_corr_features': 129, 'lasso_alpha': 7, 'n_estimators': 88, 'learning_rate': 0.619179, 'mice.simple_params.strategy': 'constant', 'mice.mice_params.imputation_order': 'ascending'}.\n"
     ]
    },
    {
     "name": "stdout",
     "output_type": "stream",
     "text": [
      "{'train': {'data_paths': {'features': 'data/X_train.csv', 'label': 'data/y_train.csv'}, 'preprocessing': {'scale': True, 'imputation': {'method': 'mice', 'arguments': {'estimator_params': {'n_estimators': 130, 'max_depth': 7}, 'mice_params': {'max_iter': 16, 'imputation_order': 'ascending'}, 'simple_params': {'strategy': 'constant'}, 'num_corr_features': 129}}, 'outliers_detection': {'method': 'isolation_forest', 'arguments': {}}, 'feature_selection': {'method': 'lasso', 'arguments': {'alpha': 0.7}}, 'execution_order': ['imputation', 'outliers_detection', 'feature_selection']}, 'model_type': 'ada', 'model_config': {'n_estimators': 88, 'learning_rate': 0.6191790395416319}, 'cross_validation': 5, 'results_path': 'results/overview.csv'}, 'evaluate': {'run': True, 'data_paths': {'features': 'data/X_test.csv', 'label': 'data/y_test_ada_mice.csv'}}}\n"
     ]
    },
    {
     "name": "stderr",
     "output_type": "stream",
     "text": [
      "c:\\Users\\alois\\anaconda3\\Lib\\site-packages\\sklearn\\impute\\_iterative.py:796: ConvergenceWarning: [IterativeImputer] Early stopping criterion not reached.\n",
      "  warnings.warn(\n"
     ]
    },
    {
     "name": "stdout",
     "output_type": "stream",
     "text": [
      "Number of selected features: 24\n"
     ]
    },
    {
     "name": "stderr",
     "output_type": "stream",
     "text": [
      "c:\\Users\\alois\\anaconda3\\Lib\\site-packages\\sklearn\\impute\\_iterative.py:796: ConvergenceWarning: [IterativeImputer] Early stopping criterion not reached.\n",
      "  warnings.warn(\n"
     ]
    },
    {
     "name": "stdout",
     "output_type": "stream",
     "text": [
      "Number of selected features: 26\n"
     ]
    },
    {
     "name": "stderr",
     "output_type": "stream",
     "text": [
      "c:\\Users\\alois\\anaconda3\\Lib\\site-packages\\sklearn\\impute\\_iterative.py:796: ConvergenceWarning: [IterativeImputer] Early stopping criterion not reached.\n",
      "  warnings.warn(\n"
     ]
    },
    {
     "name": "stdout",
     "output_type": "stream",
     "text": [
      "Number of selected features: 23\n"
     ]
    },
    {
     "name": "stderr",
     "output_type": "stream",
     "text": [
      "c:\\Users\\alois\\anaconda3\\Lib\\site-packages\\sklearn\\impute\\_iterative.py:796: ConvergenceWarning: [IterativeImputer] Early stopping criterion not reached.\n",
      "  warnings.warn(\n"
     ]
    },
    {
     "name": "stdout",
     "output_type": "stream",
     "text": [
      "Number of selected features: 22\n"
     ]
    },
    {
     "name": "stderr",
     "output_type": "stream",
     "text": [
      "c:\\Users\\alois\\anaconda3\\Lib\\site-packages\\sklearn\\impute\\_iterative.py:796: ConvergenceWarning: [IterativeImputer] Early stopping criterion not reached.\n",
      "  warnings.warn(\n"
     ]
    },
    {
     "name": "stdout",
     "output_type": "stream",
     "text": [
      "Number of selected features: 20\n"
     ]
    },
    {
     "name": "stderr",
     "output_type": "stream",
     "text": [
      "c:\\Users\\alois\\anaconda3\\Lib\\site-packages\\sklearn\\impute\\_iterative.py:796: ConvergenceWarning: [IterativeImputer] Early stopping criterion not reached.\n",
      "  warnings.warn(\n"
     ]
    },
    {
     "name": "stdout",
     "output_type": "stream",
     "text": [
      "Number of selected features: 24\n"
     ]
    },
    {
     "name": "stderr",
     "output_type": "stream",
     "text": [
      "[INFO 11-12 15:31:59] ax.service.ax_client: Completed trial 9 with data: {'preprocessing_tune': (0.41095, None)}.\n",
      "[INFO 11-12 15:31:59] ax.service.ax_client: Generated new trial 10 with parameters {'mice.estimator_params.n_estimators': 149, 'mice.estimator_params.max_depth': 5, 'mice.mice_params.max_iter': 8, 'mice.num_corr_features': 73, 'lasso_alpha': 7, 'n_estimators': 91, 'learning_rate': 0.389035, 'mice.simple_params.strategy': 'mean', 'mice.mice_params.imputation_order': 'roman'}.\n"
     ]
    },
    {
     "name": "stdout",
     "output_type": "stream",
     "text": [
      "{'train': {'data_paths': {'features': 'data/X_train.csv', 'label': 'data/y_train.csv'}, 'preprocessing': {'scale': True, 'imputation': {'method': 'mice', 'arguments': {'estimator_params': {'n_estimators': 149, 'max_depth': 5}, 'mice_params': {'max_iter': 8, 'imputation_order': 'roman'}, 'simple_params': {'strategy': 'mean'}, 'num_corr_features': 73}}, 'outliers_detection': {'method': 'isolation_forest', 'arguments': {}}, 'feature_selection': {'method': 'lasso', 'arguments': {'alpha': 0.7}}, 'execution_order': ['imputation', 'outliers_detection', 'feature_selection']}, 'model_type': 'ada', 'model_config': {'n_estimators': 91, 'learning_rate': 0.3890345442947}, 'cross_validation': 5, 'results_path': 'results/overview.csv'}, 'evaluate': {'run': True, 'data_paths': {'features': 'data/X_test.csv', 'label': 'data/y_test_ada_mice.csv'}}}\n"
     ]
    },
    {
     "name": "stderr",
     "output_type": "stream",
     "text": [
      "c:\\Users\\alois\\anaconda3\\Lib\\site-packages\\sklearn\\impute\\_iterative.py:796: ConvergenceWarning: [IterativeImputer] Early stopping criterion not reached.\n",
      "  warnings.warn(\n"
     ]
    },
    {
     "name": "stdout",
     "output_type": "stream",
     "text": [
      "Number of selected features: 23\n"
     ]
    },
    {
     "name": "stderr",
     "output_type": "stream",
     "text": [
      "c:\\Users\\alois\\anaconda3\\Lib\\site-packages\\sklearn\\impute\\_iterative.py:796: ConvergenceWarning: [IterativeImputer] Early stopping criterion not reached.\n",
      "  warnings.warn(\n"
     ]
    },
    {
     "name": "stdout",
     "output_type": "stream",
     "text": [
      "Number of selected features: 24\n"
     ]
    },
    {
     "name": "stderr",
     "output_type": "stream",
     "text": [
      "c:\\Users\\alois\\anaconda3\\Lib\\site-packages\\sklearn\\impute\\_iterative.py:796: ConvergenceWarning: [IterativeImputer] Early stopping criterion not reached.\n",
      "  warnings.warn(\n"
     ]
    },
    {
     "name": "stdout",
     "output_type": "stream",
     "text": [
      "Number of selected features: 23\n"
     ]
    },
    {
     "name": "stderr",
     "output_type": "stream",
     "text": [
      "c:\\Users\\alois\\anaconda3\\Lib\\site-packages\\sklearn\\impute\\_iterative.py:796: ConvergenceWarning: [IterativeImputer] Early stopping criterion not reached.\n",
      "  warnings.warn(\n"
     ]
    },
    {
     "name": "stdout",
     "output_type": "stream",
     "text": [
      "Number of selected features: 20\n"
     ]
    },
    {
     "name": "stderr",
     "output_type": "stream",
     "text": [
      "c:\\Users\\alois\\anaconda3\\Lib\\site-packages\\sklearn\\impute\\_iterative.py:796: ConvergenceWarning: [IterativeImputer] Early stopping criterion not reached.\n",
      "  warnings.warn(\n"
     ]
    },
    {
     "name": "stdout",
     "output_type": "stream",
     "text": [
      "Number of selected features: 20\n"
     ]
    },
    {
     "name": "stderr",
     "output_type": "stream",
     "text": [
      "c:\\Users\\alois\\anaconda3\\Lib\\site-packages\\sklearn\\impute\\_iterative.py:796: ConvergenceWarning: [IterativeImputer] Early stopping criterion not reached.\n",
      "  warnings.warn(\n"
     ]
    },
    {
     "name": "stdout",
     "output_type": "stream",
     "text": [
      "Number of selected features: 23\n"
     ]
    },
    {
     "name": "stderr",
     "output_type": "stream",
     "text": [
      "[INFO 11-12 15:43:30] ax.service.ax_client: Completed trial 10 with data: {'preprocessing_tune': (0.408019, None)}.\n",
      "[INFO 11-12 15:43:30] ax.service.ax_client: Generated new trial 11 with parameters {'mice.estimator_params.n_estimators': 129, 'mice.estimator_params.max_depth': 4, 'mice.mice_params.max_iter': 12, 'mice.num_corr_features': 58, 'lasso_alpha': 1, 'n_estimators': 25, 'learning_rate': 0.864459, 'mice.simple_params.strategy': 'median', 'mice.mice_params.imputation_order': 'ascending'}.\n"
     ]
    },
    {
     "name": "stdout",
     "output_type": "stream",
     "text": [
      "{'train': {'data_paths': {'features': 'data/X_train.csv', 'label': 'data/y_train.csv'}, 'preprocessing': {'scale': True, 'imputation': {'method': 'mice', 'arguments': {'estimator_params': {'n_estimators': 129, 'max_depth': 4}, 'mice_params': {'max_iter': 12, 'imputation_order': 'ascending'}, 'simple_params': {'strategy': 'median'}, 'num_corr_features': 58}}, 'outliers_detection': {'method': 'isolation_forest', 'arguments': {}}, 'feature_selection': {'method': 'lasso', 'arguments': {'alpha': 0.1}}, 'execution_order': ['imputation', 'outliers_detection', 'feature_selection']}, 'model_type': 'ada', 'model_config': {'n_estimators': 25, 'learning_rate': 0.8644592835940421}, 'cross_validation': 5, 'results_path': 'results/overview.csv'}, 'evaluate': {'run': True, 'data_paths': {'features': 'data/X_test.csv', 'label': 'data/y_test_ada_mice.csv'}}}\n"
     ]
    },
    {
     "name": "stderr",
     "output_type": "stream",
     "text": [
      "c:\\Users\\alois\\anaconda3\\Lib\\site-packages\\sklearn\\impute\\_iterative.py:796: ConvergenceWarning: [IterativeImputer] Early stopping criterion not reached.\n",
      "  warnings.warn(\n"
     ]
    },
    {
     "name": "stdout",
     "output_type": "stream",
     "text": [
      "Number of selected features: 362\n"
     ]
    },
    {
     "name": "stderr",
     "output_type": "stream",
     "text": [
      "c:\\Users\\alois\\anaconda3\\Lib\\site-packages\\sklearn\\impute\\_iterative.py:796: ConvergenceWarning: [IterativeImputer] Early stopping criterion not reached.\n",
      "  warnings.warn(\n"
     ]
    },
    {
     "name": "stdout",
     "output_type": "stream",
     "text": [
      "Number of selected features: 377\n"
     ]
    },
    {
     "name": "stderr",
     "output_type": "stream",
     "text": [
      "c:\\Users\\alois\\anaconda3\\Lib\\site-packages\\sklearn\\impute\\_iterative.py:796: ConvergenceWarning: [IterativeImputer] Early stopping criterion not reached.\n",
      "  warnings.warn(\n"
     ]
    },
    {
     "name": "stdout",
     "output_type": "stream",
     "text": [
      "Number of selected features: 354\n"
     ]
    },
    {
     "name": "stderr",
     "output_type": "stream",
     "text": [
      "c:\\Users\\alois\\anaconda3\\Lib\\site-packages\\sklearn\\impute\\_iterative.py:796: ConvergenceWarning: [IterativeImputer] Early stopping criterion not reached.\n",
      "  warnings.warn(\n"
     ]
    },
    {
     "name": "stdout",
     "output_type": "stream",
     "text": [
      "Number of selected features: 363\n"
     ]
    },
    {
     "name": "stderr",
     "output_type": "stream",
     "text": [
      "c:\\Users\\alois\\anaconda3\\Lib\\site-packages\\sklearn\\impute\\_iterative.py:796: ConvergenceWarning: [IterativeImputer] Early stopping criterion not reached.\n",
      "  warnings.warn(\n"
     ]
    },
    {
     "name": "stdout",
     "output_type": "stream",
     "text": [
      "Number of selected features: 384\n"
     ]
    },
    {
     "name": "stderr",
     "output_type": "stream",
     "text": [
      "c:\\Users\\alois\\anaconda3\\Lib\\site-packages\\sklearn\\impute\\_iterative.py:796: ConvergenceWarning: [IterativeImputer] Early stopping criterion not reached.\n",
      "  warnings.warn(\n"
     ]
    },
    {
     "name": "stdout",
     "output_type": "stream",
     "text": [
      "Number of selected features: 356\n"
     ]
    },
    {
     "name": "stderr",
     "output_type": "stream",
     "text": [
      "[INFO 11-12 15:52:05] ax.service.ax_client: Completed trial 11 with data: {'preprocessing_tune': (0.404357, None)}.\n",
      "[INFO 11-12 15:52:05] ax.service.ax_client: Generated new trial 12 with parameters {'mice.estimator_params.n_estimators': 163, 'mice.estimator_params.max_depth': 9, 'mice.mice_params.max_iter': 10, 'mice.num_corr_features': 15, 'lasso_alpha': 5, 'n_estimators': 13, 'learning_rate': 0.554588, 'mice.simple_params.strategy': 'mean', 'mice.mice_params.imputation_order': 'roman'}.\n"
     ]
    },
    {
     "name": "stdout",
     "output_type": "stream",
     "text": [
      "{'train': {'data_paths': {'features': 'data/X_train.csv', 'label': 'data/y_train.csv'}, 'preprocessing': {'scale': True, 'imputation': {'method': 'mice', 'arguments': {'estimator_params': {'n_estimators': 163, 'max_depth': 9}, 'mice_params': {'max_iter': 10, 'imputation_order': 'roman'}, 'simple_params': {'strategy': 'mean'}, 'num_corr_features': 15}}, 'outliers_detection': {'method': 'isolation_forest', 'arguments': {}}, 'feature_selection': {'method': 'lasso', 'arguments': {'alpha': 0.5}}, 'execution_order': ['imputation', 'outliers_detection', 'feature_selection']}, 'model_type': 'ada', 'model_config': {'n_estimators': 13, 'learning_rate': 0.5545877566654235}, 'cross_validation': 5, 'results_path': 'results/overview.csv'}, 'evaluate': {'run': True, 'data_paths': {'features': 'data/X_test.csv', 'label': 'data/y_test_ada_mice.csv'}}}\n"
     ]
    },
    {
     "name": "stderr",
     "output_type": "stream",
     "text": [
      "c:\\Users\\alois\\anaconda3\\Lib\\site-packages\\sklearn\\impute\\_iterative.py:796: ConvergenceWarning: [IterativeImputer] Early stopping criterion not reached.\n",
      "  warnings.warn(\n"
     ]
    },
    {
     "name": "stdout",
     "output_type": "stream",
     "text": [
      "Number of selected features: 39\n"
     ]
    },
    {
     "name": "stderr",
     "output_type": "stream",
     "text": [
      "c:\\Users\\alois\\anaconda3\\Lib\\site-packages\\sklearn\\impute\\_iterative.py:796: ConvergenceWarning: [IterativeImputer] Early stopping criterion not reached.\n",
      "  warnings.warn(\n"
     ]
    },
    {
     "name": "stdout",
     "output_type": "stream",
     "text": [
      "Number of selected features: 40\n"
     ]
    },
    {
     "name": "stderr",
     "output_type": "stream",
     "text": [
      "c:\\Users\\alois\\anaconda3\\Lib\\site-packages\\sklearn\\impute\\_iterative.py:796: ConvergenceWarning: [IterativeImputer] Early stopping criterion not reached.\n",
      "  warnings.warn(\n"
     ]
    },
    {
     "name": "stdout",
     "output_type": "stream",
     "text": [
      "Number of selected features: 38\n"
     ]
    },
    {
     "name": "stderr",
     "output_type": "stream",
     "text": [
      "c:\\Users\\alois\\anaconda3\\Lib\\site-packages\\sklearn\\impute\\_iterative.py:796: ConvergenceWarning: [IterativeImputer] Early stopping criterion not reached.\n",
      "  warnings.warn(\n"
     ]
    },
    {
     "name": "stdout",
     "output_type": "stream",
     "text": [
      "Number of selected features: 30\n"
     ]
    },
    {
     "name": "stderr",
     "output_type": "stream",
     "text": [
      "c:\\Users\\alois\\anaconda3\\Lib\\site-packages\\sklearn\\impute\\_iterative.py:796: ConvergenceWarning: [IterativeImputer] Early stopping criterion not reached.\n",
      "  warnings.warn(\n"
     ]
    },
    {
     "name": "stdout",
     "output_type": "stream",
     "text": [
      "Number of selected features: 34\n"
     ]
    },
    {
     "name": "stderr",
     "output_type": "stream",
     "text": [
      "c:\\Users\\alois\\anaconda3\\Lib\\site-packages\\sklearn\\impute\\_iterative.py:796: ConvergenceWarning: [IterativeImputer] Early stopping criterion not reached.\n",
      "  warnings.warn(\n"
     ]
    },
    {
     "name": "stdout",
     "output_type": "stream",
     "text": [
      "Number of selected features: 34\n"
     ]
    },
    {
     "name": "stderr",
     "output_type": "stream",
     "text": [
      "[INFO 11-12 15:56:48] ax.service.ax_client: Completed trial 12 with data: {'preprocessing_tune': (0.402709, None)}.\n",
      "[INFO 11-12 15:56:48] ax.service.ax_client: Generated new trial 13 with parameters {'mice.estimator_params.n_estimators': 92, 'mice.estimator_params.max_depth': 2, 'mice.mice_params.max_iter': 7, 'mice.num_corr_features': 82, 'lasso_alpha': 3, 'n_estimators': 85, 'learning_rate': 0.28342, 'mice.simple_params.strategy': 'most_frequent', 'mice.mice_params.imputation_order': 'descending'}.\n"
     ]
    },
    {
     "name": "stdout",
     "output_type": "stream",
     "text": [
      "{'train': {'data_paths': {'features': 'data/X_train.csv', 'label': 'data/y_train.csv'}, 'preprocessing': {'scale': True, 'imputation': {'method': 'mice', 'arguments': {'estimator_params': {'n_estimators': 92, 'max_depth': 2}, 'mice_params': {'max_iter': 7, 'imputation_order': 'descending'}, 'simple_params': {'strategy': 'most_frequent'}, 'num_corr_features': 82}}, 'outliers_detection': {'method': 'isolation_forest', 'arguments': {}}, 'feature_selection': {'method': 'lasso', 'arguments': {'alpha': 0.3}}, 'execution_order': ['imputation', 'outliers_detection', 'feature_selection']}, 'model_type': 'ada', 'model_config': {'n_estimators': 85, 'learning_rate': 0.28341973611153665}, 'cross_validation': 5, 'results_path': 'results/overview.csv'}, 'evaluate': {'run': True, 'data_paths': {'features': 'data/X_test.csv', 'label': 'data/y_test_ada_mice.csv'}}}\n"
     ]
    },
    {
     "name": "stderr",
     "output_type": "stream",
     "text": [
      "c:\\Users\\alois\\anaconda3\\Lib\\site-packages\\sklearn\\impute\\_iterative.py:796: ConvergenceWarning: [IterativeImputer] Early stopping criterion not reached.\n",
      "  warnings.warn(\n"
     ]
    },
    {
     "name": "stdout",
     "output_type": "stream",
     "text": [
      "Number of selected features: 204\n"
     ]
    },
    {
     "name": "stderr",
     "output_type": "stream",
     "text": [
      "c:\\Users\\alois\\anaconda3\\Lib\\site-packages\\sklearn\\impute\\_iterative.py:796: ConvergenceWarning: [IterativeImputer] Early stopping criterion not reached.\n",
      "  warnings.warn(\n"
     ]
    },
    {
     "name": "stdout",
     "output_type": "stream",
     "text": [
      "Number of selected features: 206\n"
     ]
    },
    {
     "name": "stderr",
     "output_type": "stream",
     "text": [
      "c:\\Users\\alois\\anaconda3\\Lib\\site-packages\\sklearn\\impute\\_iterative.py:796: ConvergenceWarning: [IterativeImputer] Early stopping criterion not reached.\n",
      "  warnings.warn(\n"
     ]
    },
    {
     "name": "stdout",
     "output_type": "stream",
     "text": [
      "Number of selected features: 194\n"
     ]
    },
    {
     "name": "stderr",
     "output_type": "stream",
     "text": [
      "c:\\Users\\alois\\anaconda3\\Lib\\site-packages\\sklearn\\impute\\_iterative.py:796: ConvergenceWarning: [IterativeImputer] Early stopping criterion not reached.\n",
      "  warnings.warn(\n"
     ]
    },
    {
     "name": "stdout",
     "output_type": "stream",
     "text": [
      "Number of selected features: 192\n"
     ]
    },
    {
     "name": "stderr",
     "output_type": "stream",
     "text": [
      "c:\\Users\\alois\\anaconda3\\Lib\\site-packages\\sklearn\\impute\\_iterative.py:796: ConvergenceWarning: [IterativeImputer] Early stopping criterion not reached.\n",
      "  warnings.warn(\n"
     ]
    },
    {
     "name": "stdout",
     "output_type": "stream",
     "text": [
      "Number of selected features: 197\n"
     ]
    },
    {
     "name": "stderr",
     "output_type": "stream",
     "text": [
      "c:\\Users\\alois\\anaconda3\\Lib\\site-packages\\sklearn\\impute\\_iterative.py:796: ConvergenceWarning: [IterativeImputer] Early stopping criterion not reached.\n",
      "  warnings.warn(\n"
     ]
    },
    {
     "name": "stdout",
     "output_type": "stream",
     "text": [
      "Number of selected features: 173\n"
     ]
    },
    {
     "name": "stderr",
     "output_type": "stream",
     "text": [
      "[INFO 11-12 15:59:26] ax.service.ax_client: Completed trial 13 with data: {'preprocessing_tune': (0.397811, None)}.\n",
      "[INFO 11-12 15:59:26] ax.service.ax_client: Generated new trial 14 with parameters {'mice.estimator_params.n_estimators': 87, 'mice.estimator_params.max_depth': 8, 'mice.mice_params.max_iter': 13, 'mice.num_corr_features': 24, 'lasso_alpha': 2, 'n_estimators': 81, 'learning_rate': 0.087082, 'mice.simple_params.strategy': 'constant', 'mice.mice_params.imputation_order': 'arabic'}.\n"
     ]
    },
    {
     "name": "stdout",
     "output_type": "stream",
     "text": [
      "{'train': {'data_paths': {'features': 'data/X_train.csv', 'label': 'data/y_train.csv'}, 'preprocessing': {'scale': True, 'imputation': {'method': 'mice', 'arguments': {'estimator_params': {'n_estimators': 87, 'max_depth': 8}, 'mice_params': {'max_iter': 13, 'imputation_order': 'arabic'}, 'simple_params': {'strategy': 'constant'}, 'num_corr_features': 24}}, 'outliers_detection': {'method': 'isolation_forest', 'arguments': {}}, 'feature_selection': {'method': 'lasso', 'arguments': {'alpha': 0.2}}, 'execution_order': ['imputation', 'outliers_detection', 'feature_selection']}, 'model_type': 'ada', 'model_config': {'n_estimators': 81, 'learning_rate': 0.08708228751085698}, 'cross_validation': 5, 'results_path': 'results/overview.csv'}, 'evaluate': {'run': True, 'data_paths': {'features': 'data/X_test.csv', 'label': 'data/y_test_ada_mice.csv'}}}\n"
     ]
    },
    {
     "name": "stderr",
     "output_type": "stream",
     "text": [
      "c:\\Users\\alois\\anaconda3\\Lib\\site-packages\\sklearn\\impute\\_iterative.py:796: ConvergenceWarning: [IterativeImputer] Early stopping criterion not reached.\n",
      "  warnings.warn(\n"
     ]
    },
    {
     "name": "stdout",
     "output_type": "stream",
     "text": [
      "Number of selected features: 197\n"
     ]
    },
    {
     "name": "stderr",
     "output_type": "stream",
     "text": [
      "c:\\Users\\alois\\anaconda3\\Lib\\site-packages\\sklearn\\impute\\_iterative.py:796: ConvergenceWarning: [IterativeImputer] Early stopping criterion not reached.\n",
      "  warnings.warn(\n"
     ]
    },
    {
     "name": "stdout",
     "output_type": "stream",
     "text": [
      "Number of selected features: 205\n"
     ]
    },
    {
     "name": "stderr",
     "output_type": "stream",
     "text": [
      "c:\\Users\\alois\\anaconda3\\Lib\\site-packages\\sklearn\\impute\\_iterative.py:796: ConvergenceWarning: [IterativeImputer] Early stopping criterion not reached.\n",
      "  warnings.warn(\n"
     ]
    },
    {
     "name": "stdout",
     "output_type": "stream",
     "text": [
      "Number of selected features: 183\n"
     ]
    },
    {
     "name": "stderr",
     "output_type": "stream",
     "text": [
      "c:\\Users\\alois\\anaconda3\\Lib\\site-packages\\sklearn\\impute\\_iterative.py:796: ConvergenceWarning: [IterativeImputer] Early stopping criterion not reached.\n",
      "  warnings.warn(\n"
     ]
    },
    {
     "name": "stdout",
     "output_type": "stream",
     "text": [
      "Number of selected features: 186\n"
     ]
    },
    {
     "name": "stderr",
     "output_type": "stream",
     "text": [
      "c:\\Users\\alois\\anaconda3\\Lib\\site-packages\\sklearn\\impute\\_iterative.py:796: ConvergenceWarning: [IterativeImputer] Early stopping criterion not reached.\n",
      "  warnings.warn(\n"
     ]
    },
    {
     "name": "stdout",
     "output_type": "stream",
     "text": [
      "Number of selected features: 178\n"
     ]
    },
    {
     "name": "stderr",
     "output_type": "stream",
     "text": [
      "c:\\Users\\alois\\anaconda3\\Lib\\site-packages\\sklearn\\impute\\_iterative.py:796: ConvergenceWarning: [IterativeImputer] Early stopping criterion not reached.\n",
      "  warnings.warn(\n"
     ]
    },
    {
     "name": "stdout",
     "output_type": "stream",
     "text": [
      "Number of selected features: 179\n"
     ]
    },
    {
     "name": "stderr",
     "output_type": "stream",
     "text": [
      "[INFO 11-12 16:07:42] ax.service.ax_client: Completed trial 14 with data: {'preprocessing_tune': (0.420267, None)}.\n",
      "[INFO 11-12 16:07:42] ax.service.ax_client: Generated new trial 15 with parameters {'mice.estimator_params.n_estimators': 112, 'mice.estimator_params.max_depth': 5, 'mice.mice_params.max_iter': 17, 'mice.num_corr_features': 11, 'lasso_alpha': 4, 'n_estimators': 44, 'learning_rate': 0.15316, 'mice.simple_params.strategy': 'median', 'mice.mice_params.imputation_order': 'random'}.\n"
     ]
    },
    {
     "name": "stdout",
     "output_type": "stream",
     "text": [
      "{'train': {'data_paths': {'features': 'data/X_train.csv', 'label': 'data/y_train.csv'}, 'preprocessing': {'scale': True, 'imputation': {'method': 'mice', 'arguments': {'estimator_params': {'n_estimators': 112, 'max_depth': 5}, 'mice_params': {'max_iter': 17, 'imputation_order': 'random'}, 'simple_params': {'strategy': 'median'}, 'num_corr_features': 11}}, 'outliers_detection': {'method': 'isolation_forest', 'arguments': {}}, 'feature_selection': {'method': 'lasso', 'arguments': {'alpha': 0.4}}, 'execution_order': ['imputation', 'outliers_detection', 'feature_selection']}, 'model_type': 'ada', 'model_config': {'n_estimators': 44, 'learning_rate': 0.1531595783866942}, 'cross_validation': 5, 'results_path': 'results/overview.csv'}, 'evaluate': {'run': True, 'data_paths': {'features': 'data/X_test.csv', 'label': 'data/y_test_ada_mice.csv'}}}\n"
     ]
    },
    {
     "name": "stderr",
     "output_type": "stream",
     "text": [
      "c:\\Users\\alois\\anaconda3\\Lib\\site-packages\\sklearn\\impute\\_iterative.py:796: ConvergenceWarning: [IterativeImputer] Early stopping criterion not reached.\n",
      "  warnings.warn(\n"
     ]
    },
    {
     "name": "stdout",
     "output_type": "stream",
     "text": [
      "Number of selected features: 53\n"
     ]
    },
    {
     "name": "stderr",
     "output_type": "stream",
     "text": [
      "c:\\Users\\alois\\anaconda3\\Lib\\site-packages\\sklearn\\impute\\_iterative.py:796: ConvergenceWarning: [IterativeImputer] Early stopping criterion not reached.\n",
      "  warnings.warn(\n"
     ]
    },
    {
     "name": "stdout",
     "output_type": "stream",
     "text": [
      "Number of selected features: 61\n"
     ]
    },
    {
     "name": "stderr",
     "output_type": "stream",
     "text": [
      "c:\\Users\\alois\\anaconda3\\Lib\\site-packages\\sklearn\\impute\\_iterative.py:796: ConvergenceWarning: [IterativeImputer] Early stopping criterion not reached.\n",
      "  warnings.warn(\n"
     ]
    },
    {
     "name": "stdout",
     "output_type": "stream",
     "text": [
      "Number of selected features: 65\n"
     ]
    },
    {
     "name": "stderr",
     "output_type": "stream",
     "text": [
      "c:\\Users\\alois\\anaconda3\\Lib\\site-packages\\sklearn\\impute\\_iterative.py:796: ConvergenceWarning: [IterativeImputer] Early stopping criterion not reached.\n",
      "  warnings.warn(\n"
     ]
    },
    {
     "name": "stdout",
     "output_type": "stream",
     "text": [
      "Number of selected features: 56\n"
     ]
    },
    {
     "name": "stderr",
     "output_type": "stream",
     "text": [
      "c:\\Users\\alois\\anaconda3\\Lib\\site-packages\\sklearn\\impute\\_iterative.py:796: ConvergenceWarning: [IterativeImputer] Early stopping criterion not reached.\n",
      "  warnings.warn(\n"
     ]
    },
    {
     "name": "stdout",
     "output_type": "stream",
     "text": [
      "Number of selected features: 52\n"
     ]
    },
    {
     "name": "stderr",
     "output_type": "stream",
     "text": [
      "c:\\Users\\alois\\anaconda3\\Lib\\site-packages\\sklearn\\impute\\_iterative.py:796: ConvergenceWarning: [IterativeImputer] Early stopping criterion not reached.\n",
      "  warnings.warn(\n"
     ]
    },
    {
     "name": "stdout",
     "output_type": "stream",
     "text": [
      "Number of selected features: 49\n"
     ]
    },
    {
     "name": "stderr",
     "output_type": "stream",
     "text": [
      "[INFO 11-12 16:10:42] ax.service.ax_client: Completed trial 15 with data: {'preprocessing_tune': (0.417202, None)}.\n",
      "[INFO 11-12 16:10:42] ax.service.ax_client: Generated new trial 16 with parameters {'mice.estimator_params.n_estimators': 80, 'mice.estimator_params.max_depth': 8, 'mice.mice_params.max_iter': 19, 'mice.num_corr_features': 37, 'lasso_alpha': 6, 'n_estimators': 65, 'learning_rate': 0.478717, 'mice.simple_params.strategy': 'most_frequent', 'mice.mice_params.imputation_order': 'ascending'}.\n"
     ]
    },
    {
     "name": "stdout",
     "output_type": "stream",
     "text": [
      "{'train': {'data_paths': {'features': 'data/X_train.csv', 'label': 'data/y_train.csv'}, 'preprocessing': {'scale': True, 'imputation': {'method': 'mice', 'arguments': {'estimator_params': {'n_estimators': 80, 'max_depth': 8}, 'mice_params': {'max_iter': 19, 'imputation_order': 'ascending'}, 'simple_params': {'strategy': 'most_frequent'}, 'num_corr_features': 37}}, 'outliers_detection': {'method': 'isolation_forest', 'arguments': {}}, 'feature_selection': {'method': 'lasso', 'arguments': {'alpha': 0.6}}, 'execution_order': ['imputation', 'outliers_detection', 'feature_selection']}, 'model_type': 'ada', 'model_config': {'n_estimators': 65, 'learning_rate': 0.478716683331877}, 'cross_validation': 5, 'results_path': 'results/overview.csv'}, 'evaluate': {'run': True, 'data_paths': {'features': 'data/X_test.csv', 'label': 'data/y_test_ada_mice.csv'}}}\n"
     ]
    },
    {
     "name": "stderr",
     "output_type": "stream",
     "text": [
      "c:\\Users\\alois\\anaconda3\\Lib\\site-packages\\sklearn\\impute\\_iterative.py:796: ConvergenceWarning: [IterativeImputer] Early stopping criterion not reached.\n",
      "  warnings.warn(\n"
     ]
    },
    {
     "name": "stdout",
     "output_type": "stream",
     "text": [
      "Number of selected features: 67\n"
     ]
    },
    {
     "name": "stderr",
     "output_type": "stream",
     "text": [
      "c:\\Users\\alois\\anaconda3\\Lib\\site-packages\\sklearn\\impute\\_iterative.py:796: ConvergenceWarning: [IterativeImputer] Early stopping criterion not reached.\n",
      "  warnings.warn(\n"
     ]
    },
    {
     "name": "stdout",
     "output_type": "stream",
     "text": [
      "Number of selected features: 70\n"
     ]
    },
    {
     "name": "stderr",
     "output_type": "stream",
     "text": [
      "c:\\Users\\alois\\anaconda3\\Lib\\site-packages\\sklearn\\impute\\_iterative.py:796: ConvergenceWarning: [IterativeImputer] Early stopping criterion not reached.\n",
      "  warnings.warn(\n"
     ]
    },
    {
     "name": "stdout",
     "output_type": "stream",
     "text": [
      "Number of selected features: 59\n"
     ]
    },
    {
     "name": "stderr",
     "output_type": "stream",
     "text": [
      "c:\\Users\\alois\\anaconda3\\Lib\\site-packages\\sklearn\\impute\\_iterative.py:796: ConvergenceWarning: [IterativeImputer] Early stopping criterion not reached.\n",
      "  warnings.warn(\n"
     ]
    },
    {
     "name": "stdout",
     "output_type": "stream",
     "text": [
      "Number of selected features: 64\n"
     ]
    },
    {
     "name": "stderr",
     "output_type": "stream",
     "text": [
      "c:\\Users\\alois\\anaconda3\\Lib\\site-packages\\sklearn\\impute\\_iterative.py:796: ConvergenceWarning: [IterativeImputer] Early stopping criterion not reached.\n",
      "  warnings.warn(\n"
     ]
    },
    {
     "name": "stdout",
     "output_type": "stream",
     "text": [
      "Number of selected features: 53\n"
     ]
    },
    {
     "name": "stderr",
     "output_type": "stream",
     "text": [
      "c:\\Users\\alois\\anaconda3\\Lib\\site-packages\\sklearn\\impute\\_iterative.py:796: ConvergenceWarning: [IterativeImputer] Early stopping criterion not reached.\n",
      "  warnings.warn(\n"
     ]
    },
    {
     "name": "stdout",
     "output_type": "stream",
     "text": [
      "Number of selected features: 54\n"
     ]
    },
    {
     "name": "stderr",
     "output_type": "stream",
     "text": [
      "[INFO 11-12 16:29:50] ax.service.ax_client: Completed trial 16 with data: {'preprocessing_tune': (0.410201, None)}.\n",
      "[INFO 11-12 16:29:50] ax.service.ax_client: Generated new trial 17 with parameters {'mice.estimator_params.n_estimators': 85, 'mice.estimator_params.max_depth': 9, 'mice.mice_params.max_iter': 16, 'mice.num_corr_features': 74, 'lasso_alpha': 6, 'n_estimators': 72, 'learning_rate': 0.796021, 'mice.simple_params.strategy': 'median', 'mice.mice_params.imputation_order': 'descending'}.\n"
     ]
    },
    {
     "name": "stdout",
     "output_type": "stream",
     "text": [
      "{'train': {'data_paths': {'features': 'data/X_train.csv', 'label': 'data/y_train.csv'}, 'preprocessing': {'scale': True, 'imputation': {'method': 'mice', 'arguments': {'estimator_params': {'n_estimators': 85, 'max_depth': 9}, 'mice_params': {'max_iter': 16, 'imputation_order': 'descending'}, 'simple_params': {'strategy': 'median'}, 'num_corr_features': 74}}, 'outliers_detection': {'method': 'isolation_forest', 'arguments': {}}, 'feature_selection': {'method': 'lasso', 'arguments': {'alpha': 0.6}}, 'execution_order': ['imputation', 'outliers_detection', 'feature_selection']}, 'model_type': 'ada', 'model_config': {'n_estimators': 72, 'learning_rate': 0.7960205571260304}, 'cross_validation': 5, 'results_path': 'results/overview.csv'}, 'evaluate': {'run': True, 'data_paths': {'features': 'data/X_test.csv', 'label': 'data/y_test_ada_mice.csv'}}}\n"
     ]
    },
    {
     "name": "stderr",
     "output_type": "stream",
     "text": [
      "c:\\Users\\alois\\anaconda3\\Lib\\site-packages\\sklearn\\impute\\_iterative.py:796: ConvergenceWarning: [IterativeImputer] Early stopping criterion not reached.\n",
      "  warnings.warn(\n"
     ]
    },
    {
     "name": "stdout",
     "output_type": "stream",
     "text": [
      "Number of selected features: 28\n"
     ]
    },
    {
     "name": "stderr",
     "output_type": "stream",
     "text": [
      "c:\\Users\\alois\\anaconda3\\Lib\\site-packages\\sklearn\\impute\\_iterative.py:796: ConvergenceWarning: [IterativeImputer] Early stopping criterion not reached.\n",
      "  warnings.warn(\n"
     ]
    },
    {
     "name": "stdout",
     "output_type": "stream",
     "text": [
      "Number of selected features: 31\n"
     ]
    },
    {
     "name": "stderr",
     "output_type": "stream",
     "text": [
      "c:\\Users\\alois\\anaconda3\\Lib\\site-packages\\sklearn\\impute\\_iterative.py:796: ConvergenceWarning: [IterativeImputer] Early stopping criterion not reached.\n",
      "  warnings.warn(\n"
     ]
    },
    {
     "name": "stdout",
     "output_type": "stream",
     "text": [
      "Number of selected features: 28\n"
     ]
    },
    {
     "name": "stderr",
     "output_type": "stream",
     "text": [
      "c:\\Users\\alois\\anaconda3\\Lib\\site-packages\\sklearn\\impute\\_iterative.py:796: ConvergenceWarning: [IterativeImputer] Early stopping criterion not reached.\n",
      "  warnings.warn(\n"
     ]
    },
    {
     "name": "stdout",
     "output_type": "stream",
     "text": [
      "Number of selected features: 27\n"
     ]
    },
    {
     "name": "stderr",
     "output_type": "stream",
     "text": [
      "c:\\Users\\alois\\anaconda3\\Lib\\site-packages\\sklearn\\impute\\_iterative.py:796: ConvergenceWarning: [IterativeImputer] Early stopping criterion not reached.\n",
      "  warnings.warn(\n"
     ]
    },
    {
     "name": "stdout",
     "output_type": "stream",
     "text": [
      "Number of selected features: 24\n"
     ]
    },
    {
     "name": "stderr",
     "output_type": "stream",
     "text": [
      "c:\\Users\\alois\\anaconda3\\Lib\\site-packages\\sklearn\\impute\\_iterative.py:796: ConvergenceWarning: [IterativeImputer] Early stopping criterion not reached.\n",
      "  warnings.warn(\n"
     ]
    },
    {
     "name": "stdout",
     "output_type": "stream",
     "text": [
      "Number of selected features: 27\n"
     ]
    },
    {
     "name": "stderr",
     "output_type": "stream",
     "text": [
      "[INFO 11-12 16:56:45] ax.service.ax_client: Completed trial 17 with data: {'preprocessing_tune': (0.416992, None)}.\n",
      "[INFO 11-12 16:56:45] ax.service.ax_client: Generated new trial 18 with parameters {'mice.estimator_params.n_estimators': 74, 'mice.estimator_params.max_depth': 7, 'mice.mice_params.max_iter': 9, 'mice.num_corr_features': 45, 'lasso_alpha': 0, 'n_estimators': 48, 'learning_rate': 0.267642, 'mice.simple_params.strategy': 'mean', 'mice.mice_params.imputation_order': 'roman'}.\n"
     ]
    },
    {
     "name": "stdout",
     "output_type": "stream",
     "text": [
      "{'train': {'data_paths': {'features': 'data/X_train.csv', 'label': 'data/y_train.csv'}, 'preprocessing': {'scale': True, 'imputation': {'method': 'mice', 'arguments': {'estimator_params': {'n_estimators': 74, 'max_depth': 7}, 'mice_params': {'max_iter': 9, 'imputation_order': 'roman'}, 'simple_params': {'strategy': 'mean'}, 'num_corr_features': 45}}, 'outliers_detection': {'method': 'isolation_forest', 'arguments': {}}, 'feature_selection': {'method': 'lasso', 'arguments': {'alpha': 0.0}}, 'execution_order': ['imputation', 'outliers_detection', 'feature_selection']}, 'model_type': 'ada', 'model_config': {'n_estimators': 48, 'learning_rate': 0.26764179673045874}, 'cross_validation': 5, 'results_path': 'results/overview.csv'}, 'evaluate': {'run': True, 'data_paths': {'features': 'data/X_test.csv', 'label': 'data/y_test_ada_mice.csv'}}}\n"
     ]
    },
    {
     "ename": "KeyboardInterrupt",
     "evalue": "",
     "output_type": "error",
     "traceback": [
      "\u001b[1;31m---------------------------------------------------------------------------\u001b[0m",
      "\u001b[1;31mKeyboardInterrupt\u001b[0m                         Traceback (most recent call last)",
      "\u001b[1;32mc:\\Users\\alois\\Desktop\\Advanced ML\\AML_Task_1\\notebooks\\hyper_tune.ipynb Cell 10\u001b[0m line \u001b[0;36m3\n\u001b[0;32m     <a href='vscode-notebook-cell:/c%3A/Users/alois/Desktop/Advanced%20ML/AML_Task_1/notebooks/hyper_tune.ipynb#X12sZmlsZQ%3D%3D?line=29'>30</a>\u001b[0m \u001b[39mfor\u001b[39;00m i \u001b[39min\u001b[39;00m \u001b[39mrange\u001b[39m(\u001b[39m50\u001b[39m):    \n\u001b[0;32m     <a href='vscode-notebook-cell:/c%3A/Users/alois/Desktop/Advanced%20ML/AML_Task_1/notebooks/hyper_tune.ipynb#X12sZmlsZQ%3D%3D?line=30'>31</a>\u001b[0m     curr_parameters, trial_index \u001b[39m=\u001b[39m ax_client\u001b[39m.\u001b[39mget_next_trial()\n\u001b[1;32m---> <a href='vscode-notebook-cell:/c%3A/Users/alois/Desktop/Advanced%20ML/AML_Task_1/notebooks/hyper_tune.ipynb#X12sZmlsZQ%3D%3D?line=31'>32</a>\u001b[0m     ax_client\u001b[39m.\u001b[39mcomplete_trial(trial_index\u001b[39m=\u001b[39mtrial_index, raw_data\u001b[39m=\u001b[39mevaluate_model(curr_parameters))\n",
      "\u001b[1;32mc:\\Users\\alois\\Desktop\\Advanced ML\\AML_Task_1\\notebooks\\hyper_tune.ipynb Cell 10\u001b[0m line \u001b[0;36m2\n\u001b[0;32m     <a href='vscode-notebook-cell:/c%3A/Users/alois/Desktop/Advanced%20ML/AML_Task_1/notebooks/hyper_tune.ipynb#X12sZmlsZQ%3D%3D?line=25'>26</a>\u001b[0m             config[\u001b[39m'\u001b[39m\u001b[39mtrain\u001b[39m\u001b[39m'\u001b[39m][\u001b[39m'\u001b[39m\u001b[39mpreprocessing\u001b[39m\u001b[39m'\u001b[39m][\u001b[39m'\u001b[39m\u001b[39mimputation\u001b[39m\u001b[39m'\u001b[39m][\u001b[39m'\u001b[39m\u001b[39marguments\u001b[39m\u001b[39m'\u001b[39m][param_name_split[\u001b[39m1\u001b[39m]][param_name_split[\u001b[39m2\u001b[39m]][param_name_split[\u001b[39m3\u001b[39m]] \u001b[39m=\u001b[39m param_value\n\u001b[0;32m     <a href='vscode-notebook-cell:/c%3A/Users/alois/Desktop/Advanced%20ML/AML_Task_1/notebooks/hyper_tune.ipynb#X12sZmlsZQ%3D%3D?line=27'>28</a>\u001b[0m \u001b[39mprint\u001b[39m(config)\n\u001b[1;32m---> <a href='vscode-notebook-cell:/c%3A/Users/alois/Desktop/Advanced%20ML/AML_Task_1/notebooks/hyper_tune.ipynb#X12sZmlsZQ%3D%3D?line=28'>29</a>\u001b[0m \u001b[39mreturn\u001b[39;00m main(config)\n",
      "File \u001b[1;32mc:\\Users\\alois\\Desktop\\Advanced ML\\AML_Task_1\\task1\\src\\train.py:174\u001b[0m, in \u001b[0;36mmain\u001b[1;34m(config)\u001b[0m\n\u001b[0;32m    166\u001b[0m subset_X_train_df, subset_y_train_df \u001b[39m=\u001b[39m (\n\u001b[0;32m    167\u001b[0m     X_train_df\u001b[39m.\u001b[39miloc[train_idx],\n\u001b[0;32m    168\u001b[0m     y_train_df\u001b[39m.\u001b[39miloc[train_idx],\n\u001b[0;32m    169\u001b[0m )\n\u001b[0;32m    170\u001b[0m subset_X_valid_df, subset_y_valid_df \u001b[39m=\u001b[39m (\n\u001b[0;32m    171\u001b[0m     X_train_df\u001b[39m.\u001b[39miloc[valid_idx],\n\u001b[0;32m    172\u001b[0m     y_train_df\u001b[39m.\u001b[39miloc[valid_idx],\n\u001b[0;32m    173\u001b[0m )\n\u001b[1;32m--> 174\u001b[0m subset_y_valid, subset_y_pred \u001b[39m=\u001b[39m train_and_get_prediction(\n\u001b[0;32m    175\u001b[0m     model,\n\u001b[0;32m    176\u001b[0m     subset_X_train_df,\n\u001b[0;32m    177\u001b[0m     subset_y_train_df,\n\u001b[0;32m    178\u001b[0m     subset_X_valid_df,\n\u001b[0;32m    179\u001b[0m     subset_y_valid_df,\n\u001b[0;32m    180\u001b[0m     preprocessing_config,\n\u001b[0;32m    181\u001b[0m )\n\u001b[0;32m    182\u001b[0m valid_score \u001b[39m=\u001b[39m r2_score(subset_y_valid, subset_y_pred)\n\u001b[0;32m    183\u001b[0m scores\u001b[39m.\u001b[39mappend(valid_score)\n",
      "File \u001b[1;32mc:\\Users\\alois\\Desktop\\Advanced ML\\AML_Task_1\\task1\\src\\train.py:123\u001b[0m, in \u001b[0;36mtrain_and_get_prediction\u001b[1;34m(model, X_train_df, y_train_df, X_valid_df, y_valid_df, preprocessing_config)\u001b[0m\n\u001b[0;32m    121\u001b[0m \u001b[39melse\u001b[39;00m:\n\u001b[0;32m    122\u001b[0m     y_valid_mat \u001b[39m=\u001b[39m \u001b[39mNone\u001b[39;00m\n\u001b[1;32m--> 123\u001b[0m X_train_mat, X_valid_mat, y_train_mat \u001b[39m=\u001b[39m preprocess_data(\n\u001b[0;32m    124\u001b[0m     X_train_df, y_train_mat, X_valid_df, preprocessing_config\n\u001b[0;32m    125\u001b[0m )\n\u001b[0;32m    126\u001b[0m model\u001b[39m.\u001b[39mfit(X_train_mat, y_train_mat)\n\u001b[0;32m    128\u001b[0m y_pred \u001b[39m=\u001b[39m model\u001b[39m.\u001b[39mpredict(X_valid_mat)\n",
      "File \u001b[1;32mc:\\Users\\alois\\Desktop\\Advanced ML\\AML_Task_1\\task1\\src\\train.py:86\u001b[0m, in \u001b[0;36mpreprocess_data\u001b[1;34m(X_train_df, y, X_valid_df, preprocessing_config)\u001b[0m\n\u001b[0;32m     62\u001b[0m data_preprocessor \u001b[39m=\u001b[39m DataPreprocessor(\n\u001b[0;32m     63\u001b[0m     preprocessing_config\n\u001b[0;32m     64\u001b[0m )\n\u001b[0;32m     65\u001b[0m \u001b[39m\u001b[39m\u001b[39m\"\"\"\u001b[39;00m\n\u001b[0;32m     66\u001b[0m \u001b[39mPreprocess feature and label data.\u001b[39;00m\n\u001b[0;32m     67\u001b[0m \n\u001b[1;32m   (...)\u001b[0m\n\u001b[0;32m     84\u001b[0m \u001b[39m    Processed feature data of valid split in numpy array format.\u001b[39;00m\n\u001b[0;32m     85\u001b[0m \u001b[39m\"\"\"\u001b[39;00m\n\u001b[1;32m---> 86\u001b[0m X_train_mat, X_valid_mat, y_train_mat \u001b[39m=\u001b[39m data_preprocessor\u001b[39m.\u001b[39mpreprocess(X_train_df, y, X_valid_df)\n\u001b[0;32m     87\u001b[0m \u001b[39mreturn\u001b[39;00m X_train_mat, X_valid_mat, y_train_mat\n",
      "File \u001b[1;32mc:\\Users\\alois\\Desktop\\Advanced ML\\AML_Task_1\\task1\\pre\\preprocessing.py:44\u001b[0m, in \u001b[0;36mDataPreprocessor.preprocess\u001b[1;34m(self, X_train_df, y_train, X_valid_df)\u001b[0m\n\u001b[0;32m     42\u001b[0m imputation_method \u001b[39m=\u001b[39m \u001b[39mself\u001b[39m\u001b[39m.\u001b[39mpreprocessing_config[\u001b[39m'\u001b[39m\u001b[39mimputation\u001b[39m\u001b[39m'\u001b[39m][\u001b[39m'\u001b[39m\u001b[39mmethod\u001b[39m\u001b[39m'\u001b[39m]\n\u001b[0;32m     43\u001b[0m imputation_config \u001b[39m=\u001b[39m \u001b[39mself\u001b[39m\u001b[39m.\u001b[39mpreprocessing_config[\u001b[39m'\u001b[39m\u001b[39mimputation\u001b[39m\u001b[39m'\u001b[39m][\u001b[39m'\u001b[39m\u001b[39marguments\u001b[39m\u001b[39m'\u001b[39m]\n\u001b[1;32m---> 44\u001b[0m X_df \u001b[39m=\u001b[39m \u001b[39mself\u001b[39m\u001b[39m.\u001b[39mIMPUTATION[imputation_method](X_df, \u001b[39m*\u001b[39m\u001b[39m*\u001b[39mimputation_config)\n\u001b[0;32m     45\u001b[0m X_mat \u001b[39m=\u001b[39m X_df\u001b[39m.\u001b[39mto_numpy()\n\u001b[0;32m     47\u001b[0m \u001b[39mfor\u001b[39;00m step \u001b[39min\u001b[39;00m \u001b[39mself\u001b[39m\u001b[39m.\u001b[39mpreprocessing_config[\u001b[39m'\u001b[39m\u001b[39mexecution_order\u001b[39m\u001b[39m'\u001b[39m]:\n",
      "File \u001b[1;32mc:\\Users\\alois\\Desktop\\Advanced ML\\AML_Task_1\\task1\\pre\\imputation.py:129\u001b[0m, in \u001b[0;36mimpute_data_with_mice_and_simple\u001b[1;34m(df, estimator_params, mice_params, simple_params, num_corr_features)\u001b[0m\n\u001b[0;32m    123\u001b[0m \u001b[39m# Use ColumnTransformer to apply the imputers to different sets of columns\u001b[39;00m\n\u001b[0;32m    124\u001b[0m preprocessor \u001b[39m=\u001b[39m ColumnTransformer(transformers\u001b[39m=\u001b[39m[\n\u001b[0;32m    125\u001b[0m     (\u001b[39m'\u001b[39m\u001b[39mmice\u001b[39m\u001b[39m'\u001b[39m, mice_imputer, top_k_corr_feature_names),\n\u001b[0;32m    126\u001b[0m     (\u001b[39m'\u001b[39m\u001b[39msimple\u001b[39m\u001b[39m'\u001b[39m, simple_imputer, remaining_feature_names)\n\u001b[0;32m    127\u001b[0m ], remainder\u001b[39m=\u001b[39m\u001b[39m'\u001b[39m\u001b[39mpassthrough\u001b[39m\u001b[39m'\u001b[39m)\n\u001b[1;32m--> 129\u001b[0m X_imputed \u001b[39m=\u001b[39m preprocessor\u001b[39m.\u001b[39mfit_transform(X)\n\u001b[0;32m    131\u001b[0m X_imputed_df \u001b[39m=\u001b[39m pd\u001b[39m.\u001b[39mDataFrame(X_imputed, columns\u001b[39m=\u001b[39mtop_k_corr_feature_names \u001b[39m+\u001b[39m remaining_feature_names)\n\u001b[0;32m    132\u001b[0m \u001b[39m#  X_imputed_df['y'] = y\u001b[39;00m\n",
      "File \u001b[1;32mc:\\Users\\alois\\anaconda3\\Lib\\site-packages\\sklearn\\utils\\_set_output.py:140\u001b[0m, in \u001b[0;36m_wrap_method_output.<locals>.wrapped\u001b[1;34m(self, X, *args, **kwargs)\u001b[0m\n\u001b[0;32m    138\u001b[0m \u001b[39m@wraps\u001b[39m(f)\n\u001b[0;32m    139\u001b[0m \u001b[39mdef\u001b[39;00m \u001b[39mwrapped\u001b[39m(\u001b[39mself\u001b[39m, X, \u001b[39m*\u001b[39margs, \u001b[39m*\u001b[39m\u001b[39m*\u001b[39mkwargs):\n\u001b[1;32m--> 140\u001b[0m     data_to_wrap \u001b[39m=\u001b[39m f(\u001b[39mself\u001b[39m, X, \u001b[39m*\u001b[39margs, \u001b[39m*\u001b[39m\u001b[39m*\u001b[39mkwargs)\n\u001b[0;32m    141\u001b[0m     \u001b[39mif\u001b[39;00m \u001b[39misinstance\u001b[39m(data_to_wrap, \u001b[39mtuple\u001b[39m):\n\u001b[0;32m    142\u001b[0m         \u001b[39m# only wrap the first output for cross decomposition\u001b[39;00m\n\u001b[0;32m    143\u001b[0m         return_tuple \u001b[39m=\u001b[39m (\n\u001b[0;32m    144\u001b[0m             _wrap_data_with_container(method, data_to_wrap[\u001b[39m0\u001b[39m], X, \u001b[39mself\u001b[39m),\n\u001b[0;32m    145\u001b[0m             \u001b[39m*\u001b[39mdata_to_wrap[\u001b[39m1\u001b[39m:],\n\u001b[0;32m    146\u001b[0m         )\n",
      "File \u001b[1;32mc:\\Users\\alois\\anaconda3\\Lib\\site-packages\\sklearn\\base.py:1151\u001b[0m, in \u001b[0;36m_fit_context.<locals>.decorator.<locals>.wrapper\u001b[1;34m(estimator, *args, **kwargs)\u001b[0m\n\u001b[0;32m   1144\u001b[0m     estimator\u001b[39m.\u001b[39m_validate_params()\n\u001b[0;32m   1146\u001b[0m \u001b[39mwith\u001b[39;00m config_context(\n\u001b[0;32m   1147\u001b[0m     skip_parameter_validation\u001b[39m=\u001b[39m(\n\u001b[0;32m   1148\u001b[0m         prefer_skip_nested_validation \u001b[39mor\u001b[39;00m global_skip_validation\n\u001b[0;32m   1149\u001b[0m     )\n\u001b[0;32m   1150\u001b[0m ):\n\u001b[1;32m-> 1151\u001b[0m     \u001b[39mreturn\u001b[39;00m fit_method(estimator, \u001b[39m*\u001b[39margs, \u001b[39m*\u001b[39m\u001b[39m*\u001b[39mkwargs)\n",
      "File \u001b[1;32mc:\\Users\\alois\\anaconda3\\Lib\\site-packages\\sklearn\\compose\\_column_transformer.py:743\u001b[0m, in \u001b[0;36mColumnTransformer.fit_transform\u001b[1;34m(self, X, y)\u001b[0m\n\u001b[0;32m    740\u001b[0m \u001b[39mself\u001b[39m\u001b[39m.\u001b[39m_validate_column_callables(X)\n\u001b[0;32m    741\u001b[0m \u001b[39mself\u001b[39m\u001b[39m.\u001b[39m_validate_remainder(X)\n\u001b[1;32m--> 743\u001b[0m result \u001b[39m=\u001b[39m \u001b[39mself\u001b[39m\u001b[39m.\u001b[39m_fit_transform(X, y, _fit_transform_one)\n\u001b[0;32m    745\u001b[0m \u001b[39mif\u001b[39;00m \u001b[39mnot\u001b[39;00m result:\n\u001b[0;32m    746\u001b[0m     \u001b[39mself\u001b[39m\u001b[39m.\u001b[39m_update_fitted_transformers([])\n",
      "File \u001b[1;32mc:\\Users\\alois\\anaconda3\\Lib\\site-packages\\sklearn\\compose\\_column_transformer.py:670\u001b[0m, in \u001b[0;36mColumnTransformer._fit_transform\u001b[1;34m(self, X, y, func, fitted, column_as_strings)\u001b[0m\n\u001b[0;32m    664\u001b[0m transformers \u001b[39m=\u001b[39m \u001b[39mlist\u001b[39m(\n\u001b[0;32m    665\u001b[0m     \u001b[39mself\u001b[39m\u001b[39m.\u001b[39m_iter(\n\u001b[0;32m    666\u001b[0m         fitted\u001b[39m=\u001b[39mfitted, replace_strings\u001b[39m=\u001b[39m\u001b[39mTrue\u001b[39;00m, column_as_strings\u001b[39m=\u001b[39mcolumn_as_strings\n\u001b[0;32m    667\u001b[0m     )\n\u001b[0;32m    668\u001b[0m )\n\u001b[0;32m    669\u001b[0m \u001b[39mtry\u001b[39;00m:\n\u001b[1;32m--> 670\u001b[0m     \u001b[39mreturn\u001b[39;00m Parallel(n_jobs\u001b[39m=\u001b[39m\u001b[39mself\u001b[39m\u001b[39m.\u001b[39mn_jobs)(\n\u001b[0;32m    671\u001b[0m         delayed(func)(\n\u001b[0;32m    672\u001b[0m             transformer\u001b[39m=\u001b[39mclone(trans) \u001b[39mif\u001b[39;00m \u001b[39mnot\u001b[39;00m fitted \u001b[39melse\u001b[39;00m trans,\n\u001b[0;32m    673\u001b[0m             X\u001b[39m=\u001b[39m_safe_indexing(X, column, axis\u001b[39m=\u001b[39m\u001b[39m1\u001b[39m),\n\u001b[0;32m    674\u001b[0m             y\u001b[39m=\u001b[39my,\n\u001b[0;32m    675\u001b[0m             weight\u001b[39m=\u001b[39mweight,\n\u001b[0;32m    676\u001b[0m             message_clsname\u001b[39m=\u001b[39m\u001b[39m\"\u001b[39m\u001b[39mColumnTransformer\u001b[39m\u001b[39m\"\u001b[39m,\n\u001b[0;32m    677\u001b[0m             message\u001b[39m=\u001b[39m\u001b[39mself\u001b[39m\u001b[39m.\u001b[39m_log_message(name, idx, \u001b[39mlen\u001b[39m(transformers)),\n\u001b[0;32m    678\u001b[0m         )\n\u001b[0;32m    679\u001b[0m         \u001b[39mfor\u001b[39;00m idx, (name, trans, column, weight) \u001b[39min\u001b[39;00m \u001b[39menumerate\u001b[39m(transformers, \u001b[39m1\u001b[39m)\n\u001b[0;32m    680\u001b[0m     )\n\u001b[0;32m    681\u001b[0m \u001b[39mexcept\u001b[39;00m \u001b[39mValueError\u001b[39;00m \u001b[39mas\u001b[39;00m e:\n\u001b[0;32m    682\u001b[0m     \u001b[39mif\u001b[39;00m \u001b[39m\"\u001b[39m\u001b[39mExpected 2D array, got 1D array instead\u001b[39m\u001b[39m\"\u001b[39m \u001b[39min\u001b[39;00m \u001b[39mstr\u001b[39m(e):\n",
      "File \u001b[1;32mc:\\Users\\alois\\anaconda3\\Lib\\site-packages\\sklearn\\utils\\parallel.py:65\u001b[0m, in \u001b[0;36mParallel.__call__\u001b[1;34m(self, iterable)\u001b[0m\n\u001b[0;32m     60\u001b[0m config \u001b[39m=\u001b[39m get_config()\n\u001b[0;32m     61\u001b[0m iterable_with_config \u001b[39m=\u001b[39m (\n\u001b[0;32m     62\u001b[0m     (_with_config(delayed_func, config), args, kwargs)\n\u001b[0;32m     63\u001b[0m     \u001b[39mfor\u001b[39;00m delayed_func, args, kwargs \u001b[39min\u001b[39;00m iterable\n\u001b[0;32m     64\u001b[0m )\n\u001b[1;32m---> 65\u001b[0m \u001b[39mreturn\u001b[39;00m \u001b[39msuper\u001b[39m()\u001b[39m.\u001b[39m\u001b[39m__call__\u001b[39m(iterable_with_config)\n",
      "File \u001b[1;32mc:\\Users\\alois\\anaconda3\\Lib\\site-packages\\joblib\\parallel.py:1085\u001b[0m, in \u001b[0;36mParallel.__call__\u001b[1;34m(self, iterable)\u001b[0m\n\u001b[0;32m   1076\u001b[0m \u001b[39mtry\u001b[39;00m:\n\u001b[0;32m   1077\u001b[0m     \u001b[39m# Only set self._iterating to True if at least a batch\u001b[39;00m\n\u001b[0;32m   1078\u001b[0m     \u001b[39m# was dispatched. In particular this covers the edge\u001b[39;00m\n\u001b[1;32m   (...)\u001b[0m\n\u001b[0;32m   1082\u001b[0m     \u001b[39m# was very quick and its callback already dispatched all the\u001b[39;00m\n\u001b[0;32m   1083\u001b[0m     \u001b[39m# remaining jobs.\u001b[39;00m\n\u001b[0;32m   1084\u001b[0m     \u001b[39mself\u001b[39m\u001b[39m.\u001b[39m_iterating \u001b[39m=\u001b[39m \u001b[39mFalse\u001b[39;00m\n\u001b[1;32m-> 1085\u001b[0m     \u001b[39mif\u001b[39;00m \u001b[39mself\u001b[39m\u001b[39m.\u001b[39mdispatch_one_batch(iterator):\n\u001b[0;32m   1086\u001b[0m         \u001b[39mself\u001b[39m\u001b[39m.\u001b[39m_iterating \u001b[39m=\u001b[39m \u001b[39mself\u001b[39m\u001b[39m.\u001b[39m_original_iterator \u001b[39mis\u001b[39;00m \u001b[39mnot\u001b[39;00m \u001b[39mNone\u001b[39;00m\n\u001b[0;32m   1088\u001b[0m     \u001b[39mwhile\u001b[39;00m \u001b[39mself\u001b[39m\u001b[39m.\u001b[39mdispatch_one_batch(iterator):\n",
      "File \u001b[1;32mc:\\Users\\alois\\anaconda3\\Lib\\site-packages\\joblib\\parallel.py:901\u001b[0m, in \u001b[0;36mParallel.dispatch_one_batch\u001b[1;34m(self, iterator)\u001b[0m\n\u001b[0;32m    899\u001b[0m     \u001b[39mreturn\u001b[39;00m \u001b[39mFalse\u001b[39;00m\n\u001b[0;32m    900\u001b[0m \u001b[39melse\u001b[39;00m:\n\u001b[1;32m--> 901\u001b[0m     \u001b[39mself\u001b[39m\u001b[39m.\u001b[39m_dispatch(tasks)\n\u001b[0;32m    902\u001b[0m     \u001b[39mreturn\u001b[39;00m \u001b[39mTrue\u001b[39;00m\n",
      "File \u001b[1;32mc:\\Users\\alois\\anaconda3\\Lib\\site-packages\\joblib\\parallel.py:819\u001b[0m, in \u001b[0;36mParallel._dispatch\u001b[1;34m(self, batch)\u001b[0m\n\u001b[0;32m    817\u001b[0m \u001b[39mwith\u001b[39;00m \u001b[39mself\u001b[39m\u001b[39m.\u001b[39m_lock:\n\u001b[0;32m    818\u001b[0m     job_idx \u001b[39m=\u001b[39m \u001b[39mlen\u001b[39m(\u001b[39mself\u001b[39m\u001b[39m.\u001b[39m_jobs)\n\u001b[1;32m--> 819\u001b[0m     job \u001b[39m=\u001b[39m \u001b[39mself\u001b[39m\u001b[39m.\u001b[39m_backend\u001b[39m.\u001b[39mapply_async(batch, callback\u001b[39m=\u001b[39mcb)\n\u001b[0;32m    820\u001b[0m     \u001b[39m# A job can complete so quickly than its callback is\u001b[39;00m\n\u001b[0;32m    821\u001b[0m     \u001b[39m# called before we get here, causing self._jobs to\u001b[39;00m\n\u001b[0;32m    822\u001b[0m     \u001b[39m# grow. To ensure correct results ordering, .insert is\u001b[39;00m\n\u001b[0;32m    823\u001b[0m     \u001b[39m# used (rather than .append) in the following line\u001b[39;00m\n\u001b[0;32m    824\u001b[0m     \u001b[39mself\u001b[39m\u001b[39m.\u001b[39m_jobs\u001b[39m.\u001b[39minsert(job_idx, job)\n",
      "File \u001b[1;32mc:\\Users\\alois\\anaconda3\\Lib\\site-packages\\joblib\\_parallel_backends.py:208\u001b[0m, in \u001b[0;36mSequentialBackend.apply_async\u001b[1;34m(self, func, callback)\u001b[0m\n\u001b[0;32m    206\u001b[0m \u001b[39mdef\u001b[39;00m \u001b[39mapply_async\u001b[39m(\u001b[39mself\u001b[39m, func, callback\u001b[39m=\u001b[39m\u001b[39mNone\u001b[39;00m):\n\u001b[0;32m    207\u001b[0m \u001b[39m    \u001b[39m\u001b[39m\"\"\"Schedule a func to be run\"\"\"\u001b[39;00m\n\u001b[1;32m--> 208\u001b[0m     result \u001b[39m=\u001b[39m ImmediateResult(func)\n\u001b[0;32m    209\u001b[0m     \u001b[39mif\u001b[39;00m callback:\n\u001b[0;32m    210\u001b[0m         callback(result)\n",
      "File \u001b[1;32mc:\\Users\\alois\\anaconda3\\Lib\\site-packages\\joblib\\_parallel_backends.py:597\u001b[0m, in \u001b[0;36mImmediateResult.__init__\u001b[1;34m(self, batch)\u001b[0m\n\u001b[0;32m    594\u001b[0m \u001b[39mdef\u001b[39;00m \u001b[39m__init__\u001b[39m(\u001b[39mself\u001b[39m, batch):\n\u001b[0;32m    595\u001b[0m     \u001b[39m# Don't delay the application, to avoid keeping the input\u001b[39;00m\n\u001b[0;32m    596\u001b[0m     \u001b[39m# arguments in memory\u001b[39;00m\n\u001b[1;32m--> 597\u001b[0m     \u001b[39mself\u001b[39m\u001b[39m.\u001b[39mresults \u001b[39m=\u001b[39m batch()\n",
      "File \u001b[1;32mc:\\Users\\alois\\anaconda3\\Lib\\site-packages\\joblib\\parallel.py:288\u001b[0m, in \u001b[0;36mBatchedCalls.__call__\u001b[1;34m(self)\u001b[0m\n\u001b[0;32m    284\u001b[0m \u001b[39mdef\u001b[39;00m \u001b[39m__call__\u001b[39m(\u001b[39mself\u001b[39m):\n\u001b[0;32m    285\u001b[0m     \u001b[39m# Set the default nested backend to self._backend but do not set the\u001b[39;00m\n\u001b[0;32m    286\u001b[0m     \u001b[39m# change the default number of processes to -1\u001b[39;00m\n\u001b[0;32m    287\u001b[0m     \u001b[39mwith\u001b[39;00m parallel_backend(\u001b[39mself\u001b[39m\u001b[39m.\u001b[39m_backend, n_jobs\u001b[39m=\u001b[39m\u001b[39mself\u001b[39m\u001b[39m.\u001b[39m_n_jobs):\n\u001b[1;32m--> 288\u001b[0m         \u001b[39mreturn\u001b[39;00m [func(\u001b[39m*\u001b[39margs, \u001b[39m*\u001b[39m\u001b[39m*\u001b[39mkwargs)\n\u001b[0;32m    289\u001b[0m                 \u001b[39mfor\u001b[39;00m func, args, kwargs \u001b[39min\u001b[39;00m \u001b[39mself\u001b[39m\u001b[39m.\u001b[39mitems]\n",
      "File \u001b[1;32mc:\\Users\\alois\\anaconda3\\Lib\\site-packages\\joblib\\parallel.py:288\u001b[0m, in \u001b[0;36m<listcomp>\u001b[1;34m(.0)\u001b[0m\n\u001b[0;32m    284\u001b[0m \u001b[39mdef\u001b[39;00m \u001b[39m__call__\u001b[39m(\u001b[39mself\u001b[39m):\n\u001b[0;32m    285\u001b[0m     \u001b[39m# Set the default nested backend to self._backend but do not set the\u001b[39;00m\n\u001b[0;32m    286\u001b[0m     \u001b[39m# change the default number of processes to -1\u001b[39;00m\n\u001b[0;32m    287\u001b[0m     \u001b[39mwith\u001b[39;00m parallel_backend(\u001b[39mself\u001b[39m\u001b[39m.\u001b[39m_backend, n_jobs\u001b[39m=\u001b[39m\u001b[39mself\u001b[39m\u001b[39m.\u001b[39m_n_jobs):\n\u001b[1;32m--> 288\u001b[0m         \u001b[39mreturn\u001b[39;00m [func(\u001b[39m*\u001b[39margs, \u001b[39m*\u001b[39m\u001b[39m*\u001b[39mkwargs)\n\u001b[0;32m    289\u001b[0m                 \u001b[39mfor\u001b[39;00m func, args, kwargs \u001b[39min\u001b[39;00m \u001b[39mself\u001b[39m\u001b[39m.\u001b[39mitems]\n",
      "File \u001b[1;32mc:\\Users\\alois\\anaconda3\\Lib\\site-packages\\sklearn\\utils\\parallel.py:127\u001b[0m, in \u001b[0;36m_FuncWrapper.__call__\u001b[1;34m(self, *args, **kwargs)\u001b[0m\n\u001b[0;32m    125\u001b[0m     config \u001b[39m=\u001b[39m {}\n\u001b[0;32m    126\u001b[0m \u001b[39mwith\u001b[39;00m config_context(\u001b[39m*\u001b[39m\u001b[39m*\u001b[39mconfig):\n\u001b[1;32m--> 127\u001b[0m     \u001b[39mreturn\u001b[39;00m \u001b[39mself\u001b[39m\u001b[39m.\u001b[39mfunction(\u001b[39m*\u001b[39margs, \u001b[39m*\u001b[39m\u001b[39m*\u001b[39mkwargs)\n",
      "File \u001b[1;32mc:\\Users\\alois\\anaconda3\\Lib\\site-packages\\sklearn\\pipeline.py:950\u001b[0m, in \u001b[0;36m_fit_transform_one\u001b[1;34m(transformer, X, y, weight, message_clsname, message, **fit_params)\u001b[0m\n\u001b[0;32m    948\u001b[0m \u001b[39mwith\u001b[39;00m _print_elapsed_time(message_clsname, message):\n\u001b[0;32m    949\u001b[0m     \u001b[39mif\u001b[39;00m \u001b[39mhasattr\u001b[39m(transformer, \u001b[39m\"\u001b[39m\u001b[39mfit_transform\u001b[39m\u001b[39m\"\u001b[39m):\n\u001b[1;32m--> 950\u001b[0m         res \u001b[39m=\u001b[39m transformer\u001b[39m.\u001b[39mfit_transform(X, y, \u001b[39m*\u001b[39m\u001b[39m*\u001b[39mfit_params)\n\u001b[0;32m    951\u001b[0m     \u001b[39melse\u001b[39;00m:\n\u001b[0;32m    952\u001b[0m         res \u001b[39m=\u001b[39m transformer\u001b[39m.\u001b[39mfit(X, y, \u001b[39m*\u001b[39m\u001b[39m*\u001b[39mfit_params)\u001b[39m.\u001b[39mtransform(X)\n",
      "File \u001b[1;32mc:\\Users\\alois\\anaconda3\\Lib\\site-packages\\sklearn\\utils\\_set_output.py:140\u001b[0m, in \u001b[0;36m_wrap_method_output.<locals>.wrapped\u001b[1;34m(self, X, *args, **kwargs)\u001b[0m\n\u001b[0;32m    138\u001b[0m \u001b[39m@wraps\u001b[39m(f)\n\u001b[0;32m    139\u001b[0m \u001b[39mdef\u001b[39;00m \u001b[39mwrapped\u001b[39m(\u001b[39mself\u001b[39m, X, \u001b[39m*\u001b[39margs, \u001b[39m*\u001b[39m\u001b[39m*\u001b[39mkwargs):\n\u001b[1;32m--> 140\u001b[0m     data_to_wrap \u001b[39m=\u001b[39m f(\u001b[39mself\u001b[39m, X, \u001b[39m*\u001b[39margs, \u001b[39m*\u001b[39m\u001b[39m*\u001b[39mkwargs)\n\u001b[0;32m    141\u001b[0m     \u001b[39mif\u001b[39;00m \u001b[39misinstance\u001b[39m(data_to_wrap, \u001b[39mtuple\u001b[39m):\n\u001b[0;32m    142\u001b[0m         \u001b[39m# only wrap the first output for cross decomposition\u001b[39;00m\n\u001b[0;32m    143\u001b[0m         return_tuple \u001b[39m=\u001b[39m (\n\u001b[0;32m    144\u001b[0m             _wrap_data_with_container(method, data_to_wrap[\u001b[39m0\u001b[39m], X, \u001b[39mself\u001b[39m),\n\u001b[0;32m    145\u001b[0m             \u001b[39m*\u001b[39mdata_to_wrap[\u001b[39m1\u001b[39m:],\n\u001b[0;32m    146\u001b[0m         )\n",
      "File \u001b[1;32mc:\\Users\\alois\\anaconda3\\Lib\\site-packages\\sklearn\\base.py:1151\u001b[0m, in \u001b[0;36m_fit_context.<locals>.decorator.<locals>.wrapper\u001b[1;34m(estimator, *args, **kwargs)\u001b[0m\n\u001b[0;32m   1144\u001b[0m     estimator\u001b[39m.\u001b[39m_validate_params()\n\u001b[0;32m   1146\u001b[0m \u001b[39mwith\u001b[39;00m config_context(\n\u001b[0;32m   1147\u001b[0m     skip_parameter_validation\u001b[39m=\u001b[39m(\n\u001b[0;32m   1148\u001b[0m         prefer_skip_nested_validation \u001b[39mor\u001b[39;00m global_skip_validation\n\u001b[0;32m   1149\u001b[0m     )\n\u001b[0;32m   1150\u001b[0m ):\n\u001b[1;32m-> 1151\u001b[0m     \u001b[39mreturn\u001b[39;00m fit_method(estimator, \u001b[39m*\u001b[39margs, \u001b[39m*\u001b[39m\u001b[39m*\u001b[39mkwargs)\n",
      "File \u001b[1;32mc:\\Users\\alois\\anaconda3\\Lib\\site-packages\\sklearn\\impute\\_iterative.py:761\u001b[0m, in \u001b[0;36mIterativeImputer.fit_transform\u001b[1;34m(self, X, y)\u001b[0m\n\u001b[0;32m    757\u001b[0m \u001b[39mfor\u001b[39;00m feat_idx \u001b[39min\u001b[39;00m ordered_idx:\n\u001b[0;32m    758\u001b[0m     neighbor_feat_idx \u001b[39m=\u001b[39m \u001b[39mself\u001b[39m\u001b[39m.\u001b[39m_get_neighbor_feat_idx(\n\u001b[0;32m    759\u001b[0m         n_features, feat_idx, abs_corr_mat\n\u001b[0;32m    760\u001b[0m     )\n\u001b[1;32m--> 761\u001b[0m     Xt, estimator \u001b[39m=\u001b[39m \u001b[39mself\u001b[39m\u001b[39m.\u001b[39m_impute_one_feature(\n\u001b[0;32m    762\u001b[0m         Xt,\n\u001b[0;32m    763\u001b[0m         mask_missing_values,\n\u001b[0;32m    764\u001b[0m         feat_idx,\n\u001b[0;32m    765\u001b[0m         neighbor_feat_idx,\n\u001b[0;32m    766\u001b[0m         estimator\u001b[39m=\u001b[39m\u001b[39mNone\u001b[39;00m,\n\u001b[0;32m    767\u001b[0m         fit_mode\u001b[39m=\u001b[39m\u001b[39mTrue\u001b[39;00m,\n\u001b[0;32m    768\u001b[0m     )\n\u001b[0;32m    769\u001b[0m     estimator_triplet \u001b[39m=\u001b[39m _ImputerTriplet(\n\u001b[0;32m    770\u001b[0m         feat_idx, neighbor_feat_idx, estimator\n\u001b[0;32m    771\u001b[0m     )\n\u001b[0;32m    772\u001b[0m     \u001b[39mself\u001b[39m\u001b[39m.\u001b[39mimputation_sequence_\u001b[39m.\u001b[39mappend(estimator_triplet)\n",
      "File \u001b[1;32mc:\\Users\\alois\\anaconda3\\Lib\\site-packages\\sklearn\\impute\\_iterative.py:408\u001b[0m, in \u001b[0;36mIterativeImputer._impute_one_feature\u001b[1;34m(self, X_filled, mask_missing_values, feat_idx, neighbor_feat_idx, estimator, fit_mode)\u001b[0m\n\u001b[0;32m    398\u001b[0m     X_train \u001b[39m=\u001b[39m _safe_indexing(\n\u001b[0;32m    399\u001b[0m         _safe_indexing(X_filled, neighbor_feat_idx, axis\u001b[39m=\u001b[39m\u001b[39m1\u001b[39m),\n\u001b[0;32m    400\u001b[0m         \u001b[39m~\u001b[39mmissing_row_mask,\n\u001b[0;32m    401\u001b[0m         axis\u001b[39m=\u001b[39m\u001b[39m0\u001b[39m,\n\u001b[0;32m    402\u001b[0m     )\n\u001b[0;32m    403\u001b[0m     y_train \u001b[39m=\u001b[39m _safe_indexing(\n\u001b[0;32m    404\u001b[0m         _safe_indexing(X_filled, feat_idx, axis\u001b[39m=\u001b[39m\u001b[39m1\u001b[39m),\n\u001b[0;32m    405\u001b[0m         \u001b[39m~\u001b[39mmissing_row_mask,\n\u001b[0;32m    406\u001b[0m         axis\u001b[39m=\u001b[39m\u001b[39m0\u001b[39m,\n\u001b[0;32m    407\u001b[0m     )\n\u001b[1;32m--> 408\u001b[0m     estimator\u001b[39m.\u001b[39mfit(X_train, y_train)\n\u001b[0;32m    410\u001b[0m \u001b[39m# if no missing values, don't predict\u001b[39;00m\n\u001b[0;32m    411\u001b[0m \u001b[39mif\u001b[39;00m np\u001b[39m.\u001b[39msum(missing_row_mask) \u001b[39m==\u001b[39m \u001b[39m0\u001b[39m:\n",
      "File \u001b[1;32mc:\\Users\\alois\\anaconda3\\Lib\\site-packages\\xgboost\\core.py:729\u001b[0m, in \u001b[0;36mrequire_keyword_args.<locals>.throw_if.<locals>.inner_f\u001b[1;34m(*args, **kwargs)\u001b[0m\n\u001b[0;32m    727\u001b[0m \u001b[39mfor\u001b[39;00m k, arg \u001b[39min\u001b[39;00m \u001b[39mzip\u001b[39m(sig\u001b[39m.\u001b[39mparameters, args):\n\u001b[0;32m    728\u001b[0m     kwargs[k] \u001b[39m=\u001b[39m arg\n\u001b[1;32m--> 729\u001b[0m \u001b[39mreturn\u001b[39;00m func(\u001b[39m*\u001b[39m\u001b[39m*\u001b[39mkwargs)\n",
      "File \u001b[1;32mc:\\Users\\alois\\anaconda3\\Lib\\site-packages\\xgboost\\sklearn.py:1086\u001b[0m, in \u001b[0;36mXGBModel.fit\u001b[1;34m(self, X, y, sample_weight, base_margin, eval_set, eval_metric, early_stopping_rounds, verbose, xgb_model, sample_weight_eval_set, base_margin_eval_set, feature_weights, callbacks)\u001b[0m\n\u001b[0;32m   1075\u001b[0m     obj \u001b[39m=\u001b[39m \u001b[39mNone\u001b[39;00m\n\u001b[0;32m   1077\u001b[0m (\n\u001b[0;32m   1078\u001b[0m     model,\n\u001b[0;32m   1079\u001b[0m     metric,\n\u001b[1;32m   (...)\u001b[0m\n\u001b[0;32m   1084\u001b[0m     xgb_model, eval_metric, params, early_stopping_rounds, callbacks\n\u001b[0;32m   1085\u001b[0m )\n\u001b[1;32m-> 1086\u001b[0m \u001b[39mself\u001b[39m\u001b[39m.\u001b[39m_Booster \u001b[39m=\u001b[39m train(\n\u001b[0;32m   1087\u001b[0m     params,\n\u001b[0;32m   1088\u001b[0m     train_dmatrix,\n\u001b[0;32m   1089\u001b[0m     \u001b[39mself\u001b[39m\u001b[39m.\u001b[39mget_num_boosting_rounds(),\n\u001b[0;32m   1090\u001b[0m     evals\u001b[39m=\u001b[39mevals,\n\u001b[0;32m   1091\u001b[0m     early_stopping_rounds\u001b[39m=\u001b[39mearly_stopping_rounds,\n\u001b[0;32m   1092\u001b[0m     evals_result\u001b[39m=\u001b[39mevals_result,\n\u001b[0;32m   1093\u001b[0m     obj\u001b[39m=\u001b[39mobj,\n\u001b[0;32m   1094\u001b[0m     custom_metric\u001b[39m=\u001b[39mmetric,\n\u001b[0;32m   1095\u001b[0m     verbose_eval\u001b[39m=\u001b[39mverbose,\n\u001b[0;32m   1096\u001b[0m     xgb_model\u001b[39m=\u001b[39mmodel,\n\u001b[0;32m   1097\u001b[0m     callbacks\u001b[39m=\u001b[39mcallbacks,\n\u001b[0;32m   1098\u001b[0m )\n\u001b[0;32m   1100\u001b[0m \u001b[39mself\u001b[39m\u001b[39m.\u001b[39m_set_evaluation_result(evals_result)\n\u001b[0;32m   1101\u001b[0m \u001b[39mreturn\u001b[39;00m \u001b[39mself\u001b[39m\n",
      "File \u001b[1;32mc:\\Users\\alois\\anaconda3\\Lib\\site-packages\\xgboost\\core.py:729\u001b[0m, in \u001b[0;36mrequire_keyword_args.<locals>.throw_if.<locals>.inner_f\u001b[1;34m(*args, **kwargs)\u001b[0m\n\u001b[0;32m    727\u001b[0m \u001b[39mfor\u001b[39;00m k, arg \u001b[39min\u001b[39;00m \u001b[39mzip\u001b[39m(sig\u001b[39m.\u001b[39mparameters, args):\n\u001b[0;32m    728\u001b[0m     kwargs[k] \u001b[39m=\u001b[39m arg\n\u001b[1;32m--> 729\u001b[0m \u001b[39mreturn\u001b[39;00m func(\u001b[39m*\u001b[39m\u001b[39m*\u001b[39mkwargs)\n",
      "File \u001b[1;32mc:\\Users\\alois\\anaconda3\\Lib\\site-packages\\xgboost\\training.py:181\u001b[0m, in \u001b[0;36mtrain\u001b[1;34m(params, dtrain, num_boost_round, evals, obj, feval, maximize, early_stopping_rounds, evals_result, verbose_eval, xgb_model, callbacks, custom_metric)\u001b[0m\n\u001b[0;32m    179\u001b[0m \u001b[39mif\u001b[39;00m cb_container\u001b[39m.\u001b[39mbefore_iteration(bst, i, dtrain, evals):\n\u001b[0;32m    180\u001b[0m     \u001b[39mbreak\u001b[39;00m\n\u001b[1;32m--> 181\u001b[0m bst\u001b[39m.\u001b[39mupdate(dtrain, i, obj)\n\u001b[0;32m    182\u001b[0m \u001b[39mif\u001b[39;00m cb_container\u001b[39m.\u001b[39mafter_iteration(bst, i, dtrain, evals):\n\u001b[0;32m    183\u001b[0m     \u001b[39mbreak\u001b[39;00m\n",
      "File \u001b[1;32mc:\\Users\\alois\\anaconda3\\Lib\\site-packages\\xgboost\\core.py:2050\u001b[0m, in \u001b[0;36mBooster.update\u001b[1;34m(self, dtrain, iteration, fobj)\u001b[0m\n\u001b[0;32m   2046\u001b[0m \u001b[39mself\u001b[39m\u001b[39m.\u001b[39m_assign_dmatrix_features(dtrain)\n\u001b[0;32m   2048\u001b[0m \u001b[39mif\u001b[39;00m fobj \u001b[39mis\u001b[39;00m \u001b[39mNone\u001b[39;00m:\n\u001b[0;32m   2049\u001b[0m     _check_call(\n\u001b[1;32m-> 2050\u001b[0m         _LIB\u001b[39m.\u001b[39mXGBoosterUpdateOneIter(\n\u001b[0;32m   2051\u001b[0m             \u001b[39mself\u001b[39m\u001b[39m.\u001b[39mhandle, ctypes\u001b[39m.\u001b[39mc_int(iteration), dtrain\u001b[39m.\u001b[39mhandle\n\u001b[0;32m   2052\u001b[0m         )\n\u001b[0;32m   2053\u001b[0m     )\n\u001b[0;32m   2054\u001b[0m \u001b[39melse\u001b[39;00m:\n\u001b[0;32m   2055\u001b[0m     pred \u001b[39m=\u001b[39m \u001b[39mself\u001b[39m\u001b[39m.\u001b[39mpredict(dtrain, output_margin\u001b[39m=\u001b[39m\u001b[39mTrue\u001b[39;00m, training\u001b[39m=\u001b[39m\u001b[39mTrue\u001b[39;00m)\n",
      "\u001b[1;31mKeyboardInterrupt\u001b[0m: "
     ]
    }
   ],
   "source": [
    "ax_client = AxClient()\n",
    "objective_name = 'preprocessing_tune'\n",
    "ax_client.create_experiment(\n",
    "    parameters=parameters,\n",
    "    objective_name=objective_name,\n",
    "    minimize=False\n",
    ")\n",
    "\n",
    "# Specify the initial parameters according to your configuration\n",
    "initial_parameters = {\n",
    "    \"mice.estimator_params.n_estimators\": 100,  # You can set the initial values as needed\n",
    "    \"mice.estimator_params.max_depth\": 5,\n",
    "    \"mice.mice_params.max_iter\": 10,\n",
    "    \"mice.num_corr_features\": 50,\n",
    "    \"lasso_alpha\": 5,\n",
    "    \"n_estimators\": 50,\n",
    "    \"learning_rate\": 0.1,\n",
    "    \"mice.simple_params.strategy\": \"mean\",  # Choose a strategy from your configuration\n",
    "    \"mice.mice_params.imputation_order\": \"descending\"\n",
    "}\n",
    "\n",
    "_, trial_id = ax_client.attach_trial(initial_parameters)\n",
    "ax_client.complete_trial(trial_id, raw_data=evaluate_model(initial_parameters))\n",
    "\n",
    "\n",
    "\n",
    "\n",
    "\n",
    "\n",
    "for i in range(50):    \n",
    "    curr_parameters, trial_index = ax_client.get_next_trial()\n",
    "    ax_client.complete_trial(trial_index=trial_index, raw_data=evaluate_model(curr_parameters))"
   ]
  },
  {
   "cell_type": "markdown",
   "id": "023647d3-4e05-478d-88bb-a3ca2501665a",
   "metadata": {},
   "source": [
    "# Get best config and write prediction data"
   ]
  },
  {
   "cell_type": "code",
   "execution_count": 8,
   "id": "99dfcd67-c9ba-4ca6-95fa-0a78d653c46a",
   "metadata": {},
   "outputs": [],
   "source": [
    "import pandas as pd\n",
    "results_path = 'results/overview.csv'\n",
    "# Remove duplicates results, should fix this in train.py\n",
    "pd.read_csv(results_path).sort_values(by='train_results', ascending=False).drop_duplicates().to_csv(results_path, index=False)\n",
    "results = pd.read_csv(results_path).sort_values(by='train_results', ascending=False).drop_duplicates().reset_index(drop=True)"
   ]
  },
  {
   "cell_type": "code",
   "execution_count": 9,
   "id": "1932a620-6b71-498a-b8ce-d895f6386204",
   "metadata": {},
   "outputs": [
    {
     "data": {
      "text/html": [
       "<div>\n",
       "<style scoped>\n",
       "    .dataframe tbody tr th:only-of-type {\n",
       "        vertical-align: middle;\n",
       "    }\n",
       "\n",
       "    .dataframe tbody tr th {\n",
       "        vertical-align: top;\n",
       "    }\n",
       "\n",
       "    .dataframe thead th {\n",
       "        text-align: right;\n",
       "    }\n",
       "</style>\n",
       "<table border=\"1\" class=\"dataframe\">\n",
       "  <thead>\n",
       "    <tr style=\"text-align: right;\">\n",
       "      <th></th>\n",
       "      <th>train/data_paths/features</th>\n",
       "      <th>train/data_paths/label</th>\n",
       "      <th>train/preprocessing/scale</th>\n",
       "      <th>train/preprocessing/imputation/method</th>\n",
       "      <th>train/preprocessing/imputation/arguments/n_neighbors</th>\n",
       "      <th>train/preprocessing/outliers_detection/method</th>\n",
       "      <th>train/preprocessing/feature_selection/method</th>\n",
       "      <th>train/preprocessing/feature_selection/arguments/alpha</th>\n",
       "      <th>train/preprocessing/execution_order</th>\n",
       "      <th>train/model_type</th>\n",
       "      <th>...</th>\n",
       "      <th>evaluate/run</th>\n",
       "      <th>evaluate/data_paths/features</th>\n",
       "      <th>evaluate/data_paths/label</th>\n",
       "      <th>train_results</th>\n",
       "      <th>train/preprocessing/imputation/arguments/estimator_params/n_estimators</th>\n",
       "      <th>train/preprocessing/imputation/arguments/estimator_params/max_depth</th>\n",
       "      <th>train/preprocessing/imputation/arguments/mice_params/max_iter</th>\n",
       "      <th>train/preprocessing/imputation/arguments/mice_params/imputation_order</th>\n",
       "      <th>train/preprocessing/imputation/arguments/simple_params/strategy</th>\n",
       "      <th>train/preprocessing/imputation/arguments/num_corr_features</th>\n",
       "    </tr>\n",
       "  </thead>\n",
       "  <tbody>\n",
       "    <tr>\n",
       "      <th>0</th>\n",
       "      <td>data/X_train.csv</td>\n",
       "      <td>data/y_train.csv</td>\n",
       "      <td>True</td>\n",
       "      <td>knn</td>\n",
       "      <td>20.0</td>\n",
       "      <td>isolation_forest</td>\n",
       "      <td>lasso</td>\n",
       "      <td>0.7</td>\n",
       "      <td>imputation; outliers_detection; feature_selection</td>\n",
       "      <td>ada</td>\n",
       "      <td>...</td>\n",
       "      <td>True</td>\n",
       "      <td>data/X_test.csv</td>\n",
       "      <td>data/y_test_ada.csv</td>\n",
       "      <td>0.448614</td>\n",
       "      <td>NaN</td>\n",
       "      <td>NaN</td>\n",
       "      <td>NaN</td>\n",
       "      <td>NaN</td>\n",
       "      <td>NaN</td>\n",
       "      <td>NaN</td>\n",
       "    </tr>\n",
       "    <tr>\n",
       "      <th>1</th>\n",
       "      <td>data/X_train.csv</td>\n",
       "      <td>data/y_train.csv</td>\n",
       "      <td>True</td>\n",
       "      <td>knn</td>\n",
       "      <td>20.0</td>\n",
       "      <td>isolation_forest</td>\n",
       "      <td>lasso</td>\n",
       "      <td>0.7</td>\n",
       "      <td>imputation; outliers_detection; feature_selection</td>\n",
       "      <td>ada</td>\n",
       "      <td>...</td>\n",
       "      <td>True</td>\n",
       "      <td>data/X_test.csv</td>\n",
       "      <td>data/y_test_ada.csv</td>\n",
       "      <td>0.445853</td>\n",
       "      <td>NaN</td>\n",
       "      <td>NaN</td>\n",
       "      <td>NaN</td>\n",
       "      <td>NaN</td>\n",
       "      <td>NaN</td>\n",
       "      <td>NaN</td>\n",
       "    </tr>\n",
       "    <tr>\n",
       "      <th>2</th>\n",
       "      <td>data/X_train.csv</td>\n",
       "      <td>data/y_train.csv</td>\n",
       "      <td>True</td>\n",
       "      <td>knn</td>\n",
       "      <td>20.0</td>\n",
       "      <td>isolation_forest</td>\n",
       "      <td>lasso</td>\n",
       "      <td>0.8</td>\n",
       "      <td>imputation; outliers_detection; feature_selection</td>\n",
       "      <td>ada</td>\n",
       "      <td>...</td>\n",
       "      <td>True</td>\n",
       "      <td>data/X_test.csv</td>\n",
       "      <td>data/y_test_ada.csv</td>\n",
       "      <td>0.445686</td>\n",
       "      <td>NaN</td>\n",
       "      <td>NaN</td>\n",
       "      <td>NaN</td>\n",
       "      <td>NaN</td>\n",
       "      <td>NaN</td>\n",
       "      <td>NaN</td>\n",
       "    </tr>\n",
       "    <tr>\n",
       "      <th>3</th>\n",
       "      <td>data/X_train.csv</td>\n",
       "      <td>data/y_train.csv</td>\n",
       "      <td>True</td>\n",
       "      <td>knn</td>\n",
       "      <td>8.0</td>\n",
       "      <td>isolation_forest</td>\n",
       "      <td>lasso</td>\n",
       "      <td>1.0</td>\n",
       "      <td>imputation; outliers_detection; feature_selection</td>\n",
       "      <td>ada</td>\n",
       "      <td>...</td>\n",
       "      <td>True</td>\n",
       "      <td>data/X_test.csv</td>\n",
       "      <td>data/y_test_ada.csv</td>\n",
       "      <td>0.443252</td>\n",
       "      <td>NaN</td>\n",
       "      <td>NaN</td>\n",
       "      <td>NaN</td>\n",
       "      <td>NaN</td>\n",
       "      <td>NaN</td>\n",
       "      <td>NaN</td>\n",
       "    </tr>\n",
       "    <tr>\n",
       "      <th>4</th>\n",
       "      <td>data/X_train.csv</td>\n",
       "      <td>data/y_train.csv</td>\n",
       "      <td>True</td>\n",
       "      <td>knn</td>\n",
       "      <td>19.0</td>\n",
       "      <td>isolation_forest</td>\n",
       "      <td>lasso</td>\n",
       "      <td>0.8</td>\n",
       "      <td>imputation; outliers_detection; feature_selection</td>\n",
       "      <td>ada</td>\n",
       "      <td>...</td>\n",
       "      <td>True</td>\n",
       "      <td>data/X_test.csv</td>\n",
       "      <td>data/y_test_ada.csv</td>\n",
       "      <td>0.441705</td>\n",
       "      <td>NaN</td>\n",
       "      <td>NaN</td>\n",
       "      <td>NaN</td>\n",
       "      <td>NaN</td>\n",
       "      <td>NaN</td>\n",
       "      <td>NaN</td>\n",
       "    </tr>\n",
       "    <tr>\n",
       "      <th>5</th>\n",
       "      <td>data/X_train.csv</td>\n",
       "      <td>data/y_train.csv</td>\n",
       "      <td>True</td>\n",
       "      <td>knn</td>\n",
       "      <td>18.0</td>\n",
       "      <td>isolation_forest</td>\n",
       "      <td>lasso</td>\n",
       "      <td>0.9</td>\n",
       "      <td>imputation; outliers_detection; feature_selection</td>\n",
       "      <td>ada</td>\n",
       "      <td>...</td>\n",
       "      <td>True</td>\n",
       "      <td>data/X_test.csv</td>\n",
       "      <td>data/y_test_ada.csv</td>\n",
       "      <td>0.439079</td>\n",
       "      <td>NaN</td>\n",
       "      <td>NaN</td>\n",
       "      <td>NaN</td>\n",
       "      <td>NaN</td>\n",
       "      <td>NaN</td>\n",
       "      <td>NaN</td>\n",
       "    </tr>\n",
       "    <tr>\n",
       "      <th>6</th>\n",
       "      <td>data/X_train.csv</td>\n",
       "      <td>data/y_train.csv</td>\n",
       "      <td>True</td>\n",
       "      <td>knn</td>\n",
       "      <td>20.0</td>\n",
       "      <td>isolation_forest</td>\n",
       "      <td>lasso</td>\n",
       "      <td>0.6</td>\n",
       "      <td>imputation; outliers_detection; feature_selection</td>\n",
       "      <td>ada</td>\n",
       "      <td>...</td>\n",
       "      <td>True</td>\n",
       "      <td>data/X_test.csv</td>\n",
       "      <td>data/y_test_ada.csv</td>\n",
       "      <td>0.428652</td>\n",
       "      <td>NaN</td>\n",
       "      <td>NaN</td>\n",
       "      <td>NaN</td>\n",
       "      <td>NaN</td>\n",
       "      <td>NaN</td>\n",
       "      <td>NaN</td>\n",
       "    </tr>\n",
       "    <tr>\n",
       "      <th>7</th>\n",
       "      <td>data/X_train.csv</td>\n",
       "      <td>data/y_train.csv</td>\n",
       "      <td>True</td>\n",
       "      <td>knn</td>\n",
       "      <td>15.0</td>\n",
       "      <td>isolation_forest</td>\n",
       "      <td>lasso</td>\n",
       "      <td>0.8</td>\n",
       "      <td>imputation; outliers_detection; feature_selection</td>\n",
       "      <td>ada</td>\n",
       "      <td>...</td>\n",
       "      <td>True</td>\n",
       "      <td>data/X_test.csv</td>\n",
       "      <td>data/y_test_ada.csv</td>\n",
       "      <td>0.428306</td>\n",
       "      <td>NaN</td>\n",
       "      <td>NaN</td>\n",
       "      <td>NaN</td>\n",
       "      <td>NaN</td>\n",
       "      <td>NaN</td>\n",
       "      <td>NaN</td>\n",
       "    </tr>\n",
       "    <tr>\n",
       "      <th>8</th>\n",
       "      <td>data/X_train.csv</td>\n",
       "      <td>data/y_train.csv</td>\n",
       "      <td>True</td>\n",
       "      <td>knn</td>\n",
       "      <td>13.0</td>\n",
       "      <td>isolation_forest</td>\n",
       "      <td>lasso</td>\n",
       "      <td>0.6</td>\n",
       "      <td>imputation; outliers_detection; feature_selection</td>\n",
       "      <td>ada</td>\n",
       "      <td>...</td>\n",
       "      <td>True</td>\n",
       "      <td>data/X_test.csv</td>\n",
       "      <td>data/y_test_ada.csv</td>\n",
       "      <td>0.423359</td>\n",
       "      <td>NaN</td>\n",
       "      <td>NaN</td>\n",
       "      <td>NaN</td>\n",
       "      <td>NaN</td>\n",
       "      <td>NaN</td>\n",
       "      <td>NaN</td>\n",
       "    </tr>\n",
       "    <tr>\n",
       "      <th>9</th>\n",
       "      <td>data/X_train.csv</td>\n",
       "      <td>data/y_train.csv</td>\n",
       "      <td>True</td>\n",
       "      <td>knn</td>\n",
       "      <td>8.0</td>\n",
       "      <td>isolation_forest</td>\n",
       "      <td>lasso</td>\n",
       "      <td>0.4</td>\n",
       "      <td>imputation; outliers_detection; feature_selection</td>\n",
       "      <td>ada</td>\n",
       "      <td>...</td>\n",
       "      <td>True</td>\n",
       "      <td>data/X_test.csv</td>\n",
       "      <td>data/y_test_ada.csv</td>\n",
       "      <td>0.422158</td>\n",
       "      <td>NaN</td>\n",
       "      <td>NaN</td>\n",
       "      <td>NaN</td>\n",
       "      <td>NaN</td>\n",
       "      <td>NaN</td>\n",
       "      <td>NaN</td>\n",
       "    </tr>\n",
       "    <tr>\n",
       "      <th>10</th>\n",
       "      <td>data/X_train.csv</td>\n",
       "      <td>data/y_train.csv</td>\n",
       "      <td>True</td>\n",
       "      <td>mice</td>\n",
       "      <td>NaN</td>\n",
       "      <td>isolation_forest</td>\n",
       "      <td>lasso</td>\n",
       "      <td>0.7</td>\n",
       "      <td>imputation; outliers_detection; feature_selection</td>\n",
       "      <td>ada</td>\n",
       "      <td>...</td>\n",
       "      <td>True</td>\n",
       "      <td>data/X_test.csv</td>\n",
       "      <td>data/y_test_ada_mice.csv</td>\n",
       "      <td>0.421865</td>\n",
       "      <td>126.0</td>\n",
       "      <td>7.0</td>\n",
       "      <td>19.0</td>\n",
       "      <td>descending</td>\n",
       "      <td>mean</td>\n",
       "      <td>86.0</td>\n",
       "    </tr>\n",
       "    <tr>\n",
       "      <th>11</th>\n",
       "      <td>data/X_train.csv</td>\n",
       "      <td>data/y_train.csv</td>\n",
       "      <td>True</td>\n",
       "      <td>mice</td>\n",
       "      <td>NaN</td>\n",
       "      <td>isolation_forest</td>\n",
       "      <td>lasso</td>\n",
       "      <td>0.9</td>\n",
       "      <td>imputation; outliers_detection; feature_selection</td>\n",
       "      <td>ada</td>\n",
       "      <td>...</td>\n",
       "      <td>True</td>\n",
       "      <td>data/X_test.csv</td>\n",
       "      <td>data/y_test_ada_mice.csv</td>\n",
       "      <td>0.420403</td>\n",
       "      <td>173.0</td>\n",
       "      <td>2.0</td>\n",
       "      <td>10.0</td>\n",
       "      <td>descending</td>\n",
       "      <td>most_frequent</td>\n",
       "      <td>115.0</td>\n",
       "    </tr>\n",
       "    <tr>\n",
       "      <th>12</th>\n",
       "      <td>data/X_train.csv</td>\n",
       "      <td>data/y_train.csv</td>\n",
       "      <td>True</td>\n",
       "      <td>mice</td>\n",
       "      <td>NaN</td>\n",
       "      <td>isolation_forest</td>\n",
       "      <td>lasso</td>\n",
       "      <td>0.2</td>\n",
       "      <td>imputation; outliers_detection; feature_selection</td>\n",
       "      <td>ada</td>\n",
       "      <td>...</td>\n",
       "      <td>True</td>\n",
       "      <td>data/X_test.csv</td>\n",
       "      <td>data/y_test_ada_mice.csv</td>\n",
       "      <td>0.420267</td>\n",
       "      <td>87.0</td>\n",
       "      <td>8.0</td>\n",
       "      <td>13.0</td>\n",
       "      <td>arabic</td>\n",
       "      <td>constant</td>\n",
       "      <td>24.0</td>\n",
       "    </tr>\n",
       "    <tr>\n",
       "      <th>13</th>\n",
       "      <td>data/X_train.csv</td>\n",
       "      <td>data/y_train.csv</td>\n",
       "      <td>True</td>\n",
       "      <td>knn</td>\n",
       "      <td>5.0</td>\n",
       "      <td>isolation_forest</td>\n",
       "      <td>lasso</td>\n",
       "      <td>0.7</td>\n",
       "      <td>imputation; outliers_detection; feature_selection</td>\n",
       "      <td>ada</td>\n",
       "      <td>...</td>\n",
       "      <td>True</td>\n",
       "      <td>data/X_test.csv</td>\n",
       "      <td>data/y_test_ada.csv</td>\n",
       "      <td>0.418899</td>\n",
       "      <td>NaN</td>\n",
       "      <td>NaN</td>\n",
       "      <td>NaN</td>\n",
       "      <td>NaN</td>\n",
       "      <td>NaN</td>\n",
       "      <td>NaN</td>\n",
       "    </tr>\n",
       "    <tr>\n",
       "      <th>14</th>\n",
       "      <td>data/X_train.csv</td>\n",
       "      <td>data/y_train.csv</td>\n",
       "      <td>True</td>\n",
       "      <td>mice</td>\n",
       "      <td>NaN</td>\n",
       "      <td>isolation_forest</td>\n",
       "      <td>lasso</td>\n",
       "      <td>0.3</td>\n",
       "      <td>imputation; outliers_detection; feature_selection</td>\n",
       "      <td>ada</td>\n",
       "      <td>...</td>\n",
       "      <td>True</td>\n",
       "      <td>data/X_test.csv</td>\n",
       "      <td>data/y_test_ada_mice.csv</td>\n",
       "      <td>0.418210</td>\n",
       "      <td>157.0</td>\n",
       "      <td>9.0</td>\n",
       "      <td>8.0</td>\n",
       "      <td>descending</td>\n",
       "      <td>median</td>\n",
       "      <td>62.0</td>\n",
       "    </tr>\n",
       "    <tr>\n",
       "      <th>15</th>\n",
       "      <td>data/X_train.csv</td>\n",
       "      <td>data/y_train.csv</td>\n",
       "      <td>True</td>\n",
       "      <td>knn</td>\n",
       "      <td>13.0</td>\n",
       "      <td>isolation_forest</td>\n",
       "      <td>lasso</td>\n",
       "      <td>0.6</td>\n",
       "      <td>imputation; outliers_detection; feature_selection</td>\n",
       "      <td>ada</td>\n",
       "      <td>...</td>\n",
       "      <td>True</td>\n",
       "      <td>data/X_test.csv</td>\n",
       "      <td>data/y_test_ada.csv</td>\n",
       "      <td>0.417478</td>\n",
       "      <td>NaN</td>\n",
       "      <td>NaN</td>\n",
       "      <td>NaN</td>\n",
       "      <td>NaN</td>\n",
       "      <td>NaN</td>\n",
       "      <td>NaN</td>\n",
       "    </tr>\n",
       "    <tr>\n",
       "      <th>16</th>\n",
       "      <td>data/X_train.csv</td>\n",
       "      <td>data/y_train.csv</td>\n",
       "      <td>True</td>\n",
       "      <td>mice</td>\n",
       "      <td>NaN</td>\n",
       "      <td>isolation_forest</td>\n",
       "      <td>lasso</td>\n",
       "      <td>0.4</td>\n",
       "      <td>imputation; outliers_detection; feature_selection</td>\n",
       "      <td>ada</td>\n",
       "      <td>...</td>\n",
       "      <td>True</td>\n",
       "      <td>data/X_test.csv</td>\n",
       "      <td>data/y_test_ada_mice.csv</td>\n",
       "      <td>0.417202</td>\n",
       "      <td>112.0</td>\n",
       "      <td>5.0</td>\n",
       "      <td>17.0</td>\n",
       "      <td>random</td>\n",
       "      <td>median</td>\n",
       "      <td>11.0</td>\n",
       "    </tr>\n",
       "    <tr>\n",
       "      <th>17</th>\n",
       "      <td>data/X_train.csv</td>\n",
       "      <td>data/y_train.csv</td>\n",
       "      <td>True</td>\n",
       "      <td>knn</td>\n",
       "      <td>10.0</td>\n",
       "      <td>isolation_forest</td>\n",
       "      <td>lasso</td>\n",
       "      <td>0.4</td>\n",
       "      <td>imputation; outliers_detection; feature_selection</td>\n",
       "      <td>ada</td>\n",
       "      <td>...</td>\n",
       "      <td>True</td>\n",
       "      <td>data/X_test.csv</td>\n",
       "      <td>data/y_test_ada.csv</td>\n",
       "      <td>0.417075</td>\n",
       "      <td>NaN</td>\n",
       "      <td>NaN</td>\n",
       "      <td>NaN</td>\n",
       "      <td>NaN</td>\n",
       "      <td>NaN</td>\n",
       "      <td>NaN</td>\n",
       "    </tr>\n",
       "    <tr>\n",
       "      <th>18</th>\n",
       "      <td>data/X_train.csv</td>\n",
       "      <td>data/y_train.csv</td>\n",
       "      <td>True</td>\n",
       "      <td>mice</td>\n",
       "      <td>NaN</td>\n",
       "      <td>isolation_forest</td>\n",
       "      <td>lasso</td>\n",
       "      <td>0.6</td>\n",
       "      <td>imputation; outliers_detection; feature_selection</td>\n",
       "      <td>ada</td>\n",
       "      <td>...</td>\n",
       "      <td>True</td>\n",
       "      <td>data/X_test.csv</td>\n",
       "      <td>data/y_test_ada_mice.csv</td>\n",
       "      <td>0.416992</td>\n",
       "      <td>85.0</td>\n",
       "      <td>9.0</td>\n",
       "      <td>16.0</td>\n",
       "      <td>descending</td>\n",
       "      <td>median</td>\n",
       "      <td>74.0</td>\n",
       "    </tr>\n",
       "    <tr>\n",
       "      <th>19</th>\n",
       "      <td>data/X_train.csv</td>\n",
       "      <td>data/y_train.csv</td>\n",
       "      <td>True</td>\n",
       "      <td>mice</td>\n",
       "      <td>NaN</td>\n",
       "      <td>isolation_forest</td>\n",
       "      <td>lasso</td>\n",
       "      <td>0.6</td>\n",
       "      <td>imputation; outliers_detection; feature_selection</td>\n",
       "      <td>ada</td>\n",
       "      <td>...</td>\n",
       "      <td>True</td>\n",
       "      <td>data/X_test.csv</td>\n",
       "      <td>data/y_test_ada_mice.csv</td>\n",
       "      <td>0.416261</td>\n",
       "      <td>111.0</td>\n",
       "      <td>4.0</td>\n",
       "      <td>12.0</td>\n",
       "      <td>random</td>\n",
       "      <td>median</td>\n",
       "      <td>63.0</td>\n",
       "    </tr>\n",
       "    <tr>\n",
       "      <th>20</th>\n",
       "      <td>data/X_train.csv</td>\n",
       "      <td>data/y_train.csv</td>\n",
       "      <td>True</td>\n",
       "      <td>mice</td>\n",
       "      <td>NaN</td>\n",
       "      <td>isolation_forest</td>\n",
       "      <td>lasso</td>\n",
       "      <td>0.0</td>\n",
       "      <td>imputation; outliers_detection; feature_selection</td>\n",
       "      <td>ada</td>\n",
       "      <td>...</td>\n",
       "      <td>True</td>\n",
       "      <td>data/X_test.csv</td>\n",
       "      <td>data/y_test_ada_mice.csv</td>\n",
       "      <td>0.415649</td>\n",
       "      <td>114.0</td>\n",
       "      <td>10.0</td>\n",
       "      <td>16.0</td>\n",
       "      <td>roman</td>\n",
       "      <td>mean</td>\n",
       "      <td>NaN</td>\n",
       "    </tr>\n",
       "    <tr>\n",
       "      <th>21</th>\n",
       "      <td>data/X_train.csv</td>\n",
       "      <td>data/y_train.csv</td>\n",
       "      <td>True</td>\n",
       "      <td>knn</td>\n",
       "      <td>12.0</td>\n",
       "      <td>isolation_forest</td>\n",
       "      <td>lasso</td>\n",
       "      <td>0.0</td>\n",
       "      <td>imputation; outliers_detection; feature_selection</td>\n",
       "      <td>ada</td>\n",
       "      <td>...</td>\n",
       "      <td>True</td>\n",
       "      <td>data/X_test.csv</td>\n",
       "      <td>data/y_test_ada.csv</td>\n",
       "      <td>0.414768</td>\n",
       "      <td>NaN</td>\n",
       "      <td>NaN</td>\n",
       "      <td>NaN</td>\n",
       "      <td>NaN</td>\n",
       "      <td>NaN</td>\n",
       "      <td>NaN</td>\n",
       "    </tr>\n",
       "    <tr>\n",
       "      <th>22</th>\n",
       "      <td>data/X_train.csv</td>\n",
       "      <td>data/y_train.csv</td>\n",
       "      <td>True</td>\n",
       "      <td>mice</td>\n",
       "      <td>NaN</td>\n",
       "      <td>isolation_forest</td>\n",
       "      <td>lasso</td>\n",
       "      <td>0.7</td>\n",
       "      <td>imputation; outliers_detection; feature_selection</td>\n",
       "      <td>ada</td>\n",
       "      <td>...</td>\n",
       "      <td>True</td>\n",
       "      <td>data/X_test.csv</td>\n",
       "      <td>data/y_test_ada_mice.csv</td>\n",
       "      <td>0.410950</td>\n",
       "      <td>130.0</td>\n",
       "      <td>7.0</td>\n",
       "      <td>16.0</td>\n",
       "      <td>ascending</td>\n",
       "      <td>constant</td>\n",
       "      <td>129.0</td>\n",
       "    </tr>\n",
       "    <tr>\n",
       "      <th>23</th>\n",
       "      <td>data/X_train.csv</td>\n",
       "      <td>data/y_train.csv</td>\n",
       "      <td>True</td>\n",
       "      <td>mice</td>\n",
       "      <td>NaN</td>\n",
       "      <td>isolation_forest</td>\n",
       "      <td>lasso</td>\n",
       "      <td>0.6</td>\n",
       "      <td>imputation; outliers_detection; feature_selection</td>\n",
       "      <td>ada</td>\n",
       "      <td>...</td>\n",
       "      <td>True</td>\n",
       "      <td>data/X_test.csv</td>\n",
       "      <td>data/y_test_ada_mice.csv</td>\n",
       "      <td>0.410201</td>\n",
       "      <td>80.0</td>\n",
       "      <td>8.0</td>\n",
       "      <td>19.0</td>\n",
       "      <td>ascending</td>\n",
       "      <td>most_frequent</td>\n",
       "      <td>37.0</td>\n",
       "    </tr>\n",
       "    <tr>\n",
       "      <th>24</th>\n",
       "      <td>data/X_train.csv</td>\n",
       "      <td>data/y_train.csv</td>\n",
       "      <td>True</td>\n",
       "      <td>mice</td>\n",
       "      <td>NaN</td>\n",
       "      <td>isolation_forest</td>\n",
       "      <td>lasso</td>\n",
       "      <td>0.3</td>\n",
       "      <td>imputation; outliers_detection; feature_selection</td>\n",
       "      <td>ada</td>\n",
       "      <td>...</td>\n",
       "      <td>True</td>\n",
       "      <td>data/X_test.csv</td>\n",
       "      <td>data/y_test_ada_mice.csv</td>\n",
       "      <td>0.408745</td>\n",
       "      <td>83.0</td>\n",
       "      <td>6.0</td>\n",
       "      <td>16.0</td>\n",
       "      <td>descending</td>\n",
       "      <td>median</td>\n",
       "      <td>22.0</td>\n",
       "    </tr>\n",
       "    <tr>\n",
       "      <th>25</th>\n",
       "      <td>data/X_train.csv</td>\n",
       "      <td>data/y_train.csv</td>\n",
       "      <td>True</td>\n",
       "      <td>mice</td>\n",
       "      <td>NaN</td>\n",
       "      <td>isolation_forest</td>\n",
       "      <td>lasso</td>\n",
       "      <td>0.7</td>\n",
       "      <td>imputation; outliers_detection; feature_selection</td>\n",
       "      <td>ada</td>\n",
       "      <td>...</td>\n",
       "      <td>True</td>\n",
       "      <td>data/X_test.csv</td>\n",
       "      <td>data/y_test_ada_mice.csv</td>\n",
       "      <td>0.408019</td>\n",
       "      <td>149.0</td>\n",
       "      <td>5.0</td>\n",
       "      <td>8.0</td>\n",
       "      <td>roman</td>\n",
       "      <td>mean</td>\n",
       "      <td>73.0</td>\n",
       "    </tr>\n",
       "    <tr>\n",
       "      <th>26</th>\n",
       "      <td>data/X_train.csv</td>\n",
       "      <td>data/y_train.csv</td>\n",
       "      <td>True</td>\n",
       "      <td>knn</td>\n",
       "      <td>13.0</td>\n",
       "      <td>isolation_forest</td>\n",
       "      <td>lasso</td>\n",
       "      <td>0.4</td>\n",
       "      <td>imputation; outliers_detection; feature_selection</td>\n",
       "      <td>ada</td>\n",
       "      <td>...</td>\n",
       "      <td>True</td>\n",
       "      <td>data/X_test.csv</td>\n",
       "      <td>data/y_test_ada.csv</td>\n",
       "      <td>0.407219</td>\n",
       "      <td>NaN</td>\n",
       "      <td>NaN</td>\n",
       "      <td>NaN</td>\n",
       "      <td>NaN</td>\n",
       "      <td>NaN</td>\n",
       "      <td>NaN</td>\n",
       "    </tr>\n",
       "    <tr>\n",
       "      <th>27</th>\n",
       "      <td>data/X_train.csv</td>\n",
       "      <td>data/y_train.csv</td>\n",
       "      <td>True</td>\n",
       "      <td>mice</td>\n",
       "      <td>NaN</td>\n",
       "      <td>isolation_forest</td>\n",
       "      <td>lasso</td>\n",
       "      <td>0.5</td>\n",
       "      <td>imputation; outliers_detection; feature_selection</td>\n",
       "      <td>ada</td>\n",
       "      <td>...</td>\n",
       "      <td>True</td>\n",
       "      <td>data/X_test.csv</td>\n",
       "      <td>data/y_test_ada_mice.csv</td>\n",
       "      <td>0.406673</td>\n",
       "      <td>100.0</td>\n",
       "      <td>5.0</td>\n",
       "      <td>10.0</td>\n",
       "      <td>descending</td>\n",
       "      <td>mean</td>\n",
       "      <td>50.0</td>\n",
       "    </tr>\n",
       "    <tr>\n",
       "      <th>28</th>\n",
       "      <td>data/X_train.csv</td>\n",
       "      <td>data/y_train.csv</td>\n",
       "      <td>True</td>\n",
       "      <td>mice</td>\n",
       "      <td>NaN</td>\n",
       "      <td>isolation_forest</td>\n",
       "      <td>lasso</td>\n",
       "      <td>0.1</td>\n",
       "      <td>imputation; outliers_detection; feature_selection</td>\n",
       "      <td>ada</td>\n",
       "      <td>...</td>\n",
       "      <td>True</td>\n",
       "      <td>data/X_test.csv</td>\n",
       "      <td>data/y_test_ada_mice.csv</td>\n",
       "      <td>0.404357</td>\n",
       "      <td>129.0</td>\n",
       "      <td>4.0</td>\n",
       "      <td>12.0</td>\n",
       "      <td>ascending</td>\n",
       "      <td>median</td>\n",
       "      <td>58.0</td>\n",
       "    </tr>\n",
       "    <tr>\n",
       "      <th>29</th>\n",
       "      <td>data/X_train.csv</td>\n",
       "      <td>data/y_train.csv</td>\n",
       "      <td>True</td>\n",
       "      <td>mice</td>\n",
       "      <td>NaN</td>\n",
       "      <td>isolation_forest</td>\n",
       "      <td>lasso</td>\n",
       "      <td>0.5</td>\n",
       "      <td>imputation; outliers_detection; feature_selection</td>\n",
       "      <td>ada</td>\n",
       "      <td>...</td>\n",
       "      <td>True</td>\n",
       "      <td>data/X_test.csv</td>\n",
       "      <td>data/y_test_ada_mice.csv</td>\n",
       "      <td>0.402709</td>\n",
       "      <td>163.0</td>\n",
       "      <td>9.0</td>\n",
       "      <td>10.0</td>\n",
       "      <td>roman</td>\n",
       "      <td>mean</td>\n",
       "      <td>15.0</td>\n",
       "    </tr>\n",
       "    <tr>\n",
       "      <th>30</th>\n",
       "      <td>data/X_train.csv</td>\n",
       "      <td>data/y_train.csv</td>\n",
       "      <td>True</td>\n",
       "      <td>mice</td>\n",
       "      <td>NaN</td>\n",
       "      <td>isolation_forest</td>\n",
       "      <td>lasso</td>\n",
       "      <td>0.4</td>\n",
       "      <td>imputation; outliers_detection; feature_selection</td>\n",
       "      <td>ada</td>\n",
       "      <td>...</td>\n",
       "      <td>True</td>\n",
       "      <td>data/X_test.csv</td>\n",
       "      <td>data/y_test_ada_mice.csv</td>\n",
       "      <td>0.401215</td>\n",
       "      <td>189.0</td>\n",
       "      <td>6.0</td>\n",
       "      <td>17.0</td>\n",
       "      <td>ascending</td>\n",
       "      <td>median</td>\n",
       "      <td>NaN</td>\n",
       "    </tr>\n",
       "    <tr>\n",
       "      <th>31</th>\n",
       "      <td>data/X_train.csv</td>\n",
       "      <td>data/y_train.csv</td>\n",
       "      <td>True</td>\n",
       "      <td>mice</td>\n",
       "      <td>NaN</td>\n",
       "      <td>isolation_forest</td>\n",
       "      <td>lasso</td>\n",
       "      <td>0.5</td>\n",
       "      <td>imputation; outliers_detection; feature_selection</td>\n",
       "      <td>ada</td>\n",
       "      <td>...</td>\n",
       "      <td>True</td>\n",
       "      <td>data/X_test.csv</td>\n",
       "      <td>data/y_test_ada_mice.csv</td>\n",
       "      <td>0.399086</td>\n",
       "      <td>100.0</td>\n",
       "      <td>5.0</td>\n",
       "      <td>10.0</td>\n",
       "      <td>descending</td>\n",
       "      <td>mean</td>\n",
       "      <td>NaN</td>\n",
       "    </tr>\n",
       "    <tr>\n",
       "      <th>32</th>\n",
       "      <td>data/X_train.csv</td>\n",
       "      <td>data/y_train.csv</td>\n",
       "      <td>True</td>\n",
       "      <td>mice</td>\n",
       "      <td>NaN</td>\n",
       "      <td>isolation_forest</td>\n",
       "      <td>lasso</td>\n",
       "      <td>0.3</td>\n",
       "      <td>imputation; outliers_detection; feature_selection</td>\n",
       "      <td>ada</td>\n",
       "      <td>...</td>\n",
       "      <td>True</td>\n",
       "      <td>data/X_test.csv</td>\n",
       "      <td>data/y_test_ada_mice.csv</td>\n",
       "      <td>0.397811</td>\n",
       "      <td>92.0</td>\n",
       "      <td>2.0</td>\n",
       "      <td>7.0</td>\n",
       "      <td>descending</td>\n",
       "      <td>most_frequent</td>\n",
       "      <td>82.0</td>\n",
       "    </tr>\n",
       "    <tr>\n",
       "      <th>33</th>\n",
       "      <td>data/X_train.csv</td>\n",
       "      <td>data/y_train.csv</td>\n",
       "      <td>True</td>\n",
       "      <td>mice</td>\n",
       "      <td>NaN</td>\n",
       "      <td>isolation_forest</td>\n",
       "      <td>lasso</td>\n",
       "      <td>0.7</td>\n",
       "      <td>imputation; outliers_detection; feature_selection</td>\n",
       "      <td>ada</td>\n",
       "      <td>...</td>\n",
       "      <td>True</td>\n",
       "      <td>data/X_test.csv</td>\n",
       "      <td>data/y_test_ada_mice.csv</td>\n",
       "      <td>0.395282</td>\n",
       "      <td>99.0</td>\n",
       "      <td>8.0</td>\n",
       "      <td>6.0</td>\n",
       "      <td>ascending</td>\n",
       "      <td>mean</td>\n",
       "      <td>NaN</td>\n",
       "    </tr>\n",
       "    <tr>\n",
       "      <th>34</th>\n",
       "      <td>data/X_train.csv</td>\n",
       "      <td>data/y_train.csv</td>\n",
       "      <td>True</td>\n",
       "      <td>mice</td>\n",
       "      <td>NaN</td>\n",
       "      <td>isolation_forest</td>\n",
       "      <td>lasso</td>\n",
       "      <td>0.3</td>\n",
       "      <td>imputation; outliers_detection; feature_selection</td>\n",
       "      <td>ada</td>\n",
       "      <td>...</td>\n",
       "      <td>True</td>\n",
       "      <td>data/X_test.csv</td>\n",
       "      <td>data/y_test_ada_mice.csv</td>\n",
       "      <td>0.394254</td>\n",
       "      <td>51.0</td>\n",
       "      <td>3.0</td>\n",
       "      <td>17.0</td>\n",
       "      <td>random</td>\n",
       "      <td>mean</td>\n",
       "      <td>112.0</td>\n",
       "    </tr>\n",
       "    <tr>\n",
       "      <th>35</th>\n",
       "      <td>data/X_train.csv</td>\n",
       "      <td>data/y_train.csv</td>\n",
       "      <td>True</td>\n",
       "      <td>mice</td>\n",
       "      <td>NaN</td>\n",
       "      <td>isolation_forest</td>\n",
       "      <td>lasso</td>\n",
       "      <td>0.6</td>\n",
       "      <td>imputation; outliers_detection; feature_selection</td>\n",
       "      <td>ada</td>\n",
       "      <td>...</td>\n",
       "      <td>True</td>\n",
       "      <td>data/X_test.csv</td>\n",
       "      <td>data/y_test_ada_mice.csv</td>\n",
       "      <td>0.393656</td>\n",
       "      <td>122.0</td>\n",
       "      <td>3.0</td>\n",
       "      <td>9.0</td>\n",
       "      <td>arabic</td>\n",
       "      <td>constant</td>\n",
       "      <td>66.0</td>\n",
       "    </tr>\n",
       "    <tr>\n",
       "      <th>36</th>\n",
       "      <td>data/X_train.csv</td>\n",
       "      <td>data/y_train.csv</td>\n",
       "      <td>True</td>\n",
       "      <td>mice</td>\n",
       "      <td>NaN</td>\n",
       "      <td>isolation_forest</td>\n",
       "      <td>lasso</td>\n",
       "      <td>0.8</td>\n",
       "      <td>imputation; outliers_detection; feature_selection</td>\n",
       "      <td>ada</td>\n",
       "      <td>...</td>\n",
       "      <td>True</td>\n",
       "      <td>data/X_test.csv</td>\n",
       "      <td>data/y_test_ada_mice.csv</td>\n",
       "      <td>0.390728</td>\n",
       "      <td>51.0</td>\n",
       "      <td>6.0</td>\n",
       "      <td>17.0</td>\n",
       "      <td>arabic</td>\n",
       "      <td>mean</td>\n",
       "      <td>122.0</td>\n",
       "    </tr>\n",
       "  </tbody>\n",
       "</table>\n",
       "<p>37 rows × 24 columns</p>\n",
       "</div>"
      ],
      "text/plain": [
       "   train/data_paths/features train/data_paths/label  \\\n",
       "0           data/X_train.csv       data/y_train.csv   \n",
       "1           data/X_train.csv       data/y_train.csv   \n",
       "2           data/X_train.csv       data/y_train.csv   \n",
       "3           data/X_train.csv       data/y_train.csv   \n",
       "4           data/X_train.csv       data/y_train.csv   \n",
       "5           data/X_train.csv       data/y_train.csv   \n",
       "6           data/X_train.csv       data/y_train.csv   \n",
       "7           data/X_train.csv       data/y_train.csv   \n",
       "8           data/X_train.csv       data/y_train.csv   \n",
       "9           data/X_train.csv       data/y_train.csv   \n",
       "10          data/X_train.csv       data/y_train.csv   \n",
       "11          data/X_train.csv       data/y_train.csv   \n",
       "12          data/X_train.csv       data/y_train.csv   \n",
       "13          data/X_train.csv       data/y_train.csv   \n",
       "14          data/X_train.csv       data/y_train.csv   \n",
       "15          data/X_train.csv       data/y_train.csv   \n",
       "16          data/X_train.csv       data/y_train.csv   \n",
       "17          data/X_train.csv       data/y_train.csv   \n",
       "18          data/X_train.csv       data/y_train.csv   \n",
       "19          data/X_train.csv       data/y_train.csv   \n",
       "20          data/X_train.csv       data/y_train.csv   \n",
       "21          data/X_train.csv       data/y_train.csv   \n",
       "22          data/X_train.csv       data/y_train.csv   \n",
       "23          data/X_train.csv       data/y_train.csv   \n",
       "24          data/X_train.csv       data/y_train.csv   \n",
       "25          data/X_train.csv       data/y_train.csv   \n",
       "26          data/X_train.csv       data/y_train.csv   \n",
       "27          data/X_train.csv       data/y_train.csv   \n",
       "28          data/X_train.csv       data/y_train.csv   \n",
       "29          data/X_train.csv       data/y_train.csv   \n",
       "30          data/X_train.csv       data/y_train.csv   \n",
       "31          data/X_train.csv       data/y_train.csv   \n",
       "32          data/X_train.csv       data/y_train.csv   \n",
       "33          data/X_train.csv       data/y_train.csv   \n",
       "34          data/X_train.csv       data/y_train.csv   \n",
       "35          data/X_train.csv       data/y_train.csv   \n",
       "36          data/X_train.csv       data/y_train.csv   \n",
       "\n",
       "    train/preprocessing/scale train/preprocessing/imputation/method  \\\n",
       "0                        True                                   knn   \n",
       "1                        True                                   knn   \n",
       "2                        True                                   knn   \n",
       "3                        True                                   knn   \n",
       "4                        True                                   knn   \n",
       "5                        True                                   knn   \n",
       "6                        True                                   knn   \n",
       "7                        True                                   knn   \n",
       "8                        True                                   knn   \n",
       "9                        True                                   knn   \n",
       "10                       True                                  mice   \n",
       "11                       True                                  mice   \n",
       "12                       True                                  mice   \n",
       "13                       True                                   knn   \n",
       "14                       True                                  mice   \n",
       "15                       True                                   knn   \n",
       "16                       True                                  mice   \n",
       "17                       True                                   knn   \n",
       "18                       True                                  mice   \n",
       "19                       True                                  mice   \n",
       "20                       True                                  mice   \n",
       "21                       True                                   knn   \n",
       "22                       True                                  mice   \n",
       "23                       True                                  mice   \n",
       "24                       True                                  mice   \n",
       "25                       True                                  mice   \n",
       "26                       True                                   knn   \n",
       "27                       True                                  mice   \n",
       "28                       True                                  mice   \n",
       "29                       True                                  mice   \n",
       "30                       True                                  mice   \n",
       "31                       True                                  mice   \n",
       "32                       True                                  mice   \n",
       "33                       True                                  mice   \n",
       "34                       True                                  mice   \n",
       "35                       True                                  mice   \n",
       "36                       True                                  mice   \n",
       "\n",
       "    train/preprocessing/imputation/arguments/n_neighbors  \\\n",
       "0                                                20.0      \n",
       "1                                                20.0      \n",
       "2                                                20.0      \n",
       "3                                                 8.0      \n",
       "4                                                19.0      \n",
       "5                                                18.0      \n",
       "6                                                20.0      \n",
       "7                                                15.0      \n",
       "8                                                13.0      \n",
       "9                                                 8.0      \n",
       "10                                                NaN      \n",
       "11                                                NaN      \n",
       "12                                                NaN      \n",
       "13                                                5.0      \n",
       "14                                                NaN      \n",
       "15                                               13.0      \n",
       "16                                                NaN      \n",
       "17                                               10.0      \n",
       "18                                                NaN      \n",
       "19                                                NaN      \n",
       "20                                                NaN      \n",
       "21                                               12.0      \n",
       "22                                                NaN      \n",
       "23                                                NaN      \n",
       "24                                                NaN      \n",
       "25                                                NaN      \n",
       "26                                               13.0      \n",
       "27                                                NaN      \n",
       "28                                                NaN      \n",
       "29                                                NaN      \n",
       "30                                                NaN      \n",
       "31                                                NaN      \n",
       "32                                                NaN      \n",
       "33                                                NaN      \n",
       "34                                                NaN      \n",
       "35                                                NaN      \n",
       "36                                                NaN      \n",
       "\n",
       "   train/preprocessing/outliers_detection/method  \\\n",
       "0                               isolation_forest   \n",
       "1                               isolation_forest   \n",
       "2                               isolation_forest   \n",
       "3                               isolation_forest   \n",
       "4                               isolation_forest   \n",
       "5                               isolation_forest   \n",
       "6                               isolation_forest   \n",
       "7                               isolation_forest   \n",
       "8                               isolation_forest   \n",
       "9                               isolation_forest   \n",
       "10                              isolation_forest   \n",
       "11                              isolation_forest   \n",
       "12                              isolation_forest   \n",
       "13                              isolation_forest   \n",
       "14                              isolation_forest   \n",
       "15                              isolation_forest   \n",
       "16                              isolation_forest   \n",
       "17                              isolation_forest   \n",
       "18                              isolation_forest   \n",
       "19                              isolation_forest   \n",
       "20                              isolation_forest   \n",
       "21                              isolation_forest   \n",
       "22                              isolation_forest   \n",
       "23                              isolation_forest   \n",
       "24                              isolation_forest   \n",
       "25                              isolation_forest   \n",
       "26                              isolation_forest   \n",
       "27                              isolation_forest   \n",
       "28                              isolation_forest   \n",
       "29                              isolation_forest   \n",
       "30                              isolation_forest   \n",
       "31                              isolation_forest   \n",
       "32                              isolation_forest   \n",
       "33                              isolation_forest   \n",
       "34                              isolation_forest   \n",
       "35                              isolation_forest   \n",
       "36                              isolation_forest   \n",
       "\n",
       "   train/preprocessing/feature_selection/method  \\\n",
       "0                                         lasso   \n",
       "1                                         lasso   \n",
       "2                                         lasso   \n",
       "3                                         lasso   \n",
       "4                                         lasso   \n",
       "5                                         lasso   \n",
       "6                                         lasso   \n",
       "7                                         lasso   \n",
       "8                                         lasso   \n",
       "9                                         lasso   \n",
       "10                                        lasso   \n",
       "11                                        lasso   \n",
       "12                                        lasso   \n",
       "13                                        lasso   \n",
       "14                                        lasso   \n",
       "15                                        lasso   \n",
       "16                                        lasso   \n",
       "17                                        lasso   \n",
       "18                                        lasso   \n",
       "19                                        lasso   \n",
       "20                                        lasso   \n",
       "21                                        lasso   \n",
       "22                                        lasso   \n",
       "23                                        lasso   \n",
       "24                                        lasso   \n",
       "25                                        lasso   \n",
       "26                                        lasso   \n",
       "27                                        lasso   \n",
       "28                                        lasso   \n",
       "29                                        lasso   \n",
       "30                                        lasso   \n",
       "31                                        lasso   \n",
       "32                                        lasso   \n",
       "33                                        lasso   \n",
       "34                                        lasso   \n",
       "35                                        lasso   \n",
       "36                                        lasso   \n",
       "\n",
       "    train/preprocessing/feature_selection/arguments/alpha  \\\n",
       "0                                                 0.7       \n",
       "1                                                 0.7       \n",
       "2                                                 0.8       \n",
       "3                                                 1.0       \n",
       "4                                                 0.8       \n",
       "5                                                 0.9       \n",
       "6                                                 0.6       \n",
       "7                                                 0.8       \n",
       "8                                                 0.6       \n",
       "9                                                 0.4       \n",
       "10                                                0.7       \n",
       "11                                                0.9       \n",
       "12                                                0.2       \n",
       "13                                                0.7       \n",
       "14                                                0.3       \n",
       "15                                                0.6       \n",
       "16                                                0.4       \n",
       "17                                                0.4       \n",
       "18                                                0.6       \n",
       "19                                                0.6       \n",
       "20                                                0.0       \n",
       "21                                                0.0       \n",
       "22                                                0.7       \n",
       "23                                                0.6       \n",
       "24                                                0.3       \n",
       "25                                                0.7       \n",
       "26                                                0.4       \n",
       "27                                                0.5       \n",
       "28                                                0.1       \n",
       "29                                                0.5       \n",
       "30                                                0.4       \n",
       "31                                                0.5       \n",
       "32                                                0.3       \n",
       "33                                                0.7       \n",
       "34                                                0.3       \n",
       "35                                                0.6       \n",
       "36                                                0.8       \n",
       "\n",
       "                  train/preprocessing/execution_order train/model_type  ...  \\\n",
       "0   imputation; outliers_detection; feature_selection              ada  ...   \n",
       "1   imputation; outliers_detection; feature_selection              ada  ...   \n",
       "2   imputation; outliers_detection; feature_selection              ada  ...   \n",
       "3   imputation; outliers_detection; feature_selection              ada  ...   \n",
       "4   imputation; outliers_detection; feature_selection              ada  ...   \n",
       "5   imputation; outliers_detection; feature_selection              ada  ...   \n",
       "6   imputation; outliers_detection; feature_selection              ada  ...   \n",
       "7   imputation; outliers_detection; feature_selection              ada  ...   \n",
       "8   imputation; outliers_detection; feature_selection              ada  ...   \n",
       "9   imputation; outliers_detection; feature_selection              ada  ...   \n",
       "10  imputation; outliers_detection; feature_selection              ada  ...   \n",
       "11  imputation; outliers_detection; feature_selection              ada  ...   \n",
       "12  imputation; outliers_detection; feature_selection              ada  ...   \n",
       "13  imputation; outliers_detection; feature_selection              ada  ...   \n",
       "14  imputation; outliers_detection; feature_selection              ada  ...   \n",
       "15  imputation; outliers_detection; feature_selection              ada  ...   \n",
       "16  imputation; outliers_detection; feature_selection              ada  ...   \n",
       "17  imputation; outliers_detection; feature_selection              ada  ...   \n",
       "18  imputation; outliers_detection; feature_selection              ada  ...   \n",
       "19  imputation; outliers_detection; feature_selection              ada  ...   \n",
       "20  imputation; outliers_detection; feature_selection              ada  ...   \n",
       "21  imputation; outliers_detection; feature_selection              ada  ...   \n",
       "22  imputation; outliers_detection; feature_selection              ada  ...   \n",
       "23  imputation; outliers_detection; feature_selection              ada  ...   \n",
       "24  imputation; outliers_detection; feature_selection              ada  ...   \n",
       "25  imputation; outliers_detection; feature_selection              ada  ...   \n",
       "26  imputation; outliers_detection; feature_selection              ada  ...   \n",
       "27  imputation; outliers_detection; feature_selection              ada  ...   \n",
       "28  imputation; outliers_detection; feature_selection              ada  ...   \n",
       "29  imputation; outliers_detection; feature_selection              ada  ...   \n",
       "30  imputation; outliers_detection; feature_selection              ada  ...   \n",
       "31  imputation; outliers_detection; feature_selection              ada  ...   \n",
       "32  imputation; outliers_detection; feature_selection              ada  ...   \n",
       "33  imputation; outliers_detection; feature_selection              ada  ...   \n",
       "34  imputation; outliers_detection; feature_selection              ada  ...   \n",
       "35  imputation; outliers_detection; feature_selection              ada  ...   \n",
       "36  imputation; outliers_detection; feature_selection              ada  ...   \n",
       "\n",
       "    evaluate/run  evaluate/data_paths/features  evaluate/data_paths/label  \\\n",
       "0           True               data/X_test.csv        data/y_test_ada.csv   \n",
       "1           True               data/X_test.csv        data/y_test_ada.csv   \n",
       "2           True               data/X_test.csv        data/y_test_ada.csv   \n",
       "3           True               data/X_test.csv        data/y_test_ada.csv   \n",
       "4           True               data/X_test.csv        data/y_test_ada.csv   \n",
       "5           True               data/X_test.csv        data/y_test_ada.csv   \n",
       "6           True               data/X_test.csv        data/y_test_ada.csv   \n",
       "7           True               data/X_test.csv        data/y_test_ada.csv   \n",
       "8           True               data/X_test.csv        data/y_test_ada.csv   \n",
       "9           True               data/X_test.csv        data/y_test_ada.csv   \n",
       "10          True               data/X_test.csv   data/y_test_ada_mice.csv   \n",
       "11          True               data/X_test.csv   data/y_test_ada_mice.csv   \n",
       "12          True               data/X_test.csv   data/y_test_ada_mice.csv   \n",
       "13          True               data/X_test.csv        data/y_test_ada.csv   \n",
       "14          True               data/X_test.csv   data/y_test_ada_mice.csv   \n",
       "15          True               data/X_test.csv        data/y_test_ada.csv   \n",
       "16          True               data/X_test.csv   data/y_test_ada_mice.csv   \n",
       "17          True               data/X_test.csv        data/y_test_ada.csv   \n",
       "18          True               data/X_test.csv   data/y_test_ada_mice.csv   \n",
       "19          True               data/X_test.csv   data/y_test_ada_mice.csv   \n",
       "20          True               data/X_test.csv   data/y_test_ada_mice.csv   \n",
       "21          True               data/X_test.csv        data/y_test_ada.csv   \n",
       "22          True               data/X_test.csv   data/y_test_ada_mice.csv   \n",
       "23          True               data/X_test.csv   data/y_test_ada_mice.csv   \n",
       "24          True               data/X_test.csv   data/y_test_ada_mice.csv   \n",
       "25          True               data/X_test.csv   data/y_test_ada_mice.csv   \n",
       "26          True               data/X_test.csv        data/y_test_ada.csv   \n",
       "27          True               data/X_test.csv   data/y_test_ada_mice.csv   \n",
       "28          True               data/X_test.csv   data/y_test_ada_mice.csv   \n",
       "29          True               data/X_test.csv   data/y_test_ada_mice.csv   \n",
       "30          True               data/X_test.csv   data/y_test_ada_mice.csv   \n",
       "31          True               data/X_test.csv   data/y_test_ada_mice.csv   \n",
       "32          True               data/X_test.csv   data/y_test_ada_mice.csv   \n",
       "33          True               data/X_test.csv   data/y_test_ada_mice.csv   \n",
       "34          True               data/X_test.csv   data/y_test_ada_mice.csv   \n",
       "35          True               data/X_test.csv   data/y_test_ada_mice.csv   \n",
       "36          True               data/X_test.csv   data/y_test_ada_mice.csv   \n",
       "\n",
       "   train_results  \\\n",
       "0       0.448614   \n",
       "1       0.445853   \n",
       "2       0.445686   \n",
       "3       0.443252   \n",
       "4       0.441705   \n",
       "5       0.439079   \n",
       "6       0.428652   \n",
       "7       0.428306   \n",
       "8       0.423359   \n",
       "9       0.422158   \n",
       "10      0.421865   \n",
       "11      0.420403   \n",
       "12      0.420267   \n",
       "13      0.418899   \n",
       "14      0.418210   \n",
       "15      0.417478   \n",
       "16      0.417202   \n",
       "17      0.417075   \n",
       "18      0.416992   \n",
       "19      0.416261   \n",
       "20      0.415649   \n",
       "21      0.414768   \n",
       "22      0.410950   \n",
       "23      0.410201   \n",
       "24      0.408745   \n",
       "25      0.408019   \n",
       "26      0.407219   \n",
       "27      0.406673   \n",
       "28      0.404357   \n",
       "29      0.402709   \n",
       "30      0.401215   \n",
       "31      0.399086   \n",
       "32      0.397811   \n",
       "33      0.395282   \n",
       "34      0.394254   \n",
       "35      0.393656   \n",
       "36      0.390728   \n",
       "\n",
       "    train/preprocessing/imputation/arguments/estimator_params/n_estimators  \\\n",
       "0                                                 NaN                        \n",
       "1                                                 NaN                        \n",
       "2                                                 NaN                        \n",
       "3                                                 NaN                        \n",
       "4                                                 NaN                        \n",
       "5                                                 NaN                        \n",
       "6                                                 NaN                        \n",
       "7                                                 NaN                        \n",
       "8                                                 NaN                        \n",
       "9                                                 NaN                        \n",
       "10                                              126.0                        \n",
       "11                                              173.0                        \n",
       "12                                               87.0                        \n",
       "13                                                NaN                        \n",
       "14                                              157.0                        \n",
       "15                                                NaN                        \n",
       "16                                              112.0                        \n",
       "17                                                NaN                        \n",
       "18                                               85.0                        \n",
       "19                                              111.0                        \n",
       "20                                              114.0                        \n",
       "21                                                NaN                        \n",
       "22                                              130.0                        \n",
       "23                                               80.0                        \n",
       "24                                               83.0                        \n",
       "25                                              149.0                        \n",
       "26                                                NaN                        \n",
       "27                                              100.0                        \n",
       "28                                              129.0                        \n",
       "29                                              163.0                        \n",
       "30                                              189.0                        \n",
       "31                                              100.0                        \n",
       "32                                               92.0                        \n",
       "33                                               99.0                        \n",
       "34                                               51.0                        \n",
       "35                                              122.0                        \n",
       "36                                               51.0                        \n",
       "\n",
       "   train/preprocessing/imputation/arguments/estimator_params/max_depth  \\\n",
       "0                                                 NaN                    \n",
       "1                                                 NaN                    \n",
       "2                                                 NaN                    \n",
       "3                                                 NaN                    \n",
       "4                                                 NaN                    \n",
       "5                                                 NaN                    \n",
       "6                                                 NaN                    \n",
       "7                                                 NaN                    \n",
       "8                                                 NaN                    \n",
       "9                                                 NaN                    \n",
       "10                                                7.0                    \n",
       "11                                                2.0                    \n",
       "12                                                8.0                    \n",
       "13                                                NaN                    \n",
       "14                                                9.0                    \n",
       "15                                                NaN                    \n",
       "16                                                5.0                    \n",
       "17                                                NaN                    \n",
       "18                                                9.0                    \n",
       "19                                                4.0                    \n",
       "20                                               10.0                    \n",
       "21                                                NaN                    \n",
       "22                                                7.0                    \n",
       "23                                                8.0                    \n",
       "24                                                6.0                    \n",
       "25                                                5.0                    \n",
       "26                                                NaN                    \n",
       "27                                                5.0                    \n",
       "28                                                4.0                    \n",
       "29                                                9.0                    \n",
       "30                                                6.0                    \n",
       "31                                                5.0                    \n",
       "32                                                2.0                    \n",
       "33                                                8.0                    \n",
       "34                                                3.0                    \n",
       "35                                                3.0                    \n",
       "36                                                6.0                    \n",
       "\n",
       "   train/preprocessing/imputation/arguments/mice_params/max_iter  \\\n",
       "0                                                 NaN              \n",
       "1                                                 NaN              \n",
       "2                                                 NaN              \n",
       "3                                                 NaN              \n",
       "4                                                 NaN              \n",
       "5                                                 NaN              \n",
       "6                                                 NaN              \n",
       "7                                                 NaN              \n",
       "8                                                 NaN              \n",
       "9                                                 NaN              \n",
       "10                                               19.0              \n",
       "11                                               10.0              \n",
       "12                                               13.0              \n",
       "13                                                NaN              \n",
       "14                                                8.0              \n",
       "15                                                NaN              \n",
       "16                                               17.0              \n",
       "17                                                NaN              \n",
       "18                                               16.0              \n",
       "19                                               12.0              \n",
       "20                                               16.0              \n",
       "21                                                NaN              \n",
       "22                                               16.0              \n",
       "23                                               19.0              \n",
       "24                                               16.0              \n",
       "25                                                8.0              \n",
       "26                                                NaN              \n",
       "27                                               10.0              \n",
       "28                                               12.0              \n",
       "29                                               10.0              \n",
       "30                                               17.0              \n",
       "31                                               10.0              \n",
       "32                                                7.0              \n",
       "33                                                6.0              \n",
       "34                                               17.0              \n",
       "35                                                9.0              \n",
       "36                                               17.0              \n",
       "\n",
       "    train/preprocessing/imputation/arguments/mice_params/imputation_order  \\\n",
       "0                                                 NaN                       \n",
       "1                                                 NaN                       \n",
       "2                                                 NaN                       \n",
       "3                                                 NaN                       \n",
       "4                                                 NaN                       \n",
       "5                                                 NaN                       \n",
       "6                                                 NaN                       \n",
       "7                                                 NaN                       \n",
       "8                                                 NaN                       \n",
       "9                                                 NaN                       \n",
       "10                                         descending                       \n",
       "11                                         descending                       \n",
       "12                                             arabic                       \n",
       "13                                                NaN                       \n",
       "14                                         descending                       \n",
       "15                                                NaN                       \n",
       "16                                             random                       \n",
       "17                                                NaN                       \n",
       "18                                         descending                       \n",
       "19                                             random                       \n",
       "20                                              roman                       \n",
       "21                                                NaN                       \n",
       "22                                          ascending                       \n",
       "23                                          ascending                       \n",
       "24                                         descending                       \n",
       "25                                              roman                       \n",
       "26                                                NaN                       \n",
       "27                                         descending                       \n",
       "28                                          ascending                       \n",
       "29                                              roman                       \n",
       "30                                          ascending                       \n",
       "31                                         descending                       \n",
       "32                                         descending                       \n",
       "33                                          ascending                       \n",
       "34                                             random                       \n",
       "35                                             arabic                       \n",
       "36                                             arabic                       \n",
       "\n",
       "    train/preprocessing/imputation/arguments/simple_params/strategy  \\\n",
       "0                                                 NaN                 \n",
       "1                                                 NaN                 \n",
       "2                                                 NaN                 \n",
       "3                                                 NaN                 \n",
       "4                                                 NaN                 \n",
       "5                                                 NaN                 \n",
       "6                                                 NaN                 \n",
       "7                                                 NaN                 \n",
       "8                                                 NaN                 \n",
       "9                                                 NaN                 \n",
       "10                                               mean                 \n",
       "11                                      most_frequent                 \n",
       "12                                           constant                 \n",
       "13                                                NaN                 \n",
       "14                                             median                 \n",
       "15                                                NaN                 \n",
       "16                                             median                 \n",
       "17                                                NaN                 \n",
       "18                                             median                 \n",
       "19                                             median                 \n",
       "20                                               mean                 \n",
       "21                                                NaN                 \n",
       "22                                           constant                 \n",
       "23                                      most_frequent                 \n",
       "24                                             median                 \n",
       "25                                               mean                 \n",
       "26                                                NaN                 \n",
       "27                                               mean                 \n",
       "28                                             median                 \n",
       "29                                               mean                 \n",
       "30                                             median                 \n",
       "31                                               mean                 \n",
       "32                                      most_frequent                 \n",
       "33                                               mean                 \n",
       "34                                               mean                 \n",
       "35                                           constant                 \n",
       "36                                               mean                 \n",
       "\n",
       "    train/preprocessing/imputation/arguments/num_corr_features  \n",
       "0                                                 NaN           \n",
       "1                                                 NaN           \n",
       "2                                                 NaN           \n",
       "3                                                 NaN           \n",
       "4                                                 NaN           \n",
       "5                                                 NaN           \n",
       "6                                                 NaN           \n",
       "7                                                 NaN           \n",
       "8                                                 NaN           \n",
       "9                                                 NaN           \n",
       "10                                               86.0           \n",
       "11                                              115.0           \n",
       "12                                               24.0           \n",
       "13                                                NaN           \n",
       "14                                               62.0           \n",
       "15                                                NaN           \n",
       "16                                               11.0           \n",
       "17                                                NaN           \n",
       "18                                               74.0           \n",
       "19                                               63.0           \n",
       "20                                                NaN           \n",
       "21                                                NaN           \n",
       "22                                              129.0           \n",
       "23                                               37.0           \n",
       "24                                               22.0           \n",
       "25                                               73.0           \n",
       "26                                                NaN           \n",
       "27                                               50.0           \n",
       "28                                               58.0           \n",
       "29                                               15.0           \n",
       "30                                                NaN           \n",
       "31                                                NaN           \n",
       "32                                               82.0           \n",
       "33                                                NaN           \n",
       "34                                              112.0           \n",
       "35                                               66.0           \n",
       "36                                              122.0           \n",
       "\n",
       "[37 rows x 24 columns]"
      ]
     },
     "execution_count": 9,
     "metadata": {},
     "output_type": "execute_result"
    }
   ],
   "source": [
    "results"
   ]
  },
  {
   "cell_type": "markdown",
   "metadata": {},
   "source": [
    "#### Get best params and rerun the trial to get predictions"
   ]
  },
  {
   "cell_type": "code",
   "execution_count": 10,
   "metadata": {},
   "outputs": [],
   "source": [
    "def get_best_params(ax_client):\n",
    "    print(ax_client.experiment.fetch_data().df.sort_values(by='mean', ascending=False).iloc[0])\n",
    "    best_trial_idx = ax_client.experiment.fetch_data().df.sort_values(by='mean', ascending=False).iloc[0].trial_index\n",
    "    best_params = ax_client.experiment.trials[best_trial_idx].arm.parameters\n",
    "    return best_params\n"
   ]
  },
  {
   "cell_type": "code",
   "execution_count": 14,
   "metadata": {},
   "outputs": [
    {
     "name": "stdout",
     "output_type": "stream",
     "text": [
      "arm_name                      6_0\n",
      "metric_name    preprocessing_tune\n",
      "mean                     0.421865\n",
      "sem                           NaN\n",
      "trial_index                     6\n",
      "Name: 6, dtype: object\n"
     ]
    }
   ],
   "source": [
    "initial_params = get_best_params(ax_client)"
   ]
  },
  {
   "cell_type": "code",
   "execution_count": 15,
   "metadata": {},
   "outputs": [
    {
     "name": "stderr",
     "output_type": "stream",
     "text": [
      "[INFO 11-12 16:58:39] ax.service.ax_client: Starting optimization with verbose logging. To disable logging, set the `verbose_logging` argument to `False`. Note that float values in the logs are rounded to 6 decimal points.\n",
      "[INFO 11-12 16:58:39] ax.service.utils.instantiation: Inferred value type of ParameterType.STRING for parameter mice.simple_params.strategy. If that is not the expected value type, you can explicity specify 'value_type' ('int', 'float', 'bool' or 'str') in parameter dict.\n",
      "c:\\Users\\alois\\anaconda3\\Lib\\site-packages\\ax\\core\\parameter.py:517: UserWarning: `is_ordered` is not specified for `ChoiceParameter` \"mice.simple_params.strategy\". Defaulting to `False` for parameters of `ParameterType` STRING. To override this behavior (or avoid this warning), specify `is_ordered` during `ChoiceParameter` construction.\n",
      "  warn(\n",
      "c:\\Users\\alois\\anaconda3\\Lib\\site-packages\\ax\\core\\parameter.py:517: UserWarning: `sort_values` is not specified for `ChoiceParameter` \"mice.simple_params.strategy\". Defaulting to `False` for parameters of `ParameterType` STRING. To override this behavior (or avoid this warning), specify `sort_values` during `ChoiceParameter` construction.\n",
      "  warn(\n",
      "[INFO 11-12 16:58:39] ax.service.utils.instantiation: Inferred value type of ParameterType.STRING for parameter mice.mice_params.imputation_order. If that is not the expected value type, you can explicity specify 'value_type' ('int', 'float', 'bool' or 'str') in parameter dict.\n",
      "c:\\Users\\alois\\anaconda3\\Lib\\site-packages\\ax\\core\\parameter.py:517: UserWarning: `is_ordered` is not specified for `ChoiceParameter` \"mice.mice_params.imputation_order\". Defaulting to `False` for parameters of `ParameterType` STRING. To override this behavior (or avoid this warning), specify `is_ordered` during `ChoiceParameter` construction.\n",
      "  warn(\n",
      "c:\\Users\\alois\\anaconda3\\Lib\\site-packages\\ax\\core\\parameter.py:517: UserWarning: `sort_values` is not specified for `ChoiceParameter` \"mice.mice_params.imputation_order\". Defaulting to `False` for parameters of `ParameterType` STRING. To override this behavior (or avoid this warning), specify `sort_values` during `ChoiceParameter` construction.\n",
      "  warn(\n",
      "[INFO 11-12 16:58:39] ax.service.utils.instantiation: Created search space: SearchSpace(parameters=[RangeParameter(name='mice.estimator_params.n_estimators', parameter_type=INT, range=[50, 200]), RangeParameter(name='mice.estimator_params.max_depth', parameter_type=INT, range=[2, 10]), RangeParameter(name='mice.mice_params.max_iter', parameter_type=INT, range=[5, 20]), RangeParameter(name='mice.num_corr_features', parameter_type=INT, range=[5, 150]), RangeParameter(name='lasso_alpha', parameter_type=INT, range=[0, 10]), ChoiceParameter(name='mice.simple_params.strategy', parameter_type=STRING, values=['mean', 'median', 'most_frequent', 'constant'], is_ordered=False, sort_values=False), ChoiceParameter(name='mice.mice_params.imputation_order', parameter_type=STRING, values=['ascending', 'descending', 'roman', 'arabic', 'random'], is_ordered=False, sort_values=False), RangeParameter(name='n_estimators', parameter_type=INT, range=[10, 100]), RangeParameter(name='learning_rate', parameter_type=FLOAT, range=[0.01, 1.0])], parameter_constraints=[]).\n",
      "[INFO 11-12 16:58:39] ax.modelbridge.dispatch_utils: Using Bayesian optimization with a categorical kernel for improved performance with a large number of unordered categorical parameters.\n",
      "[INFO 11-12 16:58:39] ax.modelbridge.dispatch_utils: Calculating the number of remaining initialization trials based on num_initialization_trials=None max_initialization_trials=None num_tunable_parameters=9 num_trials=None use_batch_trials=False\n",
      "[INFO 11-12 16:58:39] ax.modelbridge.dispatch_utils: calculated num_initialization_trials=18\n",
      "[INFO 11-12 16:58:39] ax.modelbridge.dispatch_utils: num_completed_initialization_trials=0 num_remaining_initialization_trials=18\n",
      "[INFO 11-12 16:58:39] ax.modelbridge.dispatch_utils: Using Bayesian Optimization generation strategy: GenerationStrategy(name='Sobol+BO_MIXED', steps=[Sobol for 18 trials, BO_MIXED for subsequent trials]). Iterations after 18 will take longer to generate due to model-fitting.\n",
      "[INFO 11-12 16:58:39] ax.core.experiment: Attached custom parameterizations [{'mice.estimator_params.n_estimators': 126, 'mice.estimator_params.max_depth': 7, 'mice.mice_params.max_iter': 19, 'mice.num_corr_features': 86, 'lasso_alpha': 7, 'n_estimators': 62, 'learning_rate': 0.639519, 'mice.simple_params.strategy': 'mean', 'mice.mice_params.imputation_order': 'descending'}] as trial 0.\n"
     ]
    },
    {
     "name": "stdout",
     "output_type": "stream",
     "text": [
      "{'train': {'data_paths': {'features': 'data/X_train.csv', 'label': 'data/y_train.csv'}, 'preprocessing': {'scale': True, 'imputation': {'method': 'mice', 'arguments': {'estimator_params': {'n_estimators': 126, 'max_depth': 7}, 'mice_params': {'max_iter': 19, 'imputation_order': 'descending'}, 'simple_params': {'strategy': 'mean'}, 'num_corr_features': 86}}, 'outliers_detection': {'method': 'isolation_forest', 'arguments': {}}, 'feature_selection': {'method': 'lasso', 'arguments': {'alpha': 0.7}}, 'execution_order': ['imputation', 'outliers_detection', 'feature_selection']}, 'model_type': 'ada', 'model_config': {'n_estimators': 62, 'learning_rate': 0.6395189069211483}, 'cross_validation': 5, 'results_path': 'results/overview.csv'}, 'evaluate': {'run': True, 'data_paths': {'features': 'data/X_test.csv', 'label': 'data/y_test_ada_mice.csv'}}}\n"
     ]
    },
    {
     "name": "stderr",
     "output_type": "stream",
     "text": [
      "c:\\Users\\alois\\anaconda3\\Lib\\site-packages\\sklearn\\impute\\_iterative.py:796: ConvergenceWarning: [IterativeImputer] Early stopping criterion not reached.\n",
      "  warnings.warn(\n"
     ]
    },
    {
     "name": "stdout",
     "output_type": "stream",
     "text": [
      "Number of selected features: 24\n"
     ]
    },
    {
     "name": "stderr",
     "output_type": "stream",
     "text": [
      "c:\\Users\\alois\\anaconda3\\Lib\\site-packages\\sklearn\\impute\\_iterative.py:796: ConvergenceWarning: [IterativeImputer] Early stopping criterion not reached.\n",
      "  warnings.warn(\n"
     ]
    },
    {
     "name": "stdout",
     "output_type": "stream",
     "text": [
      "Number of selected features: 24\n"
     ]
    },
    {
     "name": "stderr",
     "output_type": "stream",
     "text": [
      "c:\\Users\\alois\\anaconda3\\Lib\\site-packages\\sklearn\\impute\\_iterative.py:796: ConvergenceWarning: [IterativeImputer] Early stopping criterion not reached.\n",
      "  warnings.warn(\n"
     ]
    },
    {
     "name": "stdout",
     "output_type": "stream",
     "text": [
      "Number of selected features: 22\n"
     ]
    },
    {
     "name": "stderr",
     "output_type": "stream",
     "text": [
      "c:\\Users\\alois\\anaconda3\\Lib\\site-packages\\sklearn\\impute\\_iterative.py:796: ConvergenceWarning: [IterativeImputer] Early stopping criterion not reached.\n",
      "  warnings.warn(\n"
     ]
    },
    {
     "name": "stdout",
     "output_type": "stream",
     "text": [
      "Number of selected features: 25\n"
     ]
    },
    {
     "name": "stderr",
     "output_type": "stream",
     "text": [
      "c:\\Users\\alois\\anaconda3\\Lib\\site-packages\\sklearn\\impute\\_iterative.py:796: ConvergenceWarning: [IterativeImputer] Early stopping criterion not reached.\n",
      "  warnings.warn(\n"
     ]
    },
    {
     "name": "stdout",
     "output_type": "stream",
     "text": [
      "Number of selected features: 20\n"
     ]
    },
    {
     "name": "stderr",
     "output_type": "stream",
     "text": [
      "c:\\Users\\alois\\anaconda3\\Lib\\site-packages\\sklearn\\impute\\_iterative.py:796: ConvergenceWarning: [IterativeImputer] Early stopping criterion not reached.\n",
      "  warnings.warn(\n"
     ]
    },
    {
     "name": "stdout",
     "output_type": "stream",
     "text": [
      "Number of selected features: 23\n"
     ]
    },
    {
     "name": "stderr",
     "output_type": "stream",
     "text": [
      "[INFO 11-12 17:37:43] ax.service.ax_client: Completed trial 0 with data: {'preprocessing_tune': (0.405412, None)}.\n"
     ]
    },
    {
     "ename": "NameError",
     "evalue": "name 'n2' is not defined",
     "output_type": "error",
     "traceback": [
      "\u001b[1;31m---------------------------------------------------------------------------\u001b[0m",
      "\u001b[1;31mNameError\u001b[0m                                 Traceback (most recent call last)",
      "\u001b[1;32mc:\\Users\\alois\\Desktop\\Advanced ML\\AML_Task_1\\notebooks\\hyper_tune.ipynb Cell 17\u001b[0m line \u001b[0;36m1\n\u001b[0;32m      <a href='vscode-notebook-cell:/c%3A/Users/alois/Desktop/Advanced%20ML/AML_Task_1/notebooks/hyper_tune.ipynb#X22sZmlsZQ%3D%3D?line=8'>9</a>\u001b[0m _, trial_id \u001b[39m=\u001b[39m ax_client\u001b[39m.\u001b[39mattach_trial(initial_params)\n\u001b[0;32m     <a href='vscode-notebook-cell:/c%3A/Users/alois/Desktop/Advanced%20ML/AML_Task_1/notebooks/hyper_tune.ipynb#X22sZmlsZQ%3D%3D?line=9'>10</a>\u001b[0m ax_client\u001b[39m.\u001b[39mcomplete_trial(trial_id, raw_data\u001b[39m=\u001b[39mevaluate_model(initial_params))\n\u001b[1;32m---> <a href='vscode-notebook-cell:/c%3A/Users/alois/Desktop/Advanced%20ML/AML_Task_1/notebooks/hyper_tune.ipynb#X22sZmlsZQ%3D%3D?line=11'>12</a>\u001b[0m \u001b[39mfor\u001b[39;00m i \u001b[39min\u001b[39;00m \u001b[39mrange\u001b[39m(n2):    \n\u001b[0;32m     <a href='vscode-notebook-cell:/c%3A/Users/alois/Desktop/Advanced%20ML/AML_Task_1/notebooks/hyper_tune.ipynb#X22sZmlsZQ%3D%3D?line=12'>13</a>\u001b[0m     curr_parameters, trial_index \u001b[39m=\u001b[39m ax_client\u001b[39m.\u001b[39mget_next_trial()\n\u001b[0;32m     <a href='vscode-notebook-cell:/c%3A/Users/alois/Desktop/Advanced%20ML/AML_Task_1/notebooks/hyper_tune.ipynb#X22sZmlsZQ%3D%3D?line=13'>14</a>\u001b[0m     ax_client\u001b[39m.\u001b[39mcomplete_trial(trial_index\u001b[39m=\u001b[39mtrial_index, raw_data\u001b[39m=\u001b[39mevaluate_model(curr_parameters))\n",
      "\u001b[1;31mNameError\u001b[0m: name 'n2' is not defined"
     ]
    }
   ],
   "source": [
    "# Rerun trial nb_trial\n",
    "ax_client = AxClient()\n",
    "objective_name = 'preprocessing_tune'\n",
    "ax_client.create_experiment(\n",
    "    parameters=parameters,\n",
    "    objective_name=objective_name,\n",
    "    minimize=False\n",
    ")\n",
    "_, trial_id = ax_client.attach_trial(initial_params)\n",
    "ax_client.complete_trial(trial_id, raw_data=evaluate_model(initial_params))\n",
    "\n",
    "for i in range(10):    \n",
    "    curr_parameters, trial_index = ax_client.get_next_trial()\n",
    "    ax_client.complete_trial(trial_index=trial_index, raw_data=evaluate_model(curr_parameters))"
   ]
  },
  {
   "cell_type": "code",
   "execution_count": null,
   "id": "c246abdf-6602-4356-9fce-3bfd114a3829",
   "metadata": {},
   "outputs": [],
   "source": [
    "best_param_dct_linear = results[results['train/model_type'] == 'ada'].iloc[0].to_dict()\n",
    "del best_param_dct_linear['train_results']"
   ]
  },
  {
   "cell_type": "code",
   "execution_count": null,
   "id": "e271d0b2-94bf-44aa-bdbb-703a469bd97d",
   "metadata": {},
   "outputs": [],
   "source": [
    "best_param_dct_linear"
   ]
  },
  {
   "cell_type": "code",
   "execution_count": null,
   "id": "6b9a85d5-d005-4ff9-956c-2d0046bfd6c8",
   "metadata": {},
   "outputs": [],
   "source": [
    "best_param_config = unflatten_dict(best_param_dct_linear)\n",
    "best_param_config['evaluate']['data_paths']['label'] = 'results/y_test_svm.csv'\n",
    "best_param_config['evaluate']['run'] = True\n",
    "best_param_config['train']['model_config'] = {}\n",
    "best_param_config['train']['preprocessing']['outliers_detection']['arguments'] = {}"
   ]
  },
  {
   "cell_type": "code",
   "execution_count": null,
   "id": "c76fd738-96c7-485a-b3a0-892f5449f244",
   "metadata": {},
   "outputs": [],
   "source": [
    "main(best_param_config)"
   ]
  },
  {
   "cell_type": "code",
   "execution_count": null,
   "id": "0281e412",
   "metadata": {},
   "outputs": [],
   "source": [
    "pd.read_csv('results/overview.csv').sort_values(by='train_results', ascending=False).drop_duplicates().reset_index(drop=True)"
   ]
  }
 ],
 "metadata": {
  "kernelspec": {
   "display_name": "aml_task1",
   "language": "python",
   "name": "python3"
  },
  "language_info": {
   "codemirror_mode": {
    "name": "ipython",
    "version": 3
   },
   "file_extension": ".py",
   "mimetype": "text/x-python",
   "name": "python",
   "nbconvert_exporter": "python",
   "pygments_lexer": "ipython3",
   "version": "3.11.4"
  }
 },
 "nbformat": 4,
 "nbformat_minor": 5
}
